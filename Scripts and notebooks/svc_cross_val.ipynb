{
 "cells": [
  {
   "metadata": {},
   "cell_type": "markdown",
   "source": "Import",
   "id": "666e2fe62b587b13"
  },
  {
   "metadata": {
    "ExecuteTime": {
     "end_time": "2025-04-18T23:25:29.898287Z",
     "start_time": "2025-04-18T23:25:21.454454Z"
    }
   },
   "cell_type": "code",
   "source": [
    "from sklearn import svm\n",
    "import pandas as pd\n",
    "import numpy as np\n",
    "import matplotlib.pyplot as plt\n",
    "from sklearn.preprocessing import KBinsDiscretizer\n",
    "from sklearn.model_selection import cross_val_score\n",
    "from sklearn.model_selection import train_test_split\n",
    "from sklearn import metrics\n",
    "import mlxtend\n",
    "from mlxtend.plotting import plot_decision_regions\n",
    "from sklearn import preprocessing\n"
   ],
   "id": "31af3e9df9ea579f",
   "outputs": [],
   "execution_count": 3
  },
  {
   "metadata": {},
   "cell_type": "markdown",
   "source": "",
   "id": "cf9189c3a5a4661"
  },
  {
   "metadata": {
    "ExecuteTime": {
     "end_time": "2025-04-18T23:55:47.430803Z",
     "start_time": "2025-04-18T23:55:47.160892Z"
    }
   },
   "cell_type": "code",
   "source": [
    "df = pd.read_csv('preprocessed_data.csv',index_col=0)\n",
    "X = df.drop(columns=['class'])\n",
    "Y = df['class']\n",
    "plt.boxplot(X)\n",
    "plt.show()\n",
    "print(df.describe())"
   ],
   "id": "f88acd17ce9f627d",
   "outputs": [
    {
     "data": {
      "text/plain": [
       "<Figure size 640x480 with 1 Axes>"
      ],
      "image/png": "[encoded data removed]"
     },
     "metadata": {},
     "output_type": "display_data"
    },
    {
     "name": "stdout",
     "output_type": "stream",
     "text": [
      "              alpha         delta             u             g             r  \\\n",
      "count  97814.000000  97814.000000  97814.000000  97814.000000  97814.000000   \n",
      "mean     177.599567     24.150785     22.071659     20.630475     19.636028   \n",
      "std       96.535545     19.654619      2.239830      2.023809      1.834898   \n",
      "min        0.005528    -18.785328     14.311050     14.520380     14.168760   \n",
      "25%      127.478240      5.144758     20.332845     18.938333     18.100860   \n",
      "50%      180.868223     23.685853     22.157445     21.092910     20.105900   \n",
      "75%      233.890810     39.908920     23.670853     22.131880     21.031697   \n",
      "max      359.999810     83.000519     29.234380     26.714980     25.121300   \n",
      "\n",
      "                  i             z      redshift  \n",
      "count  97814.000000  97814.000000  97814.000000  \n",
      "mean      19.065337     18.747675      0.521963  \n",
      "std        1.728697      1.737013      0.595197  \n",
      "min       13.899870     13.559570     -0.009971  \n",
      "25%       17.699045     17.430633      0.051332  \n",
      "50%       19.378530     18.978620      0.409437  \n",
      "75%       20.359738     19.887667      0.677835  \n",
      "max       24.285680     24.000870      2.768771  \n"
     ]
    }
   ],
   "execution_count": 24
  },
  {
   "metadata": {
    "ExecuteTime": {
     "end_time": "2025-04-18T23:55:50.050196Z",
     "start_time": "2025-04-18T23:55:48.945232Z"
    }
   },
   "cell_type": "code",
   "source": [
    "dc = KBinsDiscretizer(n_bins=10, encode='ordinal', strategy='kmeans')\n",
    "\n",
    "dc.fit(X[['alpha']])\n",
    "X['alpha']= dc.transform(X[['alpha']])\n",
    "\n",
    "dc.fit(X[['delta']])\n",
    "X['delta']= dc.transform(X[['delta']])\n",
    "\n",
    "dc.fit(X[['u']])\n",
    "X['u']= dc.transform(X[['u']])\n",
    "\n",
    "dc.fit(X[['g']])\n",
    "X['g']= dc.transform(X[['g']])\n",
    "\n",
    "dc.fit(X[['r']])\n",
    "X['r']= dc.transform(X[['r']])\n",
    "\n",
    "dc.fit(X[['i']])\n",
    "X['i']= dc.transform(X[['i']])\n",
    "\n",
    "dc.fit(X[['z']])\n",
    "X['z']= dc.transform(X[['z']])\n",
    "\n",
    "dc.fit(X[['redshift']])\n",
    "X['redshift']= dc.transform(X[['redshift']])\n",
    "\n",
    "print(X.head())"
   ],
   "id": "6b7919012b6be69d",
   "outputs": [
    {
     "name": "stdout",
     "output_type": "stream",
     "text": [
      "   alpha  delta    u    g    r    i    z  redshift\n",
      "0    3.0    5.0  7.0  7.0  5.0  5.0  5.0       3.0\n",
      "1    3.0    5.0  8.0  7.0  9.0  8.0  8.0       4.0\n",
      "2    3.0    5.0  8.0  7.0  6.0  5.0  5.0       3.0\n",
      "3    8.0    1.0  5.0  8.0  7.0  7.0  5.0       4.0\n",
      "4    9.0    3.0  2.0  1.0  1.0  1.0  1.0       0.0\n"
     ]
    }
   ],
   "execution_count": 25
  },
  {
   "metadata": {},
   "cell_type": "markdown",
   "source": "Dataset 2",
   "id": "a7054c17890d91bb"
  },
  {
   "metadata": {
    "ExecuteTime": {
     "end_time": "2025-04-19T00:09:40.173078Z",
     "start_time": "2025-04-19T00:09:40.043554Z"
    }
   },
   "cell_type": "code",
   "source": [
    "X = pd.read_csv('../Dataset/TestGroup_2b.csv')\n",
    "print(X.shape)\n",
    "Y = pd.read_csv('preprocessed_data.csv',index_col=0)\n",
    "Y = Y.drop(columns=['alpha','delta','u','g','r','i','z','redshift'])\n",
    "if type(Y) == pd.core.frame.DataFrame:\n",
    "    Y = Y.iloc[:,0]\n",
    "print(Y.shape)"
   ],
   "id": "506955dfd862ab93",
   "outputs": [
    {
     "name": "stdout",
     "output_type": "stream",
     "text": [
      "(97814, 8)\n",
      "(97814,)\n"
     ]
    }
   ],
   "execution_count": 33
  },
  {
   "metadata": {},
   "cell_type": "markdown",
   "source": "SVC Setup",
   "id": "dee4f6edad993b31"
  },
  {
   "metadata": {
    "ExecuteTime": {
     "end_time": "2025-04-17T23:19:33.086339Z",
     "start_time": "2025-04-17T23:19:28.159813Z"
    }
   },
   "cell_type": "code",
   "source": [
    "x_train, x_test, y_train, y_test = train_test_split(X,Y, test_size=0.9, random_state=1)\n",
    "\n",
    "clf = svm.SVC(kernel='rbf')\n",
    "print(cross_val_score(clf, x_train, y_train, cv=10))"
   ],
   "id": "7912bb3d86ae491a",
   "outputs": [
    {
     "name": "stdout",
     "output_type": "stream",
     "text": [
      "[0.90909091 0.92331288 0.91206544 0.88548057 0.90593047 0.90593047\n",
      " 0.89877301 0.90388548 0.90797546 0.91104294]\n"
     ]
    }
   ],
   "execution_count": 48
  },
  {
   "metadata": {
    "ExecuteTime": {
     "end_time": "2025-04-18T23:48:01.013344Z",
     "start_time": "2025-04-18T23:26:28.498356Z"
    }
   },
   "cell_type": "code",
   "source": [
    "kernel = ['linear','rbf','poly', 'sigmoid']\n",
    "split = [0.9,0.8,0.7,0.6,0.5]\n",
    "score = {\n",
    "    'linear' : [],\n",
    "    'rbf' : [],\n",
    "    'poly' : [],\n",
    "    'sigmoid' : []\n",
    "}\n",
    "\n",
    "\n",
    "for ky in kernel:\n",
    "    print(ky)\n",
    "    for sp in split:\n",
    "        print(sp)\n",
    "        x_train, x_test, y_train, y_test = train_test_split(X,Y, test_size=sp, random_state=1)\n",
    "        clf = svm.SVC(kernel=ky)\n",
    "        val = np.mean(cross_val_score(clf, x_train, y_train, cv=10))\n",
    "        score[ky].append(val)\n",
    "        print(val)\n",
    "        \n",
    "\n",
    "\n",
    "print(score)\n",
    "#clf = svm.SVC(kernel='')\n",
    "\n"
   ],
   "id": "62b17507d3529d96",
   "outputs": [
    {
     "name": "stdout",
     "output_type": "stream",
     "text": [
      "linear\n",
      "0.9\n",
      "0.9593079412028883\n",
      "0.8\n",
      "0.9609448490187287\n",
      "0.7\n",
      "0.9601283315275644\n",
      "0.6\n",
      "0.9610479814806396\n",
      "0.5\n",
      "0.9610076602448719\n",
      "rbf\n",
      "0.9\n",
      "0.9566507078087694\n",
      "0.8\n",
      "0.959717933525815\n",
      "0.7\n",
      "0.9601281689502967\n",
      "0.6\n",
      "0.9617124006444879\n",
      "0.5\n",
      "0.9616619064522751\n",
      "poly\n",
      "0.9\n",
      "0.9488801644347242\n",
      "0.8\n",
      "0.9523567540568021\n",
      "0.7\n",
      "0.952699154249828\n",
      "0.6\n",
      "0.9544536929755936\n",
      "0.5\n",
      "0.9546077913650504\n",
      "sigmoid\n",
      "0.9\n",
      "0.34096778775554537\n",
      "0.8\n",
      "0.35492675864418327\n",
      "0.7\n",
      "0.4137143563856286\n",
      "0.6\n",
      "0.44283998804258473\n",
      "0.5\n",
      "0.4573352959548839\n",
      "{'linear': [np.float64(0.9593079412028883), np.float64(0.9609448490187287), np.float64(0.9601283315275644), np.float64(0.9610479814806396), np.float64(0.9610076602448719)], 'rbf': [np.float64(0.9566507078087694), np.float64(0.959717933525815), np.float64(0.9601281689502967), np.float64(0.9617124006444879), np.float64(0.9616619064522751)], 'poly': [np.float64(0.9488801644347242), np.float64(0.9523567540568021), np.float64(0.952699154249828), np.float64(0.9544536929755936), np.float64(0.9546077913650504)], 'sigmoid': [np.float64(0.34096778775554537), np.float64(0.35492675864418327), np.float64(0.4137143563856286), np.float64(0.44283998804258473), np.float64(0.4573352959548839)]}\n"
     ]
    }
   ],
   "execution_count": 7
  },
  {
   "metadata": {},
   "cell_type": "markdown",
   "source": "Plotting results based on hyperparameters.",
   "id": "c1e3cf1f70e68bd8"
  },
  {
   "metadata": {},
   "cell_type": "markdown",
   "source": "Set 1",
   "id": "fb7bbef35d0e618c"
  },
  {
   "metadata": {
    "ExecuteTime": {
     "end_time": "2025-04-18T23:56:43.383201Z",
     "start_time": "2025-04-18T23:56:43.378943Z"
    }
   },
   "cell_type": "code",
   "source": "score = {'linear': [np.float64(0.8787450572450919), np.float64(0.8817092279510499), np.float64(0.8830764844756128), np.float64(0.8838848612746458), np.float64(0.8840042037062356)], 'rbf': [np.float64(0.9063487637107268), np.float64(0.9098768721792568), np.float64(0.9151442234554871), np.float64(0.9155524072398805), np.float64(0.916167327075857)], 'poly': [np.float64(0.8872297803985955), np.float64(0.8879461071524484), np.float64(0.8895853582912665), np.float64(0.8881788106552694), np.float64(0.8880733236080293)], 'sigmoid': [np.float64(0.3637695281901527), np.float64(0.47388377206044474), np.float64(0.4666010667391297), np.float64(0.4847296411677921), np.float64(0.48471700661329037)]}",
   "id": "c1e37c7a64dc7536",
   "outputs": [],
   "execution_count": 26
  },
  {
   "metadata": {},
   "cell_type": "markdown",
   "source": "Set 2",
   "id": "ea8b16ea72bd214b"
  },
  {
   "metadata": {
    "ExecuteTime": {
     "end_time": "2025-04-19T00:09:43.950344Z",
     "start_time": "2025-04-19T00:09:43.945683Z"
    }
   },
   "cell_type": "code",
   "source": "score = {'linear': [np.float64(0.9593079412028883), np.float64(0.9609448490187287), np.float64(0.9601283315275644), np.float64(0.9610479814806396), np.float64(0.9610076602448719)], 'rbf': [np.float64(0.9566507078087694), np.float64(0.959717933525815), np.float64(0.9601281689502967), np.float64(0.9617124006444879), np.float64(0.9616619064522751)], 'poly': [np.float64(0.9488801644347242), np.float64(0.9523567540568021), np.float64(0.952699154249828), np.float64(0.9544536929755936), np.float64(0.9546077913650504)], 'sigmoid': [np.float64(0.34096778775554537), np.float64(0.35492675864418327), np.float64(0.4137143563856286), np.float64(0.44283998804258473), np.float64(0.4573352959548839)]}",
   "id": "f550c5476282c192",
   "outputs": [],
   "execution_count": 35
  },
  {
   "metadata": {},
   "cell_type": "markdown",
   "source": "Results",
   "id": "6201c135637bd792"
  },
  {
   "metadata": {
    "ExecuteTime": {
     "end_time": "2025-04-19T00:09:47.451785Z",
     "start_time": "2025-04-19T00:09:47.365814Z"
    }
   },
   "cell_type": "code",
   "source": [
    "split = [0.9,0.8,0.7,0.6,0.5]\n",
    "real_split = []\n",
    "for sp in split:\n",
    "    real_split.append(1-sp)\n",
    "\n",
    "plt.plot(real_split, score['linear'])\n",
    "plt.plot(real_split, score['poly'])\n",
    "plt.plot(real_split, score['rbf'])\n",
    "plt.plot(real_split, score['sigmoid'])\n",
    "plt.xlabel('Training Dataset Proportion')\n",
    "plt.ylabel('Accuracy')\n",
    "plt.legend(['Linear', 'Poly', 'RBF', 'Sigmoid'])\n",
    "plt.title('Accuracy vs. Training Dataset Proportion')\n",
    "plt.show()"
   ],
   "id": "16bb98b0f2568c02",
   "outputs": [
    {
     "data": {
      "text/plain": [
       "<Figure size 640x480 with 1 Axes>"
      ],
      "image/png": "[encoded data removed]"
     },
     "metadata": {},
     "output_type": "display_data"
    }
   ],
   "execution_count": 36
  },
  {
   "metadata": {
    "ExecuteTime": {
     "end_time": "2025-04-19T00:09:53.137328Z",
     "start_time": "2025-04-19T00:09:53.062793Z"
    }
   },
   "cell_type": "code",
   "source": [
    "plt.plot(real_split, score['linear'])\n",
    "plt.plot(real_split, score['poly'])\n",
    "plt.plot(real_split, score['rbf'])\n",
    "plt.xlabel('Training Dataset Proportion')\n",
    "plt.ylabel('Accuracy')\n",
    "plt.legend(['Linear', 'Poly', 'RBF'])\n",
    "plt.title('Accuracy vs. Training Dataset Proportion')\n",
    "plt.show()"
   ],
   "id": "fa0ac5ead99cf701",
   "outputs": [
    {
     "data": {
      "text/plain": [
       "<Figure size 640x480 with 1 Axes>"
      ],
      "image/png": "[encoded data removed]"
     },
     "metadata": {},
     "output_type": "display_data"
    }
   ],
   "execution_count": 37
  },
  {
   "metadata": {
    "ExecuteTime": {
     "end_time": "2025-04-19T00:09:57.325297Z",
     "start_time": "2025-04-19T00:09:57.321755Z"
    }
   },
   "cell_type": "code",
   "source": [
    "print(max(score['linear']))\n",
    "print(np.argmax(score['linear']))\n",
    "print(max(score['rbf']))\n",
    "print(np.argmax(score['rbf']))\n",
    "print(max(score['poly']))\n",
    "print(np.argmax(score['poly']))\n",
    "print(max(score['sigmoid']))\n",
    "print(np.argmax(score['sigmoid']))\n"
   ],
   "id": "b879e183b5346e8a",
   "outputs": [
    {
     "name": "stdout",
     "output_type": "stream",
     "text": [
      "0.9610479814806396\n",
      "3\n",
      "0.9617124006444879\n",
      "3\n",
      "0.9546077913650504\n",
      "4\n",
      "0.4573352959548839\n",
      "4\n"
     ]
    }
   ],
   "execution_count": 38
  },
  {
   "metadata": {
    "ExecuteTime": {
     "end_time": "2025-04-19T00:10:39.371431Z",
     "start_time": "2025-04-19T00:10:02.587895Z"
    }
   },
   "cell_type": "code",
   "source": [
    "x_train, x_test, y_train, y_test = train_test_split(X,Y, test_size=0.5, random_state=1)\n",
    "clf = svm.SVC(kernel='rbf', probability=True)\n",
    "clf.fit(x_train, y_train)"
   ],
   "id": "adfa9872b5edc0d6",
   "outputs": [
    {
     "data": {
      "text/plain": [
       "SVC(probability=True)"
      ],
      "text/html": [
       "<style>#sk-container-id-4 {\n",
       "  /* Definition of color scheme common for light and dark mode */\n",
       "  --sklearn-color-text: #000;\n",
       "  --sklearn-color-text-muted: #666;\n",
       "  --sklearn-color-line: gray;\n",
       "  /* Definition of color scheme for unfitted estimators */\n",
       "  --sklearn-color-unfitted-level-0: #fff5e6;\n",
       "  --sklearn-color-unfitted-level-1: #f6e4d2;\n",
       "  --sklearn-color-unfitted-level-2: #ffe0b3;\n",
       "  --sklearn-color-unfitted-level-3: chocolate;\n",
       "  /* Definition of color scheme for fitted estimators */\n",
       "  --sklearn-color-fitted-level-0: #f0f8ff;\n",
       "  --sklearn-color-fitted-level-1: #d4ebff;\n",
       "  --sklearn-color-fitted-level-2: #b3dbfd;\n",
       "  --sklearn-color-fitted-level-3: cornflowerblue;\n",
       "\n",
       "  /* Specific color for light theme */\n",
       "  --sklearn-color-text-on-default-background: var(--sg-text-color, var(--theme-code-foreground, var(--jp-content-font-color1, black)));\n",
       "  --sklearn-color-background: var(--sg-background-color, var(--theme-background, var(--jp-layout-color0, white)));\n",
       "  --sklearn-color-border-box: var(--sg-text-color, var(--theme-code-foreground, var(--jp-content-font-color1, black)));\n",
       "  --sklearn-color-icon: #696969;\n",
       "\n",
       "  @media (prefers-color-scheme: dark) {\n",
       "    /* Redefinition of color scheme for dark theme */\n",
       "    --sklearn-color-text-on-default-background: var(--sg-text-color, var(--theme-code-foreground, var(--jp-content-font-color1, white)));\n",
       "    --sklearn-color-background: var(--sg-background-color, var(--theme-background, var(--jp-layout-color0, #111)));\n",
       "    --sklearn-color-border-box: var(--sg-text-color, var(--theme-code-foreground, var(--jp-content-font-color1, white)));\n",
       "    --sklearn-color-icon: #878787;\n",
       "  }\n",
       "}\n",
       "\n",
       "#sk-container-id-4 {\n",
       "  color: var(--sklearn-color-text);\n",
       "}\n",
       "\n",
       "#sk-container-id-4 pre {\n",
       "  padding: 0;\n",
       "}\n",
       "\n",
       "#sk-container-id-4 input.sk-hidden--visually {\n",
       "  border: 0;\n",
       "  clip: rect(1px 1px 1px 1px);\n",
       "  clip: rect(1px, 1px, 1px, 1px);\n",
       "  height: 1px;\n",
       "  margin: -1px;\n",
       "  overflow: hidden;\n",
       "  padding: 0;\n",
       "  position: absolute;\n",
       "  width: 1px;\n",
       "}\n",
       "\n",
       "#sk-container-id-4 div.sk-dashed-wrapped {\n",
       "  border: 1px dashed var(--sklearn-color-line);\n",
       "  margin: 0 0.4em 0.5em 0.4em;\n",
       "  box-sizing: border-box;\n",
       "  padding-bottom: 0.4em;\n",
       "  background-color: var(--sklearn-color-background);\n",
       "}\n",
       "\n",
       "#sk-container-id-4 div.sk-container {\n",
       "  /* jupyter's `normalize.less` sets `[hidden] { display: none; }`\n",
       "     but bootstrap.min.css set `[hidden] { display: none !important; }`\n",
       "     so we also need the `!important` here to be able to override the\n",
       "     default hidden behavior on the sphinx rendered scikit-learn.org.\n",
       "     See: https://github.com/scikit-learn/scikit-learn/issues/21755 */\n",
       "  display: inline-block !important;\n",
       "  position: relative;\n",
       "}\n",
       "\n",
       "#sk-container-id-4 div.sk-text-repr-fallback {\n",
       "  display: none;\n",
       "}\n",
       "\n",
       "div.sk-parallel-item,\n",
       "div.sk-serial,\n",
       "div.sk-item {\n",
       "  /* draw centered vertical line to link estimators */\n",
       "  background-image: linear-gradient(var(--sklearn-color-text-on-default-background), var(--sklearn-color-text-on-default-background));\n",
       "  background-size: 2px 100%;\n",
       "  background-repeat: no-repeat;\n",
       "  background-position: center center;\n",
       "}\n",
       "\n",
       "/* Parallel-specific style estimator block */\n",
       "\n",
       "#sk-container-id-4 div.sk-parallel-item::after {\n",
       "  content: \"\";\n",
       "  width: 100%;\n",
       "  border-bottom: 2px solid var(--sklearn-color-text-on-default-background);\n",
       "  flex-grow: 1;\n",
       "}\n",
       "\n",
       "#sk-container-id-4 div.sk-parallel {\n",
       "  display: flex;\n",
       "  align-items: stretch;\n",
       "  justify-content: center;\n",
       "  background-color: var(--sklearn-color-background);\n",
       "  position: relative;\n",
       "}\n",
       "\n",
       "#sk-container-id-4 div.sk-parallel-item {\n",
       "  display: flex;\n",
       "  flex-direction: column;\n",
       "}\n",
       "\n",
       "#sk-container-id-4 div.sk-parallel-item:first-child::after {\n",
       "  align-self: flex-end;\n",
       "  width: 50%;\n",
       "}\n",
       "\n",
       "#sk-container-id-4 div.sk-parallel-item:last-child::after {\n",
       "  align-self: flex-start;\n",
       "  width: 50%;\n",
       "}\n",
       "\n",
       "#sk-container-id-4 div.sk-parallel-item:only-child::after {\n",
       "  width: 0;\n",
       "}\n",
       "\n",
       "/* Serial-specific style estimator block */\n",
       "\n",
       "#sk-container-id-4 div.sk-serial {\n",
       "  display: flex;\n",
       "  flex-direction: column;\n",
       "  align-items: center;\n",
       "  background-color: var(--sklearn-color-background);\n",
       "  padding-right: 1em;\n",
       "  padding-left: 1em;\n",
       "}\n",
       "\n",
       "\n",
       "/* Toggleable style: style used for estimator/Pipeline/ColumnTransformer box that is\n",
       "clickable and can be expanded/collapsed.\n",
       "- Pipeline and ColumnTransformer use this feature and define the default style\n",
       "- Estimators will overwrite some part of the style using the `sk-estimator` class\n",
       "*/\n",
       "\n",
       "/* Pipeline and ColumnTransformer style (default) */\n",
       "\n",
       "#sk-container-id-4 div.sk-toggleable {\n",
       "  /* Default theme specific background. It is overwritten whether we have a\n",
       "  specific estimator or a Pipeline/ColumnTransformer */\n",
       "  background-color: var(--sklearn-color-background);\n",
       "}\n",
       "\n",
       "/* Toggleable label */\n",
       "#sk-container-id-4 label.sk-toggleable__label {\n",
       "  cursor: pointer;\n",
       "  display: flex;\n",
       "  width: 100%;\n",
       "  margin-bottom: 0;\n",
       "  padding: 0.5em;\n",
       "  box-sizing: border-box;\n",
       "  text-align: center;\n",
       "  align-items: start;\n",
       "  justify-content: space-between;\n",
       "  gap: 0.5em;\n",
       "}\n",
       "\n",
       "#sk-container-id-4 label.sk-toggleable__label .caption {\n",
       "  font-size: 0.6rem;\n",
       "  font-weight: lighter;\n",
       "  color: var(--sklearn-color-text-muted);\n",
       "}\n",
       "\n",
       "#sk-container-id-4 label.sk-toggleable__label-arrow:before {\n",
       "  /* Arrow on the left of the label */\n",
       "  content: \"▸\";\n",
       "  float: left;\n",
       "  margin-right: 0.25em;\n",
       "  color: var(--sklearn-color-icon);\n",
       "}\n",
       "\n",
       "#sk-container-id-4 label.sk-toggleable__label-arrow:hover:before {\n",
       "  color: var(--sklearn-color-text);\n",
       "}\n",
       "\n",
       "/* Toggleable content - dropdown */\n",
       "\n",
       "#sk-container-id-4 div.sk-toggleable__content {\n",
       "  max-height: 0;\n",
       "  max-width: 0;\n",
       "  overflow: hidden;\n",
       "  text-align: left;\n",
       "  /* unfitted */\n",
       "  background-color: var(--sklearn-color-unfitted-level-0);\n",
       "}\n",
       "\n",
       "#sk-container-id-4 div.sk-toggleable__content.fitted {\n",
       "  /* fitted */\n",
       "  background-color: var(--sklearn-color-fitted-level-0);\n",
       "}\n",
       "\n",
       "#sk-container-id-4 div.sk-toggleable__content pre {\n",
       "  margin: 0.2em;\n",
       "  border-radius: 0.25em;\n",
       "  color: var(--sklearn-color-text);\n",
       "  /* unfitted */\n",
       "  background-color: var(--sklearn-color-unfitted-level-0);\n",
       "}\n",
       "\n",
       "#sk-container-id-4 div.sk-toggleable__content.fitted pre {\n",
       "  /* unfitted */\n",
       "  background-color: var(--sklearn-color-fitted-level-0);\n",
       "}\n",
       "\n",
       "#sk-container-id-4 input.sk-toggleable__control:checked~div.sk-toggleable__content {\n",
       "  /* Expand drop-down */\n",
       "  max-height: 200px;\n",
       "  max-width: 100%;\n",
       "  overflow: auto;\n",
       "}\n",
       "\n",
       "#sk-container-id-4 input.sk-toggleable__control:checked~label.sk-toggleable__label-arrow:before {\n",
       "  content: \"▾\";\n",
       "}\n",
       "\n",
       "/* Pipeline/ColumnTransformer-specific style */\n",
       "\n",
       "#sk-container-id-4 div.sk-label input.sk-toggleable__control:checked~label.sk-toggleable__label {\n",
       "  color: var(--sklearn-color-text);\n",
       "  background-color: var(--sklearn-color-unfitted-level-2);\n",
       "}\n",
       "\n",
       "#sk-container-id-4 div.sk-label.fitted input.sk-toggleable__control:checked~label.sk-toggleable__label {\n",
       "  background-color: var(--sklearn-color-fitted-level-2);\n",
       "}\n",
       "\n",
       "/* Estimator-specific style */\n",
       "\n",
       "/* Colorize estimator box */\n",
       "#sk-container-id-4 div.sk-estimator input.sk-toggleable__control:checked~label.sk-toggleable__label {\n",
       "  /* unfitted */\n",
       "  background-color: var(--sklearn-color-unfitted-level-2);\n",
       "}\n",
       "\n",
       "#sk-container-id-4 div.sk-estimator.fitted input.sk-toggleable__control:checked~label.sk-toggleable__label {\n",
       "  /* fitted */\n",
       "  background-color: var(--sklearn-color-fitted-level-2);\n",
       "}\n",
       "\n",
       "#sk-container-id-4 div.sk-label label.sk-toggleable__label,\n",
       "#sk-container-id-4 div.sk-label label {\n",
       "  /* The background is the default theme color */\n",
       "  color: var(--sklearn-color-text-on-default-background);\n",
       "}\n",
       "\n",
       "/* On hover, darken the color of the background */\n",
       "#sk-container-id-4 div.sk-label:hover label.sk-toggleable__label {\n",
       "  color: var(--sklearn-color-text);\n",
       "  background-color: var(--sklearn-color-unfitted-level-2);\n",
       "}\n",
       "\n",
       "/* Label box, darken color on hover, fitted */\n",
       "#sk-container-id-4 div.sk-label.fitted:hover label.sk-toggleable__label.fitted {\n",
       "  color: var(--sklearn-color-text);\n",
       "  background-color: var(--sklearn-color-fitted-level-2);\n",
       "}\n",
       "\n",
       "/* Estimator label */\n",
       "\n",
       "#sk-container-id-4 div.sk-label label {\n",
       "  font-family: monospace;\n",
       "  font-weight: bold;\n",
       "  display: inline-block;\n",
       "  line-height: 1.2em;\n",
       "}\n",
       "\n",
       "#sk-container-id-4 div.sk-label-container {\n",
       "  text-align: center;\n",
       "}\n",
       "\n",
       "/* Estimator-specific */\n",
       "#sk-container-id-4 div.sk-estimator {\n",
       "  font-family: monospace;\n",
       "  border: 1px dotted var(--sklearn-color-border-box);\n",
       "  border-radius: 0.25em;\n",
       "  box-sizing: border-box;\n",
       "  margin-bottom: 0.5em;\n",
       "  /* unfitted */\n",
       "  background-color: var(--sklearn-color-unfitted-level-0);\n",
       "}\n",
       "\n",
       "#sk-container-id-4 div.sk-estimator.fitted {\n",
       "  /* fitted */\n",
       "  background-color: var(--sklearn-color-fitted-level-0);\n",
       "}\n",
       "\n",
       "/* on hover */\n",
       "#sk-container-id-4 div.sk-estimator:hover {\n",
       "  /* unfitted */\n",
       "  background-color: var(--sklearn-color-unfitted-level-2);\n",
       "}\n",
       "\n",
       "#sk-container-id-4 div.sk-estimator.fitted:hover {\n",
       "  /* fitted */\n",
       "  background-color: var(--sklearn-color-fitted-level-2);\n",
       "}\n",
       "\n",
       "/* Specification for estimator info (e.g. \"i\" and \"?\") */\n",
       "\n",
       "/* Common style for \"i\" and \"?\" */\n",
       "\n",
       ".sk-estimator-doc-link,\n",
       "a:link.sk-estimator-doc-link,\n",
       "a:visited.sk-estimator-doc-link {\n",
       "  float: right;\n",
       "  font-size: smaller;\n",
       "  line-height: 1em;\n",
       "  font-family: monospace;\n",
       "  background-color: var(--sklearn-color-background);\n",
       "  border-radius: 1em;\n",
       "  height: 1em;\n",
       "  width: 1em;\n",
       "  text-decoration: none !important;\n",
       "  margin-left: 0.5em;\n",
       "  text-align: center;\n",
       "  /* unfitted */\n",
       "  border: var(--sklearn-color-unfitted-level-1) 1pt solid;\n",
       "  color: var(--sklearn-color-unfitted-level-1);\n",
       "}\n",
       "\n",
       ".sk-estimator-doc-link.fitted,\n",
       "a:link.sk-estimator-doc-link.fitted,\n",
       "a:visited.sk-estimator-doc-link.fitted {\n",
       "  /* fitted */\n",
       "  border: var(--sklearn-color-fitted-level-1) 1pt solid;\n",
       "  color: var(--sklearn-color-fitted-level-1);\n",
       "}\n",
       "\n",
       "/* On hover */\n",
       "div.sk-estimator:hover .sk-estimator-doc-link:hover,\n",
       ".sk-estimator-doc-link:hover,\n",
       "div.sk-label-container:hover .sk-estimator-doc-link:hover,\n",
       ".sk-estimator-doc-link:hover {\n",
       "  /* unfitted */\n",
       "  background-color: var(--sklearn-color-unfitted-level-3);\n",
       "  color: var(--sklearn-color-background);\n",
       "  text-decoration: none;\n",
       "}\n",
       "\n",
       "div.sk-estimator.fitted:hover .sk-estimator-doc-link.fitted:hover,\n",
       ".sk-estimator-doc-link.fitted:hover,\n",
       "div.sk-label-container:hover .sk-estimator-doc-link.fitted:hover,\n",
       ".sk-estimator-doc-link.fitted:hover {\n",
       "  /* fitted */\n",
       "  background-color: var(--sklearn-color-fitted-level-3);\n",
       "  color: var(--sklearn-color-background);\n",
       "  text-decoration: none;\n",
       "}\n",
       "\n",
       "/* Span, style for the box shown on hovering the info icon */\n",
       ".sk-estimator-doc-link span {\n",
       "  display: none;\n",
       "  z-index: 9999;\n",
       "  position: relative;\n",
       "  font-weight: normal;\n",
       "  right: .2ex;\n",
       "  padding: .5ex;\n",
       "  margin: .5ex;\n",
       "  width: min-content;\n",
       "  min-width: 20ex;\n",
       "  max-width: 50ex;\n",
       "  color: var(--sklearn-color-text);\n",
       "  box-shadow: 2pt 2pt 4pt #999;\n",
       "  /* unfitted */\n",
       "  background: var(--sklearn-color-unfitted-level-0);\n",
       "  border: .5pt solid var(--sklearn-color-unfitted-level-3);\n",
       "}\n",
       "\n",
       ".sk-estimator-doc-link.fitted span {\n",
       "  /* fitted */\n",
       "  background: var(--sklearn-color-fitted-level-0);\n",
       "  border: var(--sklearn-color-fitted-level-3);\n",
       "}\n",
       "\n",
       ".sk-estimator-doc-link:hover span {\n",
       "  display: block;\n",
       "}\n",
       "\n",
       "/* \"?\"-specific style due to the `<a>` HTML tag */\n",
       "\n",
       "#sk-container-id-4 a.estimator_doc_link {\n",
       "  float: right;\n",
       "  font-size: 1rem;\n",
       "  line-height: 1em;\n",
       "  font-family: monospace;\n",
       "  background-color: var(--sklearn-color-background);\n",
       "  border-radius: 1rem;\n",
       "  height: 1rem;\n",
       "  width: 1rem;\n",
       "  text-decoration: none;\n",
       "  /* unfitted */\n",
       "  color: var(--sklearn-color-unfitted-level-1);\n",
       "  border: var(--sklearn-color-unfitted-level-1) 1pt solid;\n",
       "}\n",
       "\n",
       "#sk-container-id-4 a.estimator_doc_link.fitted {\n",
       "  /* fitted */\n",
       "  border: var(--sklearn-color-fitted-level-1) 1pt solid;\n",
       "  color: var(--sklearn-color-fitted-level-1);\n",
       "}\n",
       "\n",
       "/* On hover */\n",
       "#sk-container-id-4 a.estimator_doc_link:hover {\n",
       "  /* unfitted */\n",
       "  background-color: var(--sklearn-color-unfitted-level-3);\n",
       "  color: var(--sklearn-color-background);\n",
       "  text-decoration: none;\n",
       "}\n",
       "\n",
       "#sk-container-id-4 a.estimator_doc_link.fitted:hover {\n",
       "  /* fitted */\n",
       "  background-color: var(--sklearn-color-fitted-level-3);\n",
       "}\n",
       "</style><div id=\"sk-container-id-4\" class=\"sk-top-container\"><div class=\"sk-text-repr-fallback\"><pre>SVC(probability=True)</pre><b>In a Jupyter environment, please rerun this cell to show the HTML representation or trust the notebook. <br />On GitHub, the HTML representation is unable to render, please try loading this page with nbviewer.org.</b></div><div class=\"sk-container\" hidden><div class=\"sk-item\"><div class=\"sk-estimator fitted sk-toggleable\"><input class=\"sk-toggleable__control sk-hidden--visually\" id=\"sk-estimator-id-4\" type=\"checkbox\" checked><label for=\"sk-estimator-id-4\" class=\"sk-toggleable__label fitted sk-toggleable__label-arrow\"><div><div>SVC</div></div><div><a class=\"sk-estimator-doc-link fitted\" rel=\"noreferrer\" target=\"_blank\" href=\"https://scikit-learn.org/1.6/modules/generated/sklearn.svm.SVC.html\">?<span>Documentation for SVC</span></a><span class=\"sk-estimator-doc-link fitted\">i<span>Fitted</span></span></div></label><div class=\"sk-toggleable__content fitted\"><pre>SVC(probability=True)</pre></div> </div></div></div></div>"
      ]
     },
     "execution_count": 39,
     "metadata": {},
     "output_type": "execute_result"
    }
   ],
   "execution_count": 39
  },
  {
   "metadata": {
    "ExecuteTime": {
     "end_time": "2025-04-19T00:17:22.273892Z",
     "start_time": "2025-04-19T00:16:44.435547Z"
    }
   },
   "cell_type": "code",
   "source": [
    "print('Score: ', clf.score(x_test, y_test))\n",
    "print('AUC: ', print(metrics.roc_auc_score(y_test, clf.predict_proba(x_test),multi_class='ovr')))\n",
    "print(metrics.classification_report(y_test, clf.predict(x_test), target_names=['Galaxy','Quasar','Star']))\n"
   ],
   "id": "cbd5cb8357e948f0",
   "outputs": [
    {
     "name": "stdout",
     "output_type": "stream",
     "text": [
      "Score:  0.9597603615024434\n",
      "0.9891349403453109\n",
      "AUC:  None\n",
      "              precision    recall  f1-score   support\n",
      "\n",
      "      Galaxy       0.96      0.97      0.97     29515\n",
      "      Quasar       0.96      0.88      0.92      8674\n",
      "        Star       0.95      0.99      0.97     10718\n",
      "\n",
      "    accuracy                           0.96     48907\n",
      "   macro avg       0.96      0.95      0.95     48907\n",
      "weighted avg       0.96      0.96      0.96     48907\n",
      "\n"
     ]
    }
   ],
   "execution_count": 40
  },
  {
   "metadata": {},
   "cell_type": "markdown",
   "source": "Plotting an SVM",
   "id": "4562e298cd266065"
  },
  {
   "metadata": {
    "ExecuteTime": {
     "end_time": "2025-04-17T22:38:35.156020Z",
     "start_time": "2025-04-17T22:38:30.755232Z"
    }
   },
   "cell_type": "code",
   "source": [
    "print(Y)\n",
    "print(X)\n",
    "x_train, x_test, y_train, y_test = train_test_split(X,Y, test_size=0.99, random_state=1)\n",
    "\n",
    "x_train = x_train.drop(columns=['alpha','delta','u','r','i','z'])\n",
    "le = preprocessing.LabelEncoder()\n",
    "le.fit(y_train)\n",
    "y_train = le.transform(y_train)\n",
    "        \n",
    "#print(y_train) \n",
    "clf = svm.SVC(kernel='sigmoid')\n",
    "clf.fit(x_train, y_train)\n",
    "plot_decision_regions(x_train.to_numpy(),y_train, clf=clf, legend=2)\n",
    "plt.xlabel('Redshift')\n",
    "plt.ylabel('u')\n",
    "plt.title('Example SVC using Sigmoid Kernel')\n",
    "plt.show()"
   ],
   "id": "6e9d954dc8cb5e97",
   "outputs": [
    {
     "name": "stdout",
     "output_type": "stream",
     "text": [
      "0        GALAXY\n",
      "1        GALAXY\n",
      "2        GALAXY\n",
      "3        GALAXY\n",
      "4        GALAXY\n",
      "          ...  \n",
      "99995    GALAXY\n",
      "99996    GALAXY\n",
      "99997    GALAXY\n",
      "99998    GALAXY\n",
      "99999    GALAXY\n",
      "Name: class, Length: 97814, dtype: object\n",
      "            alpha      delta         u         g         r         i  \\\n",
      "0      135.689107  32.494632  23.87882  22.27530  20.39501  19.16573   \n",
      "1      144.826101  31.274185  24.77759  22.83188  22.58444  21.16812   \n",
      "2      142.188790  35.582444  25.26307  22.66389  20.60976  19.34857   \n",
      "3      338.741038  -0.402828  22.13682  23.77656  21.61162  20.50454   \n",
      "4      345.282593  21.183866  19.43718  17.58028  16.49747  15.97711   \n",
      "...           ...        ...       ...       ...       ...       ...   \n",
      "99995   39.620709  -2.594074  22.16759  22.97586  21.90404  21.30548   \n",
      "99996   29.493819  19.798874  22.69118  22.38628  20.45003  19.75759   \n",
      "99997  224.587407  15.700707  21.16916  19.26997  18.20428  17.69034   \n",
      "99998  212.268621  46.660365  25.35039  21.63757  19.91386  19.07254   \n",
      "99999  196.896053  49.464643  22.62171  21.79745  20.60115  20.00959   \n",
      "\n",
      "              z  redshift  \n",
      "0      18.79371  0.634794  \n",
      "1      21.61427  0.779136  \n",
      "2      18.94827  0.644195  \n",
      "3      19.25010  0.932346  \n",
      "4      15.54461  0.116123  \n",
      "...         ...       ...  \n",
      "99995  20.73569  0.000000  \n",
      "99996  19.41526  0.404895  \n",
      "99997  17.35221  0.143366  \n",
      "99998  18.62482  0.455040  \n",
      "99999  19.28075  0.542944  \n",
      "\n",
      "[97814 rows x 8 columns]\n"
     ]
    },
    {
     "name": "stderr",
     "output_type": "stream",
     "text": [
      "C:\\Users\\2005f\\AppData\\Local\\Programs\\Python\\Python312\\Lib\\site-packages\\sklearn\\utils\\validation.py:2739: UserWarning: X does not have valid feature names, but SVC was fitted with feature names\n",
      "  warnings.warn(\n"
     ]
    },
    {
     "data": {
      "text/plain": [
       "<Figure size 640x480 with 1 Axes>"
      ],
      "image/png": "[encoded data removed]"
     },
     "metadata": {},
     "output_type": "display_data"
    }
   ],
   "execution_count": 36
  }
 ],
 "metadata": {
  "kernelspec": {
   "display_name": "Python 3",
   "language": "python",
   "name": "python3"
  },
  "language_info": {
   "codemirror_mode": {
    "name": "ipython",
    "version": 2
   },
   "file_extension": ".py",
   "mimetype": "text/x-python",
   "name": "python",
   "nbconvert_exporter": "python",
   "pygments_lexer": "ipython2",
   "version": "2.7.6"
  }
 },
 "nbformat": 4,
 "nbformat_minor": 5
}
