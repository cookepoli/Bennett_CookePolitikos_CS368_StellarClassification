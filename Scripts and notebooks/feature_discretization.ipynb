{
 "cells": [
  {
   "cell_type": "markdown",
   "id": "3f9cdc1b7cded2d1",
   "metadata": {},
   "source": [
    "This notebook will demonstrate the preprocessing step of converting an attribute with continuous data into a discrete attribute using a variety of binning methods (supervised and unsupervised)."
   ]
  },
  {
   "cell_type": "markdown",
   "id": "5f2099a42fb8c4a1",
   "metadata": {},
   "source": [
    "Import Dependencies"
   ]
  },
  {
   "cell_type": "code",
   "execution_count": 2,
   "id": "initial_id",
   "metadata": {
    "ExecuteTime": {
     "end_time": "2025-03-10T16:16:24.756341Z",
     "start_time": "2025-03-10T16:16:24.742459Z"
    },
    "collapsed": true
   },
   "outputs": [],
   "source": [
    "from sklearn.preprocessing import KBinsDiscretizer\n",
    "from sklearn.metrics import silhouette_score\n",
    "import pandas as pd\n",
    "import numpy as np\n",
    "import matplotlib.pyplot as plt\n",
    "from collections import defaultdict\n",
    "import warnings\n",
    "import re\n",
    "\n",
    "warnings.filterwarnings('ignore')"
   ]
  },
  {
   "cell_type": "markdown",
   "id": "c71a7a56b5a9dada",
   "metadata": {},
   "source": [
    "Retrieve Data"
   ]
  },
  {
   "cell_type": "code",
   "execution_count": 35,
   "id": "3f71a3e590a21054",
   "metadata": {
    "ExecuteTime": {
     "end_time": "2025-03-10T16:16:25.170236Z",
     "start_time": "2025-03-10T16:16:24.773893Z"
    }
   },
   "outputs": [
    {
     "data": {
      "application/vnd.microsoft.datawrangler.viewer.v0+json": {
       "columns": [
        {
         "name": "index",
         "rawType": "int64",
         "type": "integer"
        },
        {
         "name": "Unnamed: 0",
         "rawType": "int64",
         "type": "integer"
        },
        {
         "name": "alpha",
         "rawType": "float64",
         "type": "float"
        },
        {
         "name": "delta",
         "rawType": "float64",
         "type": "float"
        },
        {
         "name": "u",
         "rawType": "float64",
         "type": "float"
        },
        {
         "name": "g",
         "rawType": "float64",
         "type": "float"
        },
        {
         "name": "r",
         "rawType": "float64",
         "type": "float"
        },
        {
         "name": "i",
         "rawType": "float64",
         "type": "float"
        },
        {
         "name": "z",
         "rawType": "float64",
         "type": "float"
        },
        {
         "name": "class",
         "rawType": "object",
         "type": "string"
        },
        {
         "name": "redshift",
         "rawType": "float64",
         "type": "float"
        }
       ],
       "conversionMethod": "pd.DataFrame",
       "ref": "36e2ebd8-7506-4517-b87f-9ef37f68aad1",
       "rows": [
        [
         "0",
         "0",
         "135.6891066036",
         "32.4946318397087",
         "23.87882",
         "22.2753",
         "20.39501",
         "19.16573",
         "18.79371",
         "GALAXY",
         "0.6347936"
        ],
        [
         "1",
         "1",
         "144.826100550256",
         "31.2741848944939",
         "24.77759",
         "22.83188",
         "22.58444",
         "21.16812",
         "21.61427",
         "GALAXY",
         "0.779136"
        ],
        [
         "2",
         "2",
         "142.188789562506",
         "35.5824441819976",
         "25.26307",
         "22.66389",
         "20.60976",
         "19.34857",
         "18.94827",
         "GALAXY",
         "0.6441945"
        ],
        [
         "3",
         "3",
         "338.741037753146",
         "-0.402827574587482",
         "22.13682",
         "23.77656",
         "21.61162",
         "20.50454",
         "19.2501",
         "GALAXY",
         "0.9323456"
        ],
        [
         "4",
         "4",
         "345.282593210935",
         "21.1838656010284",
         "19.43718",
         "17.58028",
         "16.49747",
         "15.97711",
         "15.54461",
         "GALAXY",
         "0.1161227"
        ]
       ],
       "shape": {
        "columns": 10,
        "rows": 5
       }
      },
      "text/html": [
       "<div>\n",
       "<style scoped>\n",
       "    .dataframe tbody tr th:only-of-type {\n",
       "        vertical-align: middle;\n",
       "    }\n",
       "\n",
       "    .dataframe tbody tr th {\n",
       "        vertical-align: top;\n",
       "    }\n",
       "\n",
       "    .dataframe thead th {\n",
       "        text-align: right;\n",
       "    }\n",
       "</style>\n",
       "<table border=\"1\" class=\"dataframe\">\n",
       "  <thead>\n",
       "    <tr style=\"text-align: right;\">\n",
       "      <th></th>\n",
       "      <th>Unnamed: 0</th>\n",
       "      <th>alpha</th>\n",
       "      <th>delta</th>\n",
       "      <th>u</th>\n",
       "      <th>g</th>\n",
       "      <th>r</th>\n",
       "      <th>i</th>\n",
       "      <th>z</th>\n",
       "      <th>class</th>\n",
       "      <th>redshift</th>\n",
       "    </tr>\n",
       "  </thead>\n",
       "  <tbody>\n",
       "    <tr>\n",
       "      <th>0</th>\n",
       "      <td>0</td>\n",
       "      <td>135.689107</td>\n",
       "      <td>32.494632</td>\n",
       "      <td>23.87882</td>\n",
       "      <td>22.27530</td>\n",
       "      <td>20.39501</td>\n",
       "      <td>19.16573</td>\n",
       "      <td>18.79371</td>\n",
       "      <td>GALAXY</td>\n",
       "      <td>0.634794</td>\n",
       "    </tr>\n",
       "    <tr>\n",
       "      <th>1</th>\n",
       "      <td>1</td>\n",
       "      <td>144.826101</td>\n",
       "      <td>31.274185</td>\n",
       "      <td>24.77759</td>\n",
       "      <td>22.83188</td>\n",
       "      <td>22.58444</td>\n",
       "      <td>21.16812</td>\n",
       "      <td>21.61427</td>\n",
       "      <td>GALAXY</td>\n",
       "      <td>0.779136</td>\n",
       "    </tr>\n",
       "    <tr>\n",
       "      <th>2</th>\n",
       "      <td>2</td>\n",
       "      <td>142.188790</td>\n",
       "      <td>35.582444</td>\n",
       "      <td>25.26307</td>\n",
       "      <td>22.66389</td>\n",
       "      <td>20.60976</td>\n",
       "      <td>19.34857</td>\n",
       "      <td>18.94827</td>\n",
       "      <td>GALAXY</td>\n",
       "      <td>0.644195</td>\n",
       "    </tr>\n",
       "    <tr>\n",
       "      <th>3</th>\n",
       "      <td>3</td>\n",
       "      <td>338.741038</td>\n",
       "      <td>-0.402828</td>\n",
       "      <td>22.13682</td>\n",
       "      <td>23.77656</td>\n",
       "      <td>21.61162</td>\n",
       "      <td>20.50454</td>\n",
       "      <td>19.25010</td>\n",
       "      <td>GALAXY</td>\n",
       "      <td>0.932346</td>\n",
       "    </tr>\n",
       "    <tr>\n",
       "      <th>4</th>\n",
       "      <td>4</td>\n",
       "      <td>345.282593</td>\n",
       "      <td>21.183866</td>\n",
       "      <td>19.43718</td>\n",
       "      <td>17.58028</td>\n",
       "      <td>16.49747</td>\n",
       "      <td>15.97711</td>\n",
       "      <td>15.54461</td>\n",
       "      <td>GALAXY</td>\n",
       "      <td>0.116123</td>\n",
       "    </tr>\n",
       "  </tbody>\n",
       "</table>\n",
       "</div>"
      ],
      "text/plain": [
       "   Unnamed: 0       alpha      delta         u         g         r         i  \\\n",
       "0           0  135.689107  32.494632  23.87882  22.27530  20.39501  19.16573   \n",
       "1           1  144.826101  31.274185  24.77759  22.83188  22.58444  21.16812   \n",
       "2           2  142.188790  35.582444  25.26307  22.66389  20.60976  19.34857   \n",
       "3           3  338.741038  -0.402828  22.13682  23.77656  21.61162  20.50454   \n",
       "4           4  345.282593  21.183866  19.43718  17.58028  16.49747  15.97711   \n",
       "\n",
       "          z   class  redshift  \n",
       "0  18.79371  GALAXY  0.634794  \n",
       "1  21.61427  GALAXY  0.779136  \n",
       "2  18.94827  GALAXY  0.644195  \n",
       "3  19.25010  GALAXY  0.932346  \n",
       "4  15.54461  GALAXY  0.116123  "
      ]
     },
     "execution_count": 35,
     "metadata": {},
     "output_type": "execute_result"
    }
   ],
   "source": [
    "df = pd.read_csv('../Dataset/preprocessed_data.csv')\n",
    "df.head()"
   ]
  },
  {
   "cell_type": "code",
   "execution_count": 4,
   "id": "1c69337c473eefa6",
   "metadata": {
    "ExecuteTime": {
     "end_time": "2025-03-10T16:16:25.300202Z",
     "start_time": "2025-03-10T16:16:25.285803Z"
    }
   },
   "outputs": [
    {
     "data": {
      "text/plain": [
       "obj_ID         float64\n",
       "alpha          float64\n",
       "delta          float64\n",
       "u              float64\n",
       "g              float64\n",
       "r              float64\n",
       "i              float64\n",
       "z              float64\n",
       "run_ID           int64\n",
       "rerun_ID         int64\n",
       "cam_col          int64\n",
       "field_ID         int64\n",
       "spec_obj_ID    float64\n",
       "class           object\n",
       "redshift       float64\n",
       "plate            int64\n",
       "MJD              int64\n",
       "fiber_ID         int64\n",
       "dtype: object"
      ]
     },
     "execution_count": 4,
     "metadata": {},
     "output_type": "execute_result"
    }
   ],
   "source": [
    "df.dtypes"
   ]
  },
  {
   "cell_type": "markdown",
   "id": "dbffff04a1d6aa76",
   "metadata": {},
   "source": [
    "Let's pick the attribute \"u\" to complete discretization on."
   ]
  },
  {
   "cell_type": "code",
   "execution_count": 5,
   "id": "f7ac1a7d280bd6d0",
   "metadata": {
    "ExecuteTime": {
     "end_time": "2025-03-10T16:16:25.892338Z",
     "start_time": "2025-03-10T16:16:25.884933Z"
    }
   },
   "outputs": [
    {
     "data": {
      "application/vnd.microsoft.datawrangler.viewer.v0+json": {
       "columns": [
        {
         "name": "index",
         "rawType": "int64",
         "type": "integer"
        },
        {
         "name": "u",
         "rawType": "float64",
         "type": "float"
        }
       ],
       "conversionMethod": "pd.DataFrame",
       "ref": "f7e649b8-34aa-4c81-a1a9-c224e9fd9491",
       "rows": [
        [
         "0",
         "23.87882"
        ],
        [
         "1",
         "24.77759"
        ],
        [
         "2",
         "25.26307"
        ],
        [
         "3",
         "22.13682"
        ],
        [
         "4",
         "19.43718"
        ]
       ],
       "shape": {
        "columns": 1,
        "rows": 5
       }
      },
      "text/html": [
       "<div>\n",
       "<style scoped>\n",
       "    .dataframe tbody tr th:only-of-type {\n",
       "        vertical-align: middle;\n",
       "    }\n",
       "\n",
       "    .dataframe tbody tr th {\n",
       "        vertical-align: top;\n",
       "    }\n",
       "\n",
       "    .dataframe thead th {\n",
       "        text-align: right;\n",
       "    }\n",
       "</style>\n",
       "<table border=\"1\" class=\"dataframe\">\n",
       "  <thead>\n",
       "    <tr style=\"text-align: right;\">\n",
       "      <th></th>\n",
       "      <th>u</th>\n",
       "    </tr>\n",
       "  </thead>\n",
       "  <tbody>\n",
       "    <tr>\n",
       "      <th>0</th>\n",
       "      <td>23.87882</td>\n",
       "    </tr>\n",
       "    <tr>\n",
       "      <th>1</th>\n",
       "      <td>24.77759</td>\n",
       "    </tr>\n",
       "    <tr>\n",
       "      <th>2</th>\n",
       "      <td>25.26307</td>\n",
       "    </tr>\n",
       "    <tr>\n",
       "      <th>3</th>\n",
       "      <td>22.13682</td>\n",
       "    </tr>\n",
       "    <tr>\n",
       "      <th>4</th>\n",
       "      <td>19.43718</td>\n",
       "    </tr>\n",
       "  </tbody>\n",
       "</table>\n",
       "</div>"
      ],
      "text/plain": [
       "          u\n",
       "0  23.87882\n",
       "1  24.77759\n",
       "2  25.26307\n",
       "3  22.13682\n",
       "4  19.43718"
      ]
     },
     "execution_count": 5,
     "metadata": {},
     "output_type": "execute_result"
    }
   ],
   "source": [
    "u = pd.DataFrame(df.u)\n",
    "u.head()\n"
   ]
  },
  {
   "cell_type": "markdown",
   "id": "69ce1ec67eaee510",
   "metadata": {},
   "source": [
    "Let's check for outliers."
   ]
  },
  {
   "cell_type": "code",
   "execution_count": 6,
   "id": "7a17e6969e6a2d51",
   "metadata": {
    "ExecuteTime": {
     "end_time": "2025-03-10T16:16:26.002398Z",
     "start_time": "2025-03-10T16:16:25.991364Z"
    }
   },
   "outputs": [
    {
     "name": "stdout",
     "output_type": "stream",
     "text": [
      "u    1\n",
      "dtype: int64\n"
     ]
    }
   ],
   "source": [
    "print((u < 0).sum())"
   ]
  },
  {
   "cell_type": "markdown",
   "id": "b02e713c83ecdec2",
   "metadata": {},
   "source": [
    "There's an outlier we need to remove."
   ]
  },
  {
   "cell_type": "code",
   "execution_count": 7,
   "id": "d9916391e893cbb8",
   "metadata": {
    "ExecuteTime": {
     "end_time": "2025-03-10T16:16:26.212232Z",
     "start_time": "2025-03-10T16:16:26.195855Z"
    }
   },
   "outputs": [
    {
     "data": {
      "application/vnd.microsoft.datawrangler.viewer.v0+json": {
       "columns": [
        {
         "name": "index",
         "rawType": "int64",
         "type": "integer"
        },
        {
         "name": "u",
         "rawType": "float64",
         "type": "float"
        }
       ],
       "conversionMethod": "pd.DataFrame",
       "ref": "21b47a09-681b-4b50-95b6-a011d27db2f0",
       "rows": [
        [
         "79543",
         "-9999.0"
        ]
       ],
       "shape": {
        "columns": 1,
        "rows": 1
       }
      },
      "text/html": [
       "<div>\n",
       "<style scoped>\n",
       "    .dataframe tbody tr th:only-of-type {\n",
       "        vertical-align: middle;\n",
       "    }\n",
       "\n",
       "    .dataframe tbody tr th {\n",
       "        vertical-align: top;\n",
       "    }\n",
       "\n",
       "    .dataframe thead th {\n",
       "        text-align: right;\n",
       "    }\n",
       "</style>\n",
       "<table border=\"1\" class=\"dataframe\">\n",
       "  <thead>\n",
       "    <tr style=\"text-align: right;\">\n",
       "      <th></th>\n",
       "      <th>u</th>\n",
       "    </tr>\n",
       "  </thead>\n",
       "  <tbody>\n",
       "    <tr>\n",
       "      <th>79543</th>\n",
       "      <td>-9999.0</td>\n",
       "    </tr>\n",
       "  </tbody>\n",
       "</table>\n",
       "</div>"
      ],
      "text/plain": [
       "            u\n",
       "79543 -9999.0"
      ]
     },
     "execution_count": 7,
     "metadata": {},
     "output_type": "execute_result"
    }
   ],
   "source": [
    "u.nsmallest(1,'u')\n"
   ]
  },
  {
   "cell_type": "code",
   "execution_count": 8,
   "id": "81b4b6a3d2ad4e7",
   "metadata": {
    "ExecuteTime": {
     "end_time": "2025-03-10T16:16:26.363242Z",
     "start_time": "2025-03-10T16:16:26.355024Z"
    }
   },
   "outputs": [],
   "source": [
    "u = u.drop(index=79543)"
   ]
  },
  {
   "cell_type": "code",
   "execution_count": 9,
   "id": "1d4b6fab5602b9c4",
   "metadata": {
    "ExecuteTime": {
     "end_time": "2025-03-10T16:16:26.435236Z",
     "start_time": "2025-03-10T16:16:26.423752Z"
    }
   },
   "outputs": [
    {
     "data": {
      "application/vnd.microsoft.datawrangler.viewer.v0+json": {
       "columns": [
        {
         "name": "index",
         "rawType": "int64",
         "type": "integer"
        },
        {
         "name": "u",
         "rawType": "float64",
         "type": "float"
        }
       ],
       "conversionMethod": "pd.DataFrame",
       "ref": "13d2acc2-f1de-499e-89df-f22f1b3c67f1",
       "rows": [
        [
         "57763",
         "10.99623"
        ]
       ],
       "shape": {
        "columns": 1,
        "rows": 1
       }
      },
      "text/html": [
       "<div>\n",
       "<style scoped>\n",
       "    .dataframe tbody tr th:only-of-type {\n",
       "        vertical-align: middle;\n",
       "    }\n",
       "\n",
       "    .dataframe tbody tr th {\n",
       "        vertical-align: top;\n",
       "    }\n",
       "\n",
       "    .dataframe thead th {\n",
       "        text-align: right;\n",
       "    }\n",
       "</style>\n",
       "<table border=\"1\" class=\"dataframe\">\n",
       "  <thead>\n",
       "    <tr style=\"text-align: right;\">\n",
       "      <th></th>\n",
       "      <th>u</th>\n",
       "    </tr>\n",
       "  </thead>\n",
       "  <tbody>\n",
       "    <tr>\n",
       "      <th>57763</th>\n",
       "      <td>10.99623</td>\n",
       "    </tr>\n",
       "  </tbody>\n",
       "</table>\n",
       "</div>"
      ],
      "text/plain": [
       "              u\n",
       "57763  10.99623"
      ]
     },
     "execution_count": 9,
     "metadata": {},
     "output_type": "execute_result"
    }
   ],
   "source": [
    "u.nsmallest(1,'u')"
   ]
  },
  {
   "cell_type": "markdown",
   "id": "9de24e43c7335286",
   "metadata": {},
   "source": [
    "Let's look at the data."
   ]
  },
  {
   "cell_type": "code",
   "execution_count": 10,
   "id": "77fda9892ca6d642",
   "metadata": {
    "ExecuteTime": {
     "end_time": "2025-03-10T16:16:26.629167Z",
     "start_time": "2025-03-10T16:16:26.549839Z"
    }
   },
   "outputs": [
    {
     "data": {
      "image/png": "[encoded data removed]",
      "text/plain": [
       "<Figure size 640x480 with 1 Axes>"
      ]
     },
     "metadata": {},
     "output_type": "display_data"
    }
   ],
   "source": [
    "u.hist(bins = 20)\n",
    "plt.show()"
   ]
  },
  {
   "cell_type": "markdown",
   "id": "1ae176b4e98a1b7b",
   "metadata": {},
   "source": [
    "Let's now set up the discretizer so that it uses uniform discretization (bins of same width)."
   ]
  },
  {
   "cell_type": "code",
   "execution_count": 11,
   "id": "3e017f6931e08c4c",
   "metadata": {
    "ExecuteTime": {
     "end_time": "2025-03-10T16:16:26.762722Z",
     "start_time": "2025-03-10T16:16:26.748605Z"
    }
   },
   "outputs": [],
   "source": [
    "dc = KBinsDiscretizer(n_bins=10, encode='ordinal', strategy='uniform')"
   ]
  },
  {
   "cell_type": "markdown",
   "id": "105629d7bb5885cb",
   "metadata": {},
   "source": [
    "Now let's discretize u."
   ]
  },
  {
   "cell_type": "code",
   "execution_count": 12,
   "id": "de766e81df12d317",
   "metadata": {
    "ExecuteTime": {
     "end_time": "2025-03-10T16:16:26.900096Z",
     "start_time": "2025-03-10T16:16:26.890605Z"
    }
   },
   "outputs": [
    {
     "name": "stdout",
     "output_type": "stream",
     "text": [
      "[[5.]\n",
      " [6.]\n",
      " [6.]\n",
      " ...\n",
      " [4.]\n",
      " [6.]\n",
      " [5.]]\n"
     ]
    }
   ],
   "source": [
    "dc.fit(u)\n",
    "Xu = dc.transform(u)\n",
    "print(Xu)"
   ]
  },
  {
   "cell_type": "code",
   "execution_count": 13,
   "id": "d83cf81e86e7d4d5",
   "metadata": {
    "ExecuteTime": {
     "end_time": "2025-03-10T16:16:27.016367Z",
     "start_time": "2025-03-10T16:16:26.940365Z"
    }
   },
   "outputs": [
    {
     "data": {
      "image/png": "[encoded data removed]",
      "text/plain": [
       "<Figure size 640x480 with 1 Axes>"
      ]
     },
     "metadata": {},
     "output_type": "display_data"
    }
   ],
   "source": [
    "Xd = pd.DataFrame(Xu)\n",
    "Xd.hist(bins = 10)\n",
    "plt.show()"
   ]
  },
  {
   "cell_type": "code",
   "execution_count": 14,
   "id": "b7641c43417706b2",
   "metadata": {
    "ExecuteTime": {
     "end_time": "2025-03-10T16:16:27.034129Z",
     "start_time": "2025-03-10T16:16:27.029688Z"
    }
   },
   "outputs": [
    {
     "name": "stdout",
     "output_type": "stream",
     "text": [
      "[array([10.99623 , 13.174746, 15.353262, 17.531778, 19.710294, 21.88881 ,\n",
      "        24.067326, 26.245842, 28.424358, 30.602874, 32.78139 ])          ]\n"
     ]
    }
   ],
   "source": [
    "print(dc.bin_edges_)"
   ]
  },
  {
   "cell_type": "markdown",
   "id": "64f1b5835b6db4e4",
   "metadata": {},
   "source": [
    "Time to try with quantile binning. Each bin has the same number of values."
   ]
  },
  {
   "cell_type": "code",
   "execution_count": 15,
   "id": "3dd3e6a3b111cb5c",
   "metadata": {
    "ExecuteTime": {
     "end_time": "2025-03-10T16:16:27.061654Z",
     "start_time": "2025-03-10T16:16:27.058134Z"
    }
   },
   "outputs": [],
   "source": [
    "dc = KBinsDiscretizer(n_bins=10, encode='ordinal', strategy='quantile');"
   ]
  },
  {
   "cell_type": "code",
   "execution_count": 16,
   "id": "f5db14c40b55153e",
   "metadata": {
    "ExecuteTime": {
     "end_time": "2025-03-10T16:16:27.126138Z",
     "start_time": "2025-03-10T16:16:27.114601Z"
    }
   },
   "outputs": [
    {
     "name": "stdout",
     "output_type": "stream",
     "text": [
      "[[7.]\n",
      " [8.]\n",
      " [9.]\n",
      " ...\n",
      " [3.]\n",
      " [9.]\n",
      " [5.]]\n"
     ]
    }
   ],
   "source": [
    "dc.fit(u)\n",
    "Xu = dc.transform(u)\n",
    "print(Xu)"
   ]
  },
  {
   "cell_type": "code",
   "execution_count": 17,
   "id": "7fdbf23c29e3deca",
   "metadata": {
    "ExecuteTime": {
     "end_time": "2025-03-10T16:16:27.204370Z",
     "start_time": "2025-03-10T16:16:27.136986Z"
    }
   },
   "outputs": [
    {
     "data": {
      "image/png": "[encoded data removed]",
      "text/plain": [
       "<Figure size 640x480 with 1 Axes>"
      ]
     },
     "metadata": {},
     "output_type": "display_data"
    }
   ],
   "source": [
    "Xd = pd.DataFrame(Xu)\n",
    "Xd.hist(bins=10)\n",
    "plt.show()"
   ]
  },
  {
   "cell_type": "code",
   "execution_count": 18,
   "id": "38988e61ea372fb1",
   "metadata": {
    "ExecuteTime": {
     "end_time": "2025-03-10T16:16:27.221048Z",
     "start_time": "2025-03-10T16:16:27.216451Z"
    }
   },
   "outputs": [
    {
     "name": "stdout",
     "output_type": "stream",
     "text": [
      "[array([10.99623 , 19.117086, 19.961096, 20.74869 , 21.560702, 22.17914 ,\n",
      "        22.741844, 23.334264, 24.083748, 25.096442, 32.78139 ])          ]\n"
     ]
    }
   ],
   "source": [
    "print(dc.bin_edges_)"
   ]
  },
  {
   "cell_type": "markdown",
   "id": "294ea1f05d75c1df",
   "metadata": {},
   "source": [
    "Finally, let's try kmeans."
   ]
  },
  {
   "cell_type": "code",
   "execution_count": 19,
   "id": "8e300c068237fca8",
   "metadata": {
    "ExecuteTime": {
     "end_time": "2025-03-10T16:16:27.255497Z",
     "start_time": "2025-03-10T16:16:27.246246Z"
    }
   },
   "outputs": [],
   "source": [
    "dc = KBinsDiscretizer(n_bins=10, encode='ordinal', strategy='kmeans');"
   ]
  },
  {
   "cell_type": "code",
   "execution_count": 20,
   "id": "504a12122ec50d1c",
   "metadata": {
    "ExecuteTime": {
     "end_time": "2025-03-10T16:16:27.312485Z",
     "start_time": "2025-03-10T16:16:27.267797Z"
    }
   },
   "outputs": [
    {
     "name": "stdout",
     "output_type": "stream",
     "text": [
      "[[7]\n",
      " [8]\n",
      " [8]\n",
      " ...\n",
      " [4]\n",
      " [8]\n",
      " [5]]\n"
     ]
    }
   ],
   "source": [
    "dc.fit(u)\n",
    "Xu = dc.transform(u).astype(int)\n",
    "print(Xu)"
   ]
  },
  {
   "cell_type": "code",
   "execution_count": 21,
   "id": "f36b8fdd",
   "metadata": {},
   "outputs": [
    {
     "data": {
      "text/plain": [
       "dtype('int64')"
      ]
     },
     "execution_count": 21,
     "metadata": {},
     "output_type": "execute_result"
    }
   ],
   "source": [
    "Xu.astype(int).dtype"
   ]
  },
  {
   "cell_type": "code",
   "execution_count": 22,
   "id": "76a37963f8341bde",
   "metadata": {
    "ExecuteTime": {
     "end_time": "2025-03-10T16:16:27.417723Z",
     "start_time": "2025-03-10T16:16:27.328561Z"
    }
   },
   "outputs": [
    {
     "data": {
      "image/png": "[encoded data removed]",
      "text/plain": [
       "<Figure size 640x480 with 1 Axes>"
      ]
     },
     "metadata": {},
     "output_type": "display_data"
    }
   ],
   "source": [
    "Xd = pd.DataFrame(Xu)\n",
    "Xd.hist(bins=10)\n",
    "plt.show()"
   ]
  },
  {
   "cell_type": "code",
   "execution_count": 23,
   "id": "efe2a68089daa5f8",
   "metadata": {
    "ExecuteTime": {
     "end_time": "2025-03-10T16:16:27.444108Z",
     "start_time": "2025-03-10T16:16:27.439839Z"
    }
   },
   "outputs": [
    {
     "name": "stdout",
     "output_type": "stream",
     "text": [
      "[array([10.99623   , 17.86389903, 19.07091461, 20.04854328, 21.02701182,\n",
      "        21.97193536, 22.84799271, 23.75800982, 24.73827666, 25.79009659,\n",
      "        32.78139   ])                                                   ]\n"
     ]
    }
   ],
   "source": [
    "print(dc.bin_edges_)"
   ]
  },
  {
   "cell_type": "markdown",
   "id": "6010bc3f",
   "metadata": {},
   "source": [
    "____\n",
    "# Part2: K-optimization: \n",
    "___"
   ]
  },
  {
   "cell_type": "code",
   "execution_count": 24,
   "id": "bef1b394",
   "metadata": {},
   "outputs": [
    {
     "name": "stdout",
     "output_type": "stream",
     "text": [
      "             obj_ID          alpha          delta              u  \\\n",
      "count  1.000000e+05  100000.000000  100000.000000  100000.000000   \n",
      "mean   1.237665e+18     177.629117      24.135305      21.980468   \n",
      "std    8.438560e+12      96.502241      19.644665      31.769291   \n",
      "min    1.237646e+18       0.005528     -18.785328   -9999.000000   \n",
      "25%    1.237659e+18     127.518222       5.146771      20.352353   \n",
      "50%    1.237663e+18     180.900700      23.645922      22.179135   \n",
      "75%    1.237668e+18     233.895005      39.901550      23.687440   \n",
      "max    1.237681e+18     359.999810      83.000519      32.781390   \n",
      "\n",
      "                   g              r              i              z  \\\n",
      "count  100000.000000  100000.000000  100000.000000  100000.000000   \n",
      "mean       20.531387      19.645762      19.084854      18.668810   \n",
      "std        31.750292       1.854760       1.757895      31.728152   \n",
      "min     -9999.000000       9.822070       9.469903   -9999.000000   \n",
      "25%        18.965230      18.135828      17.732285      17.460677   \n",
      "50%        21.099835      20.125290      19.405145      19.004595   \n",
      "75%        22.123767      21.044785      20.396495      19.921120   \n",
      "max        31.602240      29.571860      32.141470      29.383740   \n",
      "\n",
      "              run_ID  rerun_ID        cam_col       field_ID   spec_obj_ID  \\\n",
      "count  100000.000000  100000.0  100000.000000  100000.000000  1.000000e+05   \n",
      "mean     4481.366060     301.0       3.511610     186.130520  5.783882e+18   \n",
      "std      1964.764593       0.0       1.586912     149.011073  3.324016e+18   \n",
      "min       109.000000     301.0       1.000000      11.000000  2.995191e+17   \n",
      "25%      3187.000000     301.0       2.000000      82.000000  2.844138e+18   \n",
      "50%      4188.000000     301.0       4.000000     146.000000  5.614883e+18   \n",
      "75%      5326.000000     301.0       5.000000     241.000000  8.332144e+18   \n",
      "max      8162.000000     301.0       6.000000     989.000000  1.412694e+19   \n",
      "\n",
      "            redshift          plate            MJD       fiber_ID  \n",
      "count  100000.000000  100000.000000  100000.000000  100000.000000  \n",
      "mean        0.576661    5137.009660   55588.647500     449.312740  \n",
      "std         0.730707    2952.303351    1808.484233     272.498404  \n",
      "min        -0.009971     266.000000   51608.000000       1.000000  \n",
      "25%         0.054517    2526.000000   54234.000000     221.000000  \n",
      "50%         0.424173    4987.000000   55868.500000     433.000000  \n",
      "75%         0.704154    7400.250000   56777.000000     645.000000  \n",
      "max         7.011245   12547.000000   58932.000000    1000.000000  \n"
     ]
    }
   ],
   "source": [
    "print(df.describe())"
   ]
  },
  {
   "cell_type": "markdown",
   "id": "a1e3c3ff",
   "metadata": {},
   "source": [
    "Each of the above techniques will be assessed on each continuous training variable in order to find the best k-value for each variable per discretization technique. Each technique will have an inherent measure for identifying the best k-value for a given variable. Namely, both equal distance and equal frequency will assess optimal-k through evaluation of the sum of each bin's variance, while k-means discretization will assess the optimal-k through the use of a jump statistic that accounts for the relative difference in distortion within bins from one k-value to the next. Ultimately, these optimal bin numbers per technique will be assessed to establish which technique has the most positive impact on the reduction of correlation across the predictive variables. The approach of establishing discretization techniques through direct competition is established in (reference to credit default paper). The approach here focuses on the change in correlation between variables as the desired outcome for discretization rather than focusing on the information gain in order to avoid the potential for over-fitting that is associated with optimizing to the known outcomes (I think the book identifies that this is a danger with supervised discretization but I am hoping to find another peer reviewed source in case the text is not allowed). In addition, this will prevent the preprocessing steps from impacting the training of the data for a particular modeling technique since it is meant to train multiple models using different modeling algorithms."
   ]
  },
  {
   "cell_type": "markdown",
   "id": "3cb10239",
   "metadata": {},
   "source": [
    "#### Equal frequency discretization:\n",
    "The equal frequency technique will use the sum of within-bin variance for each of k-bins in order to choose the best number of bins. Since each bin's object frequency is the same, there is no need for weighing the impact of each bin to the sum. The goal is to identify what k-value produces that smallest variance. "
   ]
  },
  {
   "cell_type": "markdown",
   "id": "92753e53",
   "metadata": {},
   "source": [
    "#### Equal width discretization:\n",
    "The equal width technique also utilizes variance as a measure for optimum k-bins but in the context of a weighted sum of bin variances for each k-value candidate. The reason for the weights being that the elements in each bin will vary and variance is inversely proportional to the number of instances that inform on it. Since we are using the lack of cumulative variance to establish likeness of each bin (which ideally is high), the membership size of each bin can lead to false implications for the likeness within each bin and extend those implications to the cumulative measure. Therefore, the cumulative measure for the equal width technique is the weighted sum of bin variance. The scalar of each bin variance is the relative frequency of instances in each bin. This results in the bins with the smallest membership level having the largest reduction in contribution to cumulative variance."
   ]
  },
  {
   "cell_type": "markdown",
   "id": "fb71410f",
   "metadata": {},
   "source": [
    "#### K-means Discretization:\n",
    "The k-means technique for discretization measures optimum k-values as the largest jump between the distortion within each identified cluster. Ideally, the clusters will have the lowest possible amount of distortion because they will only contain instances that are more like the other members than the members of other clusters.The distortion can be established using several different techniques, such as the within-cluster sum of squared distances from each cluster's centroid, but in this case our variable space is one dimensional and doesn't need to account for aspects of multivariates spaces. Therefore, the weighted variance of each clustered bin will achieve the equivalent of jump/gap statistics of multivariate spaces."
   ]
  },
  {
   "cell_type": "markdown",
   "id": "9d345faa",
   "metadata": {},
   "source": [
    "Collectively all of the binning methods can be evaluated by the same measure to find the best number of bins.\n",
    "The following helper function achieves this in each instance regardless of whether or not the bins have consistent or variable bin membership. Specifically for equal membership binning the weight will have a constant value "
   ]
  },
  {
   "cell_type": "code",
   "execution_count": 25,
   "id": "b8626da1",
   "metadata": {},
   "outputs": [],
   "source": [
    "def wt_sum_variance(df: pd.DataFrame)->float:\n",
    "    \"\"\"\n",
    "        establishes cumulative variance for binning\n",
    "        of a variable\n",
    "    \"\"\"\n",
    "    # stores weighted variances of bins\n",
    "    bin_wt_variances = []\n",
    "    \n",
    "    # list of bin number identifiers that are to be iterated through to find the weighted variance of each \n",
    "    bins = df.iloc[:,1].unique()\n",
    "\n",
    "    for bin in bins:\n",
    "        # get bin members\n",
    "        bin_members = df[df.iloc[:, 1] == bin].iloc[:, 0]\n",
    "        # appends bin_wt_variances with next value\n",
    "        bin_wt_variances.append((bin_members.shape[0]/df.shape[0])*bin_members.var())\n",
    "\n",
    "    return sum(bin_wt_variances)\n",
    "\n"
   ]
  },
  {
   "cell_type": "markdown",
   "id": "00922027",
   "metadata": {},
   "source": [
    "(more)... To establish the location of where the elbow exists, the rate at which the change in variance is i closest to zero is observed. This is achieved from estimates of the 1st and second derivative for the discrete plot ok variance against k as the differences between the differences in variance of k values. in order to identify the optimal k- the location just prior to where the second derivative values change signs is identified. "
   ]
  },
  {
   "cell_type": "code",
   "execution_count": 26,
   "id": "309726a9",
   "metadata": {},
   "outputs": [],
   "source": [
    "def best_k_index(variances: list) -> int:\n",
    "    \"\"\"\n",
    "        finds the correct location of the inflection pt \n",
    "        in the change in variance\n",
    "    \"\"\"\n",
    "    # second derivative of variance\n",
    "    acceleration = np.diff(np.diff(variances))\n",
    "    # starting at one corrects for first indicial shift due to diff array \n",
    "    for k in range(1, len(acceleration)): \n",
    "        # finds inflection in variance\n",
    "        if acceleration[k-1] < 0 and acceleration[k] > 0:\n",
    "            # \"+2\" addresses second indicial shift\n",
    "            return k + 2\n",
    "    return -1  # if no inflection point, return indicator\n",
    "\n",
    "\n"
   ]
  },
  {
   "cell_type": "markdown",
   "id": "e8216283",
   "metadata": {},
   "source": [
    "sandbox cell:"
   ]
  },
  {
   "cell_type": "code",
   "execution_count": 27,
   "id": "870a2c1a",
   "metadata": {},
   "outputs": [
    {
     "data": {
      "text/plain": [
       "-1"
      ]
     },
     "execution_count": 27,
     "metadata": {},
     "output_type": "execute_result"
    }
   ],
   "source": [
    "var1 = [32, 20, 8, 2, 1.3, 1.2, 1.1]\n",
    "best_k_index(var1)\n",
    "\n",
    "# originally wrote later code in a way where -1 became and index (unintentionally) leading to the last value in the variance list always being returned when an inflection point was not detected. It broke my brain because i couldn't understand where in my code there would be a mechanism that would return the last value in so many instances."
   ]
  },
  {
   "cell_type": "markdown",
   "id": "4f62b0a1",
   "metadata": {},
   "source": [
    "#### K-value candidate range:\n",
    "The range for candidate k-values tested for each technique is defined to be consistent across all of the binning techniques. The range maximum is determined using the variance and absolute frequency of all instances in the predictive variables. The frequency is inherently constant across variables but the variance is specific to each. The minimum is the number of classes in the predicted variable."
   ]
  },
  {
   "cell_type": "code",
   "execution_count": 36,
   "id": "d9f01b74",
   "metadata": {},
   "outputs": [
    {
     "name": "stdout",
     "output_type": "stream",
     "text": [
      "alpha_maxK: 30\n",
      "alpha width k: 8\n",
      "alpha frequency k: 12\n",
      "alpha kmeans k: 10\n",
      "delta_maxK: 759\n",
      "delta width k: 8\n",
      "delta frequency k: 11\n",
      "delta kmeans k: 10\n",
      "u_maxK: 1000\n",
      "u width k: 28\n",
      "u frequency k: 49\n",
      "u kmeans k: 16\n",
      "g_maxK: 1000\n",
      "g width k: 17\n",
      "g frequency k: 41\n",
      "g kmeans k: 19\n",
      "r_maxK: 1000\n",
      "r width k: 9\n",
      "r frequency k: 51\n",
      "r kmeans k: 20\n",
      "i_maxK: 1000\n",
      "i width k: 6\n",
      "i frequency k: 38\n",
      "i kmeans k: 17\n",
      "z_maxK: 1000\n",
      "z width k: 6\n",
      "z frequency k: 68\n",
      "z kmeans k: 14\n",
      "redshift_maxK: 1000\n",
      "redshift width k: 18\n",
      "redshift frequency k: 34\n",
      "redshift kmeans k: 12\n"
     ]
    },
    {
     "data": {
      "application/vnd.microsoft.datawrangler.viewer.v0+json": {
       "columns": [
        {
         "name": "index",
         "rawType": "int64",
         "type": "integer"
        },
        {
         "name": "alpha",
         "rawType": "float64",
         "type": "float"
        },
        {
         "name": "delta",
         "rawType": "float64",
         "type": "float"
        },
        {
         "name": "u",
         "rawType": "float64",
         "type": "float"
        },
        {
         "name": "g",
         "rawType": "float64",
         "type": "float"
        },
        {
         "name": "r",
         "rawType": "float64",
         "type": "float"
        },
        {
         "name": "i",
         "rawType": "float64",
         "type": "float"
        },
        {
         "name": "z",
         "rawType": "float64",
         "type": "float"
        },
        {
         "name": "redshift",
         "rawType": "float64",
         "type": "float"
        },
        {
         "name": "alpha_width",
         "rawType": "int64",
         "type": "integer"
        },
        {
         "name": "alpha_freq",
         "rawType": "int64",
         "type": "integer"
        },
        {
         "name": "alpha_kmeans",
         "rawType": "int64",
         "type": "integer"
        },
        {
         "name": "delta_width",
         "rawType": "int64",
         "type": "integer"
        },
        {
         "name": "delta_freq",
         "rawType": "int64",
         "type": "integer"
        },
        {
         "name": "delta_kmeans",
         "rawType": "int64",
         "type": "integer"
        },
        {
         "name": "u_width",
         "rawType": "int64",
         "type": "integer"
        },
        {
         "name": "u_freq",
         "rawType": "int64",
         "type": "integer"
        },
        {
         "name": "u_kmeans",
         "rawType": "int64",
         "type": "integer"
        },
        {
         "name": "g_width",
         "rawType": "int64",
         "type": "integer"
        },
        {
         "name": "g_freq",
         "rawType": "int64",
         "type": "integer"
        },
        {
         "name": "g_kmeans",
         "rawType": "int64",
         "type": "integer"
        },
        {
         "name": "r_width",
         "rawType": "int64",
         "type": "integer"
        },
        {
         "name": "r_freq",
         "rawType": "int64",
         "type": "integer"
        },
        {
         "name": "r_kmeans",
         "rawType": "int64",
         "type": "integer"
        },
        {
         "name": "i_width",
         "rawType": "int64",
         "type": "integer"
        },
        {
         "name": "i_freq",
         "rawType": "int64",
         "type": "integer"
        },
        {
         "name": "i_kmeans",
         "rawType": "int64",
         "type": "integer"
        },
        {
         "name": "z_width",
         "rawType": "int64",
         "type": "integer"
        },
        {
         "name": "z_freq",
         "rawType": "int64",
         "type": "integer"
        },
        {
         "name": "z_kmeans",
         "rawType": "int64",
         "type": "integer"
        },
        {
         "name": "redshift_width",
         "rawType": "int64",
         "type": "integer"
        },
        {
         "name": "redshift_freq",
         "rawType": "int64",
         "type": "integer"
        },
        {
         "name": "redshift_kmeans",
         "rawType": "int64",
         "type": "integer"
        }
       ],
       "conversionMethod": "pd.DataFrame",
       "ref": "722d8e44-4e5c-41af-89da-dae39b39ed9a",
       "rows": [
        [
         "0",
         "135.6891066036",
         "32.4946318397087",
         "23.87882",
         "22.2753",
         "20.39501",
         "19.16573",
         "18.79371",
         "0.6347936",
         "3",
         "3",
         "3",
         "4",
         "6",
         "5",
         "17",
         "38",
         "11",
         "10",
         "32",
         "13",
         "5",
         "29",
         "11",
         "3",
         "17",
         "8",
         "3",
         "30",
         "6",
         "4",
         "24",
         "4"
        ],
        [
         "1",
         "144.826100550256",
         "31.2741848944939",
         "24.77759",
         "22.83188",
         "22.58444",
         "21.16812",
         "21.61427",
         "0.779136",
         "3",
         "4",
         "3",
         "3",
         "6",
         "5",
         "19",
         "42",
         "12",
         "11",
         "36",
         "14",
         "6",
         "50",
         "17",
         "4",
         "33",
         "13",
         "4",
         "65",
         "12",
         "5",
         "27",
         "5"
        ],
        [
         "2",
         "142.188789562506",
         "35.5824441819976",
         "25.26307",
         "22.66389",
         "20.60976",
         "19.34857",
         "18.94827",
         "0.6441945",
         "3",
         "4",
         "3",
         "4",
         "7",
         "5",
         "20",
         "44",
         "13",
         "11",
         "35",
         "13",
         "5",
         "32",
         "12",
         "3",
         "18",
         "8",
         "3",
         "33",
         "7",
         "4",
         "24",
         "4"
        ],
        [
         "3",
         "338.741037753146",
         "-0.402827574587482",
         "22.13682",
         "23.77656",
         "21.61162",
         "20.50454",
         "19.2501",
         "0.9323456",
         "7",
         "11",
         "8",
         "1",
         "1",
         "1",
         "14",
         "24",
         "8",
         "12",
         "39",
         "16",
         "6",
         "44",
         "15",
         "3",
         "29",
         "11",
         "3",
         "39",
         "7",
         "6",
         "28",
         "5"
        ],
        [
         "4",
         "345.282593210935",
         "21.1838656010284",
         "19.43718",
         "17.58028",
         "16.49747",
         "15.97711",
         "15.54461",
         "0.1161227",
         "7",
         "11",
         "9",
         "3",
         "5",
         "3",
         "9",
         "6",
         "4",
         "4",
         "3",
         "3",
         "1",
         "2",
         "3",
         "1",
         "1",
         "2",
         "1",
         "2",
         "1",
         "0",
         "11",
         "1"
        ]
       ],
       "shape": {
        "columns": 32,
        "rows": 5
       }
      },
      "text/html": [
       "<div>\n",
       "<style scoped>\n",
       "    .dataframe tbody tr th:only-of-type {\n",
       "        vertical-align: middle;\n",
       "    }\n",
       "\n",
       "    .dataframe tbody tr th {\n",
       "        vertical-align: top;\n",
       "    }\n",
       "\n",
       "    .dataframe thead th {\n",
       "        text-align: right;\n",
       "    }\n",
       "</style>\n",
       "<table border=\"1\" class=\"dataframe\">\n",
       "  <thead>\n",
       "    <tr style=\"text-align: right;\">\n",
       "      <th></th>\n",
       "      <th>alpha</th>\n",
       "      <th>delta</th>\n",
       "      <th>u</th>\n",
       "      <th>g</th>\n",
       "      <th>r</th>\n",
       "      <th>i</th>\n",
       "      <th>z</th>\n",
       "      <th>redshift</th>\n",
       "      <th>alpha_width</th>\n",
       "      <th>alpha_freq</th>\n",
       "      <th>...</th>\n",
       "      <th>r_kmeans</th>\n",
       "      <th>i_width</th>\n",
       "      <th>i_freq</th>\n",
       "      <th>i_kmeans</th>\n",
       "      <th>z_width</th>\n",
       "      <th>z_freq</th>\n",
       "      <th>z_kmeans</th>\n",
       "      <th>redshift_width</th>\n",
       "      <th>redshift_freq</th>\n",
       "      <th>redshift_kmeans</th>\n",
       "    </tr>\n",
       "  </thead>\n",
       "  <tbody>\n",
       "    <tr>\n",
       "      <th>0</th>\n",
       "      <td>135.689107</td>\n",
       "      <td>32.494632</td>\n",
       "      <td>23.87882</td>\n",
       "      <td>22.27530</td>\n",
       "      <td>20.39501</td>\n",
       "      <td>19.16573</td>\n",
       "      <td>18.79371</td>\n",
       "      <td>0.634794</td>\n",
       "      <td>3</td>\n",
       "      <td>3</td>\n",
       "      <td>...</td>\n",
       "      <td>11</td>\n",
       "      <td>3</td>\n",
       "      <td>17</td>\n",
       "      <td>8</td>\n",
       "      <td>3</td>\n",
       "      <td>30</td>\n",
       "      <td>6</td>\n",
       "      <td>4</td>\n",
       "      <td>24</td>\n",
       "      <td>4</td>\n",
       "    </tr>\n",
       "    <tr>\n",
       "      <th>1</th>\n",
       "      <td>144.826101</td>\n",
       "      <td>31.274185</td>\n",
       "      <td>24.77759</td>\n",
       "      <td>22.83188</td>\n",
       "      <td>22.58444</td>\n",
       "      <td>21.16812</td>\n",
       "      <td>21.61427</td>\n",
       "      <td>0.779136</td>\n",
       "      <td>3</td>\n",
       "      <td>4</td>\n",
       "      <td>...</td>\n",
       "      <td>17</td>\n",
       "      <td>4</td>\n",
       "      <td>33</td>\n",
       "      <td>13</td>\n",
       "      <td>4</td>\n",
       "      <td>65</td>\n",
       "      <td>12</td>\n",
       "      <td>5</td>\n",
       "      <td>27</td>\n",
       "      <td>5</td>\n",
       "    </tr>\n",
       "    <tr>\n",
       "      <th>2</th>\n",
       "      <td>142.188790</td>\n",
       "      <td>35.582444</td>\n",
       "      <td>25.26307</td>\n",
       "      <td>22.66389</td>\n",
       "      <td>20.60976</td>\n",
       "      <td>19.34857</td>\n",
       "      <td>18.94827</td>\n",
       "      <td>0.644195</td>\n",
       "      <td>3</td>\n",
       "      <td>4</td>\n",
       "      <td>...</td>\n",
       "      <td>12</td>\n",
       "      <td>3</td>\n",
       "      <td>18</td>\n",
       "      <td>8</td>\n",
       "      <td>3</td>\n",
       "      <td>33</td>\n",
       "      <td>7</td>\n",
       "      <td>4</td>\n",
       "      <td>24</td>\n",
       "      <td>4</td>\n",
       "    </tr>\n",
       "    <tr>\n",
       "      <th>3</th>\n",
       "      <td>338.741038</td>\n",
       "      <td>-0.402828</td>\n",
       "      <td>22.13682</td>\n",
       "      <td>23.77656</td>\n",
       "      <td>21.61162</td>\n",
       "      <td>20.50454</td>\n",
       "      <td>19.25010</td>\n",
       "      <td>0.932346</td>\n",
       "      <td>7</td>\n",
       "      <td>11</td>\n",
       "      <td>...</td>\n",
       "      <td>15</td>\n",
       "      <td>3</td>\n",
       "      <td>29</td>\n",
       "      <td>11</td>\n",
       "      <td>3</td>\n",
       "      <td>39</td>\n",
       "      <td>7</td>\n",
       "      <td>6</td>\n",
       "      <td>28</td>\n",
       "      <td>5</td>\n",
       "    </tr>\n",
       "    <tr>\n",
       "      <th>4</th>\n",
       "      <td>345.282593</td>\n",
       "      <td>21.183866</td>\n",
       "      <td>19.43718</td>\n",
       "      <td>17.58028</td>\n",
       "      <td>16.49747</td>\n",
       "      <td>15.97711</td>\n",
       "      <td>15.54461</td>\n",
       "      <td>0.116123</td>\n",
       "      <td>7</td>\n",
       "      <td>11</td>\n",
       "      <td>...</td>\n",
       "      <td>3</td>\n",
       "      <td>1</td>\n",
       "      <td>1</td>\n",
       "      <td>2</td>\n",
       "      <td>1</td>\n",
       "      <td>2</td>\n",
       "      <td>1</td>\n",
       "      <td>0</td>\n",
       "      <td>11</td>\n",
       "      <td>1</td>\n",
       "    </tr>\n",
       "  </tbody>\n",
       "</table>\n",
       "<p>5 rows × 32 columns</p>\n",
       "</div>"
      ],
      "text/plain": [
       "        alpha      delta         u         g         r         i         z  \\\n",
       "0  135.689107  32.494632  23.87882  22.27530  20.39501  19.16573  18.79371   \n",
       "1  144.826101  31.274185  24.77759  22.83188  22.58444  21.16812  21.61427   \n",
       "2  142.188790  35.582444  25.26307  22.66389  20.60976  19.34857  18.94827   \n",
       "3  338.741038  -0.402828  22.13682  23.77656  21.61162  20.50454  19.25010   \n",
       "4  345.282593  21.183866  19.43718  17.58028  16.49747  15.97711  15.54461   \n",
       "\n",
       "   redshift  alpha_width  alpha_freq  ...  r_kmeans  i_width  i_freq  \\\n",
       "0  0.634794            3           3  ...        11        3      17   \n",
       "1  0.779136            3           4  ...        17        4      33   \n",
       "2  0.644195            3           4  ...        12        3      18   \n",
       "3  0.932346            7          11  ...        15        3      29   \n",
       "4  0.116123            7          11  ...         3        1       1   \n",
       "\n",
       "   i_kmeans  z_width  z_freq  z_kmeans  redshift_width  redshift_freq  \\\n",
       "0         8        3      30         6               4             24   \n",
       "1        13        4      65        12               5             27   \n",
       "2         8        3      33         7               4             24   \n",
       "3        11        3      39         7               6             28   \n",
       "4         2        1       2         1               0             11   \n",
       "\n",
       "   redshift_kmeans  \n",
       "0                4  \n",
       "1                5  \n",
       "2                4  \n",
       "3                5  \n",
       "4                1  \n",
       "\n",
       "[5 rows x 32 columns]"
      ]
     },
     "execution_count": 36,
     "metadata": {},
     "output_type": "execute_result"
    }
   ],
   "source": [
    "# minimum k candidate range\n",
    "minK = len(df[\"class\"].unique())\n",
    "\n",
    "# chunks of k candidates to test: prevents running all potential k's if second deriv of variace reveals inflcation point.\n",
    "chunk = 10\n",
    "\n",
    "# predictor df\n",
    "predict_vars = df.columns[df.dtypes == \"float64\"]\n",
    "predict_df = df[predict_vars]\n",
    "predict_df.drop(list(predict_df.filter(regex = 'ID')), axis = 1, inplace = True)\n",
    "\n",
    "# predictor variables list\n",
    "colNames = predict_df.columns\n",
    "\n",
    "for col in colNames:\n",
    "    x = predict_df[col]\n",
    "\n",
    "    # ensures that the \n",
    "    maxK = min(int(minK * (len(x)//x.var())), 1000)\n",
    "    print(f\"{col}_maxK: {maxK}\")\n",
    "    k_candidates = np.arange(minK,maxK,1, dtype= int)\n",
    "\n",
    "    # dictionaries: key = k-value, value = labels\n",
    "    width_dict = defaultdict(list)\n",
    "    freq_dict = defaultdict(list)\n",
    "    kmeans_dict = defaultdict(list)\n",
    "\n",
    "    # lists: store variances for each bin type\n",
    "    width_variances = []\n",
    "    freq_variances = []\n",
    "    kmeans_variances = []\n",
    "\n",
    "    for i in range(minK, maxK, chunk):\n",
    "\n",
    "        # protects from out of bounds at end of loop range\n",
    "        end_i = min(i+chunk, maxK)   \n",
    "\n",
    "        for k in range(i, end_i):\n",
    "            \n",
    "            # discretizer objects per k\n",
    "            DC_width = KBinsDiscretizer(n_bins=k, encode='ordinal', strategy='uniform') \n",
    "        \n",
    "            # populates the dictionaries\n",
    "            width_dict[k] = DC_width.fit_transform(x.values.reshape(-1, 1)).astype(int).flatten()\n",
    "            \n",
    "            # creates dfs for variance evaluation\n",
    "            width_df = pd.DataFrame({'column': x,\n",
    "                                    'bins': width_dict[k]})\n",
    "\n",
    "            # populates variance lists\n",
    "            width_variances.append(wt_sum_variance(width_df))\n",
    "\n",
    "\n",
    "        best_width_i = best_k_index(width_variances)\n",
    "\n",
    "        if best_width_i == -1 :\n",
    "            continue\n",
    "\n",
    "        best_k_width = k_candidates[best_width_i]\n",
    "        print(f\"{col} width k: {best_k_width}\")\n",
    "        predict_df[f\"{col}_width\"] = width_dict[best_k_width]\n",
    "\n",
    "        break\n",
    "\n",
    "    for i in range(minK, maxK, chunk):\n",
    "\n",
    "        # protects from outof bounds at end of loop range\n",
    "        end_i = min(i+chunk, maxK)   \n",
    "\n",
    "        for k in range(i, end_i):\n",
    "            \n",
    "            DC_freq = KBinsDiscretizer(n_bins=k, encode='ordinal', strategy='quantile')\n",
    "        \n",
    "            # populates the dictionaries\n",
    "            freq_dict[k] = DC_freq.fit_transform(x.values.reshape(-1, 1)).astype(int).flatten()\n",
    "\n",
    "            # creates dfs for variance evaluation\n",
    "            freq_df = pd.DataFrame({'column': x,\n",
    "                                    'bins': freq_dict[k]})\n",
    "            \n",
    "            # populates variance lists\n",
    "            freq_variances.append(wt_sum_variance(freq_df))\n",
    "\n",
    "        best_freq_i = best_k_index(freq_variances)\n",
    "\n",
    "        if best_freq_i == -1 :\n",
    "            continue\n",
    "\n",
    "        \n",
    "        best_k_freq = k_candidates[best_freq_i]\n",
    "        print(f\"{col} frequency k: {best_k_freq}\")\n",
    "        predict_df[f\"{col}_freq\"] = freq_dict[best_k_freq]\n",
    "\n",
    "        break\n",
    "\n",
    "    for i in range(minK, maxK, chunk):\n",
    "\n",
    "        # protects from outof bounds at end of loop range\n",
    "        end_i = min(i+chunk, maxK)   \n",
    "\n",
    "        for k in range(i, end_i):\n",
    "            \n",
    "            DC_kmeans = KBinsDiscretizer(n_bins=k, encode='ordinal', strategy='kmeans')\n",
    "        \n",
    "            # populates the dictionaries\n",
    "            kmeans_dict[k] = DC_kmeans.fit_transform(x.values.reshape(-1, 1)).astype(int).flatten()\n",
    "\n",
    "            # creates dfs for variance evaluation\n",
    "            kmeans_df = pd.DataFrame({'column': x,\n",
    "                                    'bins': kmeans_dict[k]})\n",
    "            \n",
    "            # populates variance lists\n",
    "            kmeans_variances.append(wt_sum_variance(kmeans_df))\n",
    "\n",
    "        best_kmeans_i = best_k_index(kmeans_variances)\n",
    "\n",
    "        if best_kmeans_i == -1 :\n",
    "            continue\n",
    "\n",
    "        \n",
    "        best_k_kmeans = k_candidates[best_kmeans_i]\n",
    "        print(f\"{col} kmeans k: {best_k_kmeans}\")\n",
    "        predict_df[f\"{col}_kmeans\"] = kmeans_dict[best_k_kmeans]\n",
    "        \n",
    "        break\n",
    "\n",
    "\n",
    "predict_df.head()\n"
   ]
  },
  {
   "cell_type": "markdown",
   "id": "894cf8ff",
   "metadata": {},
   "source": [
    "____\n",
    "# Part3: Correlation Optimization \n",
    "___"
   ]
  },
  {
   "cell_type": "markdown",
   "id": "c539ca03",
   "metadata": {},
   "source": [
    "In a few instances a optimal number of bins could not be evaluated for a given technique. They include u, g, and z. All of these cases produced an optimal k-value for the frequency binning technique. To accommodate this in the correlation optimization through combinations of the different binning approaches per training variable, descretized variables were produced for those missing by using the same number of bins found for the frequency technique in the other techniques. While this doesn't guarentee that the most optimal combination of binning techniques achivable will be identified, it does allow for there to be a thorough exploration of the effects of binning on correlation in a set of continuous predictors with high correlation. "
   ]
  },
  {
   "cell_type": "code",
   "execution_count": 29,
   "id": "285b0485",
   "metadata": {},
   "outputs": [
    {
     "name": "stdout",
     "output_type": "stream",
     "text": [
      "14\n"
     ]
    }
   ],
   "source": [
    "\n",
    "\n",
    "\n",
    "DC_width = KBinsDiscretizer(n_bins=54, encode='ordinal', strategy='uniform') \n",
    "DC_kmeans = KBinsDiscretizer(n_bins=54, encode='ordinal', strategy='kmeans')\n",
    "\n",
    "\n",
    "u_width = DC_width.fit_transform(predict_df[\"u\"].values.reshape(-1, 1)).astype(int).flatten()\n",
    "u_kmeans =  DC_kmeans.fit_transform(predict_df[\"u\"].values.reshape(-1, 1)).astype(int).flatten()\n",
    "\n",
    "g_width = DC_width.fit_transform(predict_df[\"g\"].values.reshape(-1, 1)).astype(int).flatten()\n",
    "g_kmeans =  DC_kmeans.fit_transform(predict_df[\"g\"].values.reshape(-1, 1)).astype(int).flatten()\n",
    "\n",
    "z_width = DC_width.fit_transform(predict_df[\"i\"].values.reshape(-1, 1)).astype(int).flatten()\n",
    "z_kmeans =  DC_kmeans.fit_transform(predict_df[\"i\"].values.reshape(-1, 1)).astype(int).flatten()\n",
    "\n",
    "newNames = predict_df.columns\n",
    "u_freq_idx = next((i for i, s in enumerate(newNames) if re.search(\"u_freq\", s)), None)\n",
    "print(u_freq_idx)\n",
    "predict_df.insert(u_freq_idx, \"u_width\", u_width)\n",
    "predict_df.insert(u_freq_idx + 2, \"u_kmeans\", u_kmeans)\n",
    "\n",
    "newNames = predict_df.columns\n",
    "g_freq_idx = next((i for i, s in enumerate(newNames) if re.search(\"g_freq\", s)), None)\n",
    "predict_df.insert(g_freq_idx, \"g_width\", g_width)\n",
    "predict_df.insert(g_freq_idx + 2, \"g_kmeans\", g_kmeans)\n",
    "\n",
    "newNames = predict_df.columns\n",
    "z_freq_idx = next((i for i, s in enumerate(newNames) if re.search(\"z_freq\", s)), None)\n",
    "predict_df.insert(z_freq_idx, \"z_width\", z_width)\n",
    "predict_df.insert(z_freq_idx + 2, \"z_kmeans\", z_kmeans)"
   ]
  },
  {
   "cell_type": "code",
   "execution_count": 37,
   "id": "e911b0f9",
   "metadata": {},
   "outputs": [
    {
     "data": {
      "application/vnd.microsoft.datawrangler.viewer.v0+json": {
       "columns": [
        {
         "name": "index",
         "rawType": "int64",
         "type": "integer"
        },
        {
         "name": "alpha",
         "rawType": "float64",
         "type": "float"
        },
        {
         "name": "delta",
         "rawType": "float64",
         "type": "float"
        },
        {
         "name": "u",
         "rawType": "float64",
         "type": "float"
        },
        {
         "name": "g",
         "rawType": "float64",
         "type": "float"
        },
        {
         "name": "r",
         "rawType": "float64",
         "type": "float"
        },
        {
         "name": "i",
         "rawType": "float64",
         "type": "float"
        },
        {
         "name": "z",
         "rawType": "float64",
         "type": "float"
        },
        {
         "name": "redshift",
         "rawType": "float64",
         "type": "float"
        },
        {
         "name": "alpha_width",
         "rawType": "int64",
         "type": "integer"
        },
        {
         "name": "alpha_freq",
         "rawType": "int64",
         "type": "integer"
        },
        {
         "name": "alpha_kmeans",
         "rawType": "int64",
         "type": "integer"
        },
        {
         "name": "delta_width",
         "rawType": "int64",
         "type": "integer"
        },
        {
         "name": "delta_freq",
         "rawType": "int64",
         "type": "integer"
        },
        {
         "name": "delta_kmeans",
         "rawType": "int64",
         "type": "integer"
        },
        {
         "name": "u_width",
         "rawType": "int64",
         "type": "integer"
        },
        {
         "name": "u_freq",
         "rawType": "int64",
         "type": "integer"
        },
        {
         "name": "u_kmeans",
         "rawType": "int64",
         "type": "integer"
        },
        {
         "name": "g_width",
         "rawType": "int64",
         "type": "integer"
        },
        {
         "name": "g_freq",
         "rawType": "int64",
         "type": "integer"
        },
        {
         "name": "g_kmeans",
         "rawType": "int64",
         "type": "integer"
        },
        {
         "name": "r_width",
         "rawType": "int64",
         "type": "integer"
        },
        {
         "name": "r_freq",
         "rawType": "int64",
         "type": "integer"
        },
        {
         "name": "r_kmeans",
         "rawType": "int64",
         "type": "integer"
        },
        {
         "name": "i_width",
         "rawType": "int64",
         "type": "integer"
        },
        {
         "name": "i_freq",
         "rawType": "int64",
         "type": "integer"
        },
        {
         "name": "i_kmeans",
         "rawType": "int64",
         "type": "integer"
        },
        {
         "name": "z_width",
         "rawType": "int64",
         "type": "integer"
        },
        {
         "name": "z_freq",
         "rawType": "int64",
         "type": "integer"
        },
        {
         "name": "z_kmeans",
         "rawType": "int64",
         "type": "integer"
        },
        {
         "name": "redshift_width",
         "rawType": "int64",
         "type": "integer"
        },
        {
         "name": "redshift_freq",
         "rawType": "int64",
         "type": "integer"
        },
        {
         "name": "redshift_kmeans",
         "rawType": "int64",
         "type": "integer"
        }
       ],
       "conversionMethod": "pd.DataFrame",
       "ref": "bd294717-d66c-4dfd-a350-6a843891fc68",
       "rows": [
        [
         "0",
         "135.6891066036",
         "32.4946318397087",
         "23.87882",
         "22.2753",
         "20.39501",
         "19.16573",
         "18.79371",
         "0.6347936",
         "3",
         "3",
         "3",
         "4",
         "6",
         "5",
         "17",
         "38",
         "11",
         "10",
         "32",
         "13",
         "5",
         "29",
         "11",
         "3",
         "17",
         "8",
         "3",
         "30",
         "6",
         "4",
         "24",
         "4"
        ],
        [
         "1",
         "144.826100550256",
         "31.2741848944939",
         "24.77759",
         "22.83188",
         "22.58444",
         "21.16812",
         "21.61427",
         "0.779136",
         "3",
         "4",
         "3",
         "3",
         "6",
         "5",
         "19",
         "42",
         "12",
         "11",
         "36",
         "14",
         "6",
         "50",
         "17",
         "4",
         "33",
         "13",
         "4",
         "65",
         "12",
         "5",
         "27",
         "5"
        ],
        [
         "2",
         "142.188789562506",
         "35.5824441819976",
         "25.26307",
         "22.66389",
         "20.60976",
         "19.34857",
         "18.94827",
         "0.6441945",
         "3",
         "4",
         "3",
         "4",
         "7",
         "5",
         "20",
         "44",
         "13",
         "11",
         "35",
         "13",
         "5",
         "32",
         "12",
         "3",
         "18",
         "8",
         "3",
         "33",
         "7",
         "4",
         "24",
         "4"
        ],
        [
         "3",
         "338.741037753146",
         "-0.402827574587482",
         "22.13682",
         "23.77656",
         "21.61162",
         "20.50454",
         "19.2501",
         "0.9323456",
         "7",
         "11",
         "8",
         "1",
         "1",
         "1",
         "14",
         "24",
         "8",
         "12",
         "39",
         "16",
         "6",
         "44",
         "15",
         "3",
         "29",
         "11",
         "3",
         "39",
         "7",
         "6",
         "28",
         "5"
        ],
        [
         "4",
         "345.282593210935",
         "21.1838656010284",
         "19.43718",
         "17.58028",
         "16.49747",
         "15.97711",
         "15.54461",
         "0.1161227",
         "7",
         "11",
         "9",
         "3",
         "5",
         "3",
         "9",
         "6",
         "4",
         "4",
         "3",
         "3",
         "1",
         "2",
         "3",
         "1",
         "1",
         "2",
         "1",
         "2",
         "1",
         "0",
         "11",
         "1"
        ]
       ],
       "shape": {
        "columns": 32,
        "rows": 5
       }
      },
      "text/html": [
       "<div>\n",
       "<style scoped>\n",
       "    .dataframe tbody tr th:only-of-type {\n",
       "        vertical-align: middle;\n",
       "    }\n",
       "\n",
       "    .dataframe tbody tr th {\n",
       "        vertical-align: top;\n",
       "    }\n",
       "\n",
       "    .dataframe thead th {\n",
       "        text-align: right;\n",
       "    }\n",
       "</style>\n",
       "<table border=\"1\" class=\"dataframe\">\n",
       "  <thead>\n",
       "    <tr style=\"text-align: right;\">\n",
       "      <th></th>\n",
       "      <th>alpha</th>\n",
       "      <th>delta</th>\n",
       "      <th>u</th>\n",
       "      <th>g</th>\n",
       "      <th>r</th>\n",
       "      <th>i</th>\n",
       "      <th>z</th>\n",
       "      <th>redshift</th>\n",
       "      <th>alpha_width</th>\n",
       "      <th>alpha_freq</th>\n",
       "      <th>...</th>\n",
       "      <th>r_kmeans</th>\n",
       "      <th>i_width</th>\n",
       "      <th>i_freq</th>\n",
       "      <th>i_kmeans</th>\n",
       "      <th>z_width</th>\n",
       "      <th>z_freq</th>\n",
       "      <th>z_kmeans</th>\n",
       "      <th>redshift_width</th>\n",
       "      <th>redshift_freq</th>\n",
       "      <th>redshift_kmeans</th>\n",
       "    </tr>\n",
       "  </thead>\n",
       "  <tbody>\n",
       "    <tr>\n",
       "      <th>0</th>\n",
       "      <td>135.689107</td>\n",
       "      <td>32.494632</td>\n",
       "      <td>23.87882</td>\n",
       "      <td>22.27530</td>\n",
       "      <td>20.39501</td>\n",
       "      <td>19.16573</td>\n",
       "      <td>18.79371</td>\n",
       "      <td>0.634794</td>\n",
       "      <td>3</td>\n",
       "      <td>3</td>\n",
       "      <td>...</td>\n",
       "      <td>11</td>\n",
       "      <td>3</td>\n",
       "      <td>17</td>\n",
       "      <td>8</td>\n",
       "      <td>3</td>\n",
       "      <td>30</td>\n",
       "      <td>6</td>\n",
       "      <td>4</td>\n",
       "      <td>24</td>\n",
       "      <td>4</td>\n",
       "    </tr>\n",
       "    <tr>\n",
       "      <th>1</th>\n",
       "      <td>144.826101</td>\n",
       "      <td>31.274185</td>\n",
       "      <td>24.77759</td>\n",
       "      <td>22.83188</td>\n",
       "      <td>22.58444</td>\n",
       "      <td>21.16812</td>\n",
       "      <td>21.61427</td>\n",
       "      <td>0.779136</td>\n",
       "      <td>3</td>\n",
       "      <td>4</td>\n",
       "      <td>...</td>\n",
       "      <td>17</td>\n",
       "      <td>4</td>\n",
       "      <td>33</td>\n",
       "      <td>13</td>\n",
       "      <td>4</td>\n",
       "      <td>65</td>\n",
       "      <td>12</td>\n",
       "      <td>5</td>\n",
       "      <td>27</td>\n",
       "      <td>5</td>\n",
       "    </tr>\n",
       "    <tr>\n",
       "      <th>2</th>\n",
       "      <td>142.188790</td>\n",
       "      <td>35.582444</td>\n",
       "      <td>25.26307</td>\n",
       "      <td>22.66389</td>\n",
       "      <td>20.60976</td>\n",
       "      <td>19.34857</td>\n",
       "      <td>18.94827</td>\n",
       "      <td>0.644195</td>\n",
       "      <td>3</td>\n",
       "      <td>4</td>\n",
       "      <td>...</td>\n",
       "      <td>12</td>\n",
       "      <td>3</td>\n",
       "      <td>18</td>\n",
       "      <td>8</td>\n",
       "      <td>3</td>\n",
       "      <td>33</td>\n",
       "      <td>7</td>\n",
       "      <td>4</td>\n",
       "      <td>24</td>\n",
       "      <td>4</td>\n",
       "    </tr>\n",
       "    <tr>\n",
       "      <th>3</th>\n",
       "      <td>338.741038</td>\n",
       "      <td>-0.402828</td>\n",
       "      <td>22.13682</td>\n",
       "      <td>23.77656</td>\n",
       "      <td>21.61162</td>\n",
       "      <td>20.50454</td>\n",
       "      <td>19.25010</td>\n",
       "      <td>0.932346</td>\n",
       "      <td>7</td>\n",
       "      <td>11</td>\n",
       "      <td>...</td>\n",
       "      <td>15</td>\n",
       "      <td>3</td>\n",
       "      <td>29</td>\n",
       "      <td>11</td>\n",
       "      <td>3</td>\n",
       "      <td>39</td>\n",
       "      <td>7</td>\n",
       "      <td>6</td>\n",
       "      <td>28</td>\n",
       "      <td>5</td>\n",
       "    </tr>\n",
       "    <tr>\n",
       "      <th>4</th>\n",
       "      <td>345.282593</td>\n",
       "      <td>21.183866</td>\n",
       "      <td>19.43718</td>\n",
       "      <td>17.58028</td>\n",
       "      <td>16.49747</td>\n",
       "      <td>15.97711</td>\n",
       "      <td>15.54461</td>\n",
       "      <td>0.116123</td>\n",
       "      <td>7</td>\n",
       "      <td>11</td>\n",
       "      <td>...</td>\n",
       "      <td>3</td>\n",
       "      <td>1</td>\n",
       "      <td>1</td>\n",
       "      <td>2</td>\n",
       "      <td>1</td>\n",
       "      <td>2</td>\n",
       "      <td>1</td>\n",
       "      <td>0</td>\n",
       "      <td>11</td>\n",
       "      <td>1</td>\n",
       "    </tr>\n",
       "  </tbody>\n",
       "</table>\n",
       "<p>5 rows × 32 columns</p>\n",
       "</div>"
      ],
      "text/plain": [
       "        alpha      delta         u         g         r         i         z  \\\n",
       "0  135.689107  32.494632  23.87882  22.27530  20.39501  19.16573  18.79371   \n",
       "1  144.826101  31.274185  24.77759  22.83188  22.58444  21.16812  21.61427   \n",
       "2  142.188790  35.582444  25.26307  22.66389  20.60976  19.34857  18.94827   \n",
       "3  338.741038  -0.402828  22.13682  23.77656  21.61162  20.50454  19.25010   \n",
       "4  345.282593  21.183866  19.43718  17.58028  16.49747  15.97711  15.54461   \n",
       "\n",
       "   redshift  alpha_width  alpha_freq  ...  r_kmeans  i_width  i_freq  \\\n",
       "0  0.634794            3           3  ...        11        3      17   \n",
       "1  0.779136            3           4  ...        17        4      33   \n",
       "2  0.644195            3           4  ...        12        3      18   \n",
       "3  0.932346            7          11  ...        15        3      29   \n",
       "4  0.116123            7          11  ...         3        1       1   \n",
       "\n",
       "   i_kmeans  z_width  z_freq  z_kmeans  redshift_width  redshift_freq  \\\n",
       "0         8        3      30         6               4             24   \n",
       "1        13        4      65        12               5             27   \n",
       "2         8        3      33         7               4             24   \n",
       "3        11        3      39         7               6             28   \n",
       "4         2        1       2         1               0             11   \n",
       "\n",
       "   redshift_kmeans  \n",
       "0                4  \n",
       "1                5  \n",
       "2                4  \n",
       "3                5  \n",
       "4                1  \n",
       "\n",
       "[5 rows x 32 columns]"
      ]
     },
     "execution_count": 37,
     "metadata": {},
     "output_type": "execute_result"
    }
   ],
   "source": [
    "predict_df.head()"
   ]
  },
  {
   "cell_type": "code",
   "execution_count": 47,
   "id": "53aa6bb8",
   "metadata": {},
   "outputs": [],
   "source": [
    "# separate original continuous predictors from discretized\n",
    "contPred_df = predict_df.iloc[:,0:8]\n",
    "discPred_df = predict_df.iloc[:,8:predict_df.shape[1]]\n",
    "\n",
    "# get correlation matrix for continuous predictors\n",
    "corr_matrix = contPred_df.corr().values\n",
    "\n",
    "\n",
    "# print(corr_matrix.shape)\n",
    "\n",
    "# build name lists based on names of continuous variables s.t. each list has 3 discretized columns corresponding to each continuous name\n",
    "contVar_names = contPred_df.columns\n",
    "\n",
    "discVar_names = list(discPred_df.columns)\n",
    "\n",
    "# assigns appropriate names to distinguishing variables\n",
    "alpha_names, delta_names, u_names, g_names, r_names, i_names, z_names, redshift_names = [discVar_names[i:i+3] for i in range(0,len(discVar_names),3)]\n",
    "\n",
    "mosaics_list = []\n",
    "\n",
    "\n",
    "\n",
    "# iteratively combine binning type var per continuous names with each other s.t there is only one version of binned continuous var in the new df\n",
    "for a in alpha_names:\n",
    "    for d in delta_names:\n",
    "        for u in u_names:\n",
    "            for g in g_names:\n",
    "                for r in r_names:\n",
    "                    for i in i_names:\n",
    "                        for z in z_names:\n",
    "                            for red in redshift_names:\n",
    "                                group_names = [a,d,u,g,r,i,z,red]\n",
    "                                df = discPred_df[group_names]\n",
    "                                df_cols = df.columns\n",
    "                                # print(df.head(3))\n",
    "                                cor_mat = df.corr().values\n",
    "                                diffCor_mat = -(corr_matrix - cor_mat)\n",
    "                                # print(diffCor_mat)\n",
    "                                summed_corDiff = np.sum(diffCor_mat)\n",
    "                                # print(cumm_diffCor)\n",
    "                                obj = {\n",
    "                                      'variable_names' : df_cols,\n",
    "                                    #   'df' : df,\n",
    "                                      'cor_mat' : cor_mat,\n",
    "                                      'diffCor_mat' : diffCor_mat,\n",
    "                                      'summed_corDiff' : summed_corDiff\n",
    "                                    }\n",
    "                                mosaics_list.append(obj)\n",
    "\n",
    "                     \n",
    "\n",
    "  # transform df into cor matrix\n",
    "  # find and store difference between the continuous corr matrix and the mosaic cor matrix as well as cumulative absolute distance\n",
    "  # order the mosaic dfs by greatest to least cumulative cor distance"
   ]
  },
  {
   "cell_type": "markdown",
   "id": "c7140913",
   "metadata": {},
   "source": [
    "<font style: color = \"green\"> On the way home I was mulling how the the periodic range of summed correlation differences had much less \"amplification\" (I am going to keep throwing pseudo-physics in here, at some point I will be comically wrong). I was like oh shit, did the scrubbing of outliers lead to a different corelation matrix, so I checked. It did but not in a way that would make everything else irrelevant, it just calmed the correlation down a bit."
   ]
  },
  {
   "cell_type": "code",
   "execution_count": 48,
   "id": "b5f5d216",
   "metadata": {},
   "outputs": [
    {
     "data": {
      "text/html": [
       "<style type=\"text/css\">\n",
       "#T_cc953_row0_col0, #T_cc953_row1_col1, #T_cc953_row2_col2, #T_cc953_row3_col3, #T_cc953_row4_col4, #T_cc953_row5_col5, #T_cc953_row6_col6, #T_cc953_row7_col7 {\n",
       "  background-color: #b40426;\n",
       "  color: #f1f1f1;\n",
       "}\n",
       "#T_cc953_row0_col1, #T_cc953_row1_col0 {\n",
       "  background-color: #6e90f2;\n",
       "  color: #f1f1f1;\n",
       "}\n",
       "#T_cc953_row0_col2, #T_cc953_row2_col0, #T_cc953_row7_col0 {\n",
       "  background-color: #4257c9;\n",
       "  color: #f1f1f1;\n",
       "}\n",
       "#T_cc953_row0_col3, #T_cc953_row0_col4, #T_cc953_row0_col5, #T_cc953_row0_col6, #T_cc953_row0_col7, #T_cc953_row1_col2, #T_cc953_row2_col1, #T_cc953_row4_col0, #T_cc953_row5_col0, #T_cc953_row6_col0 {\n",
       "  background-color: #3b4cc0;\n",
       "  color: #f1f1f1;\n",
       "}\n",
       "#T_cc953_row1_col3 {\n",
       "  background-color: #3d50c3;\n",
       "  color: #f1f1f1;\n",
       "}\n",
       "#T_cc953_row1_col4 {\n",
       "  background-color: #3f53c6;\n",
       "  color: #f1f1f1;\n",
       "}\n",
       "#T_cc953_row1_col5, #T_cc953_row1_col6, #T_cc953_row3_col1, #T_cc953_row4_col1, #T_cc953_row5_col1, #T_cc953_row6_col1 {\n",
       "  background-color: #4055c8;\n",
       "  color: #f1f1f1;\n",
       "}\n",
       "#T_cc953_row1_col7 {\n",
       "  background-color: #485fd1;\n",
       "  color: #f1f1f1;\n",
       "}\n",
       "#T_cc953_row2_col3, #T_cc953_row3_col2 {\n",
       "  background-color: #e26952;\n",
       "  color: #f1f1f1;\n",
       "}\n",
       "#T_cc953_row2_col4, #T_cc953_row4_col2 {\n",
       "  background-color: #f5a081;\n",
       "  color: #000000;\n",
       "}\n",
       "#T_cc953_row2_col5, #T_cc953_row5_col2 {\n",
       "  background-color: #f4c5ad;\n",
       "  color: #000000;\n",
       "}\n",
       "#T_cc953_row2_col6, #T_cc953_row6_col2 {\n",
       "  background-color: #e9d5cb;\n",
       "  color: #000000;\n",
       "}\n",
       "#T_cc953_row2_col7 {\n",
       "  background-color: #6a8bef;\n",
       "  color: #f1f1f1;\n",
       "}\n",
       "#T_cc953_row3_col0 {\n",
       "  background-color: #3e51c5;\n",
       "  color: #f1f1f1;\n",
       "}\n",
       "#T_cc953_row3_col4, #T_cc953_row4_col3 {\n",
       "  background-color: #cb3e38;\n",
       "  color: #f1f1f1;\n",
       "}\n",
       "#T_cc953_row3_col5, #T_cc953_row5_col3 {\n",
       "  background-color: #e36b54;\n",
       "  color: #f1f1f1;\n",
       "}\n",
       "#T_cc953_row3_col6 {\n",
       "  background-color: #f08b6e;\n",
       "  color: #f1f1f1;\n",
       "}\n",
       "#T_cc953_row3_col7 {\n",
       "  background-color: #b2ccfb;\n",
       "  color: #000000;\n",
       "}\n",
       "#T_cc953_row4_col5, #T_cc953_row5_col4 {\n",
       "  background-color: #c0282f;\n",
       "  color: #f1f1f1;\n",
       "}\n",
       "#T_cc953_row4_col6, #T_cc953_row6_col4 {\n",
       "  background-color: #cf453c;\n",
       "  color: #f1f1f1;\n",
       "}\n",
       "#T_cc953_row4_col7 {\n",
       "  background-color: #d8dce2;\n",
       "  color: #000000;\n",
       "}\n",
       "#T_cc953_row5_col6, #T_cc953_row6_col5 {\n",
       "  background-color: #bd1f2d;\n",
       "  color: #f1f1f1;\n",
       "}\n",
       "#T_cc953_row5_col7, #T_cc953_row6_col7 {\n",
       "  background-color: #e7d7ce;\n",
       "  color: #000000;\n",
       "}\n",
       "#T_cc953_row6_col3 {\n",
       "  background-color: #f18d6f;\n",
       "  color: #f1f1f1;\n",
       "}\n",
       "#T_cc953_row7_col1 {\n",
       "  background-color: #506bda;\n",
       "  color: #f1f1f1;\n",
       "}\n",
       "#T_cc953_row7_col2 {\n",
       "  background-color: #7295f4;\n",
       "  color: #f1f1f1;\n",
       "}\n",
       "#T_cc953_row7_col3 {\n",
       "  background-color: #b5cdfa;\n",
       "  color: #000000;\n",
       "}\n",
       "#T_cc953_row7_col4 {\n",
       "  background-color: #dbdcde;\n",
       "  color: #000000;\n",
       "}\n",
       "#T_cc953_row7_col5, #T_cc953_row7_col6 {\n",
       "  background-color: #ead5c9;\n",
       "  color: #000000;\n",
       "}\n",
       "</style>\n",
       "<table id=\"T_cc953\">\n",
       "  <thead>\n",
       "    <tr>\n",
       "      <th class=\"blank level0\" >&nbsp;</th>\n",
       "      <th id=\"T_cc953_level0_col0\" class=\"col_heading level0 col0\" >ALPHA</th>\n",
       "      <th id=\"T_cc953_level0_col1\" class=\"col_heading level0 col1\" >DELTA</th>\n",
       "      <th id=\"T_cc953_level0_col2\" class=\"col_heading level0 col2\" >U</th>\n",
       "      <th id=\"T_cc953_level0_col3\" class=\"col_heading level0 col3\" >G</th>\n",
       "      <th id=\"T_cc953_level0_col4\" class=\"col_heading level0 col4\" >R</th>\n",
       "      <th id=\"T_cc953_level0_col5\" class=\"col_heading level0 col5\" >I</th>\n",
       "      <th id=\"T_cc953_level0_col6\" class=\"col_heading level0 col6\" >Z</th>\n",
       "      <th id=\"T_cc953_level0_col7\" class=\"col_heading level0 col7\" >REDSHIFT</th>\n",
       "    </tr>\n",
       "  </thead>\n",
       "  <tbody>\n",
       "    <tr>\n",
       "      <th id=\"T_cc953_level0_row0\" class=\"row_heading level0 row0\" >ALPHA</th>\n",
       "      <td id=\"T_cc953_row0_col0\" class=\"data row0 col0\" >1.000</td>\n",
       "      <td id=\"T_cc953_row0_col1\" class=\"data row0 col1\" >0.139</td>\n",
       "      <td id=\"T_cc953_row0_col2\" class=\"data row0 col2\" >-0.000</td>\n",
       "      <td id=\"T_cc953_row0_col3\" class=\"data row0 col3\" >-0.014</td>\n",
       "      <td id=\"T_cc953_row0_col4\" class=\"data row0 col4\" >-0.023</td>\n",
       "      <td id=\"T_cc953_row0_col5\" class=\"data row0 col5\" >-0.024</td>\n",
       "      <td id=\"T_cc953_row0_col6\" class=\"data row0 col6\" >-0.027</td>\n",
       "      <td id=\"T_cc953_row0_col7\" class=\"data row0 col7\" >0.000</td>\n",
       "    </tr>\n",
       "    <tr>\n",
       "      <th id=\"T_cc953_level0_row1\" class=\"row_heading level0 row1\" >DELTA</th>\n",
       "      <td id=\"T_cc953_row1_col0\" class=\"data row1 col0\" >0.139</td>\n",
       "      <td id=\"T_cc953_row1_col1\" class=\"data row1 col1\" >1.000</td>\n",
       "      <td id=\"T_cc953_row1_col2\" class=\"data row1 col2\" >-0.026</td>\n",
       "      <td id=\"T_cc953_row1_col3\" class=\"data row1 col3\" >-0.006</td>\n",
       "      <td id=\"T_cc953_row1_col4\" class=\"data row1 col4\" >-0.005</td>\n",
       "      <td id=\"T_cc953_row1_col5\" class=\"data row1 col5\" >-0.003</td>\n",
       "      <td id=\"T_cc953_row1_col6\" class=\"data row1 col6\" >-0.004</td>\n",
       "      <td id=\"T_cc953_row1_col7\" class=\"data row1 col7\" >0.047</td>\n",
       "    </tr>\n",
       "    <tr>\n",
       "      <th id=\"T_cc953_level0_row2\" class=\"row_heading level0 row2\" >U</th>\n",
       "      <td id=\"T_cc953_row2_col0\" class=\"data row2 col0\" >-0.000</td>\n",
       "      <td id=\"T_cc953_row2_col1\" class=\"data row2 col1\" >-0.026</td>\n",
       "      <td id=\"T_cc953_row2_col2\" class=\"data row2 col2\" >1.000</td>\n",
       "      <td id=\"T_cc953_row2_col3\" class=\"data row2 col3\" >0.854</td>\n",
       "      <td id=\"T_cc953_row2_col4\" class=\"data row2 col4\" >0.727</td>\n",
       "      <td id=\"T_cc953_row2_col5\" class=\"data row2 col5\" >0.613</td>\n",
       "      <td id=\"T_cc953_row2_col6\" class=\"data row2 col6\" >0.537</td>\n",
       "      <td id=\"T_cc953_row2_col7\" class=\"data row2 col7\" >0.151</td>\n",
       "    </tr>\n",
       "    <tr>\n",
       "      <th id=\"T_cc953_level0_row3\" class=\"row_heading level0 row3\" >G</th>\n",
       "      <td id=\"T_cc953_row3_col0\" class=\"data row3 col0\" >-0.014</td>\n",
       "      <td id=\"T_cc953_row3_col1\" class=\"data row3 col1\" >-0.006</td>\n",
       "      <td id=\"T_cc953_row3_col2\" class=\"data row3 col2\" >0.854</td>\n",
       "      <td id=\"T_cc953_row3_col3\" class=\"data row3 col3\" >1.000</td>\n",
       "      <td id=\"T_cc953_row3_col4\" class=\"data row3 col4\" >0.936</td>\n",
       "      <td id=\"T_cc953_row3_col5\" class=\"data row3 col5\" >0.850</td>\n",
       "      <td id=\"T_cc953_row3_col6\" class=\"data row3 col6\" >0.776</td>\n",
       "      <td id=\"T_cc953_row3_col7\" class=\"data row3 col7\" >0.358</td>\n",
       "    </tr>\n",
       "    <tr>\n",
       "      <th id=\"T_cc953_level0_row4\" class=\"row_heading level0 row4\" >R</th>\n",
       "      <td id=\"T_cc953_row4_col0\" class=\"data row4 col0\" >-0.023</td>\n",
       "      <td id=\"T_cc953_row4_col1\" class=\"data row4 col1\" >-0.005</td>\n",
       "      <td id=\"T_cc953_row4_col2\" class=\"data row4 col2\" >0.727</td>\n",
       "      <td id=\"T_cc953_row4_col3\" class=\"data row4 col3\" >0.936</td>\n",
       "      <td id=\"T_cc953_row4_col4\" class=\"data row4 col4\" >1.000</td>\n",
       "      <td id=\"T_cc953_row4_col5\" class=\"data row4 col5\" >0.968</td>\n",
       "      <td id=\"T_cc953_row4_col6\" class=\"data row4 col6\" >0.923</td>\n",
       "      <td id=\"T_cc953_row4_col7\" class=\"data row4 col7\" >0.483</td>\n",
       "    </tr>\n",
       "    <tr>\n",
       "      <th id=\"T_cc953_level0_row5\" class=\"row_heading level0 row5\" >I</th>\n",
       "      <td id=\"T_cc953_row5_col0\" class=\"data row5 col0\" >-0.024</td>\n",
       "      <td id=\"T_cc953_row5_col1\" class=\"data row5 col1\" >-0.003</td>\n",
       "      <td id=\"T_cc953_row5_col2\" class=\"data row5 col2\" >0.613</td>\n",
       "      <td id=\"T_cc953_row5_col3\" class=\"data row5 col3\" >0.850</td>\n",
       "      <td id=\"T_cc953_row5_col4\" class=\"data row5 col4\" >0.968</td>\n",
       "      <td id=\"T_cc953_row5_col5\" class=\"data row5 col5\" >1.000</td>\n",
       "      <td id=\"T_cc953_row5_col6\" class=\"data row5 col6\" >0.976</td>\n",
       "      <td id=\"T_cc953_row5_col7\" class=\"data row5 col7\" >0.540</td>\n",
       "    </tr>\n",
       "    <tr>\n",
       "      <th id=\"T_cc953_level0_row6\" class=\"row_heading level0 row6\" >Z</th>\n",
       "      <td id=\"T_cc953_row6_col0\" class=\"data row6 col0\" >-0.027</td>\n",
       "      <td id=\"T_cc953_row6_col1\" class=\"data row6 col1\" >-0.004</td>\n",
       "      <td id=\"T_cc953_row6_col2\" class=\"data row6 col2\" >0.537</td>\n",
       "      <td id=\"T_cc953_row6_col3\" class=\"data row6 col3\" >0.776</td>\n",
       "      <td id=\"T_cc953_row6_col4\" class=\"data row6 col4\" >0.923</td>\n",
       "      <td id=\"T_cc953_row6_col5\" class=\"data row6 col5\" >0.976</td>\n",
       "      <td id=\"T_cc953_row6_col6\" class=\"data row6 col6\" >1.000</td>\n",
       "      <td id=\"T_cc953_row6_col7\" class=\"data row6 col7\" >0.542</td>\n",
       "    </tr>\n",
       "    <tr>\n",
       "      <th id=\"T_cc953_level0_row7\" class=\"row_heading level0 row7\" >REDSHIFT</th>\n",
       "      <td id=\"T_cc953_row7_col0\" class=\"data row7 col0\" >0.000</td>\n",
       "      <td id=\"T_cc953_row7_col1\" class=\"data row7 col1\" >0.047</td>\n",
       "      <td id=\"T_cc953_row7_col2\" class=\"data row7 col2\" >0.151</td>\n",
       "      <td id=\"T_cc953_row7_col3\" class=\"data row7 col3\" >0.358</td>\n",
       "      <td id=\"T_cc953_row7_col4\" class=\"data row7 col4\" >0.483</td>\n",
       "      <td id=\"T_cc953_row7_col5\" class=\"data row7 col5\" >0.540</td>\n",
       "      <td id=\"T_cc953_row7_col6\" class=\"data row7 col6\" >0.542</td>\n",
       "      <td id=\"T_cc953_row7_col7\" class=\"data row7 col7\" >1.000</td>\n",
       "    </tr>\n",
       "  </tbody>\n",
       "</table>\n"
      ],
      "text/plain": [
       "<pandas.io.formats.style.Styler at 0x187a41b3230>"
      ]
     },
     "execution_count": 48,
     "metadata": {},
     "output_type": "execute_result"
    }
   ],
   "source": [
    "corr_matrix = contPred_df.corr()\n",
    "\n",
    "corr_matrix.style\\\n",
    "    .format(precision = 3)\\\n",
    "    .format_index(str.upper, axis = 0)\\\n",
    "    .format_index(str.upper, axis = 1)\\\n",
    "    .background_gradient(cmap='coolwarm')"
   ]
  },
  {
   "cell_type": "markdown",
   "id": "2eea8496",
   "metadata": {},
   "source": [
    "<font style: color = \"green\"> This was what I was referring to when we met. I thought this was a more complex thing. I actually used it in a copy and past fashion before where I just swapped out the specifics. Its not a comprehension or a generator. Generator was what I was thinking of but I don't think it applies here. I think sometimes lambda is used in that context so I conflated the two contexts. Lambda is just preventing the need to create a user function with a formal definition. "
   ]
  },
  {
   "cell_type": "code",
   "execution_count": 51,
   "id": "39aa09ef",
   "metadata": {},
   "outputs": [],
   "source": [
    "\n",
    "sorted_mosaics_list = sorted(mosaics_list, key = lambda x: x[\"summed_corDiff\"])\n",
    "\n",
    "CorChange_max_df = discPred_df[sorted_mosaics_list[len(sorted_mosaics_list)-1]['variable_names']]\n",
    "CorChange_min_df = discPred_df[sorted_mosaics_list[0]['variable_names']]\n"
   ]
  },
  {
   "cell_type": "code",
   "execution_count": 53,
   "id": "1b0aebe7",
   "metadata": {},
   "outputs": [
    {
     "name": "stdout",
     "output_type": "stream",
     "text": [
      "   alpha_width  delta_width  u_kmeans  g_width  r_kmeans  i_kmeans  z_kmeans  \\\n",
      "0            3            4        11       10        11         8         6   \n",
      "1            3            3        12       11        17        13        12   \n",
      "2            3            4        13       11        12         8         7   \n",
      "3            7            1         8       12        15        11         7   \n",
      "4            7            3         4        4         3         2         1   \n",
      "\n",
      "   redshift_freq  \n",
      "0             24  \n",
      "1             27  \n",
      "2             24  \n",
      "3             28  \n",
      "4             11  \n",
      "   alpha_freq  delta_kmeans  u_width  g_freq  r_freq  i_width  z_width  \\\n",
      "0           3             5       17      32      29        3        3   \n",
      "1           4             5       19      36      50        4        4   \n",
      "2           4             5       20      35      32        3        3   \n",
      "3          11             1       14      39      44        3        3   \n",
      "4          11             3        9       3       2        1        1   \n",
      "\n",
      "   redshift_width  \n",
      "0               4  \n",
      "1               5  \n",
      "2               4  \n",
      "3               6  \n",
      "4               0  \n"
     ]
    }
   ],
   "source": [
    "print(CorChange_max_df.head())\n",
    "print(CorChange_min_df.head())"
   ]
  }
 ],
 "metadata": {
  "kernelspec": {
   "display_name": "base",
   "language": "python",
   "name": "python3"
  },
  "language_info": {
   "codemirror_mode": {
    "name": "ipython",
    "version": 3
   },
   "file_extension": ".py",
   "mimetype": "text/x-python",
   "name": "python",
   "nbconvert_exporter": "python",
   "pygments_lexer": "ipython3",
   "version": "3.12.3"
  }
 },
 "nbformat": 4,
 "nbformat_minor": 5
}
