{
 "cells": [
  {
   "cell_type": "markdown",
   "id": "3f9cdc1b7cded2d1",
   "metadata": {},
   "source": [
    "This notebook will demonstrate the preprocessing step of converting an attribute with continuous data into a discrete attribute using a variety of binning methods (supervised and unsupervised)."
   ]
  },
  {
   "cell_type": "markdown",
   "id": "5f2099a42fb8c4a1",
   "metadata": {},
   "source": [
    "Import Dependencies"
   ]
  },
  {
   "cell_type": "code",
   "execution_count": 7,
   "id": "initial_id",
   "metadata": {
    "ExecuteTime": {
     "end_time": "2025-03-10T16:16:24.756341Z",
     "start_time": "2025-03-10T16:16:24.742459Z"
    },
    "collapsed": true
   },
   "outputs": [],
   "source": [
    "from sklearn.preprocessing import KBinsDiscretizer\n",
    "import pandas as pd\n",
    "import numpy as np\n",
    "import matplotlib.pyplot as plt\n",
    "from collections import defaultdict\n",
    "import warnings\n",
    "import re\n",
    "\n",
    "warnings.filterwarnings('ignore')"
   ]
  },
  {
   "cell_type": "markdown",
   "id": "c71a7a56b5a9dada",
   "metadata": {},
   "source": [
    "Retrieve Data"
   ]
  },
  {
   "cell_type": "code",
   "execution_count": 8,
   "id": "3f71a3e590a21054",
   "metadata": {
    "ExecuteTime": {
     "end_time": "2025-03-10T16:16:25.170236Z",
     "start_time": "2025-03-10T16:16:24.773893Z"
    }
   },
   "outputs": [
    {
     "data": {
      "application/vnd.microsoft.datawrangler.viewer.v0+json": {
       "columns": [
        {
         "name": "index",
         "rawType": "int64",
         "type": "integer"
        },
        {
         "name": "Unnamed: 0",
         "rawType": "int64",
         "type": "integer"
        },
        {
         "name": "alpha",
         "rawType": "float64",
         "type": "float"
        },
        {
         "name": "delta",
         "rawType": "float64",
         "type": "float"
        },
        {
         "name": "u",
         "rawType": "float64",
         "type": "float"
        },
        {
         "name": "g",
         "rawType": "float64",
         "type": "float"
        },
        {
         "name": "r",
         "rawType": "float64",
         "type": "float"
        },
        {
         "name": "i",
         "rawType": "float64",
         "type": "float"
        },
        {
         "name": "z",
         "rawType": "float64",
         "type": "float"
        },
        {
         "name": "class",
         "rawType": "object",
         "type": "string"
        },
        {
         "name": "redshift",
         "rawType": "float64",
         "type": "float"
        }
       ],
       "conversionMethod": "pd.DataFrame",
       "ref": "8dc3ee1b-ecb0-4c2a-8a94-1e30296c1022",
       "rows": [
        [
         "0",
         "0",
         "135.6891066036",
         "32.4946318397087",
         "23.87882",
         "22.2753",
         "20.39501",
         "19.16573",
         "18.79371",
         "GALAXY",
         "0.6347936"
        ],
        [
         "1",
         "1",
         "144.826100550256",
         "31.2741848944939",
         "24.77759",
         "22.83188",
         "22.58444",
         "21.16812",
         "21.61427",
         "GALAXY",
         "0.779136"
        ],
        [
         "2",
         "2",
         "142.188789562506",
         "35.5824441819976",
         "25.26307",
         "22.66389",
         "20.60976",
         "19.34857",
         "18.94827",
         "GALAXY",
         "0.6441945"
        ],
        [
         "3",
         "3",
         "338.741037753146",
         "-0.402827574587482",
         "22.13682",
         "23.77656",
         "21.61162",
         "20.50454",
         "19.2501",
         "GALAXY",
         "0.9323456"
        ],
        [
         "4",
         "4",
         "345.282593210935",
         "21.1838656010284",
         "19.43718",
         "17.58028",
         "16.49747",
         "15.97711",
         "15.54461",
         "GALAXY",
         "0.1161227"
        ]
       ],
       "shape": {
        "columns": 10,
        "rows": 5
       }
      },
      "text/html": [
       "<div>\n",
       "<style scoped>\n",
       "    .dataframe tbody tr th:only-of-type {\n",
       "        vertical-align: middle;\n",
       "    }\n",
       "\n",
       "    .dataframe tbody tr th {\n",
       "        vertical-align: top;\n",
       "    }\n",
       "\n",
       "    .dataframe thead th {\n",
       "        text-align: right;\n",
       "    }\n",
       "</style>\n",
       "<table border=\"1\" class=\"dataframe\">\n",
       "  <thead>\n",
       "    <tr style=\"text-align: right;\">\n",
       "      <th></th>\n",
       "      <th>Unnamed: 0</th>\n",
       "      <th>alpha</th>\n",
       "      <th>delta</th>\n",
       "      <th>u</th>\n",
       "      <th>g</th>\n",
       "      <th>r</th>\n",
       "      <th>i</th>\n",
       "      <th>z</th>\n",
       "      <th>class</th>\n",
       "      <th>redshift</th>\n",
       "    </tr>\n",
       "  </thead>\n",
       "  <tbody>\n",
       "    <tr>\n",
       "      <th>0</th>\n",
       "      <td>0</td>\n",
       "      <td>135.689107</td>\n",
       "      <td>32.494632</td>\n",
       "      <td>23.87882</td>\n",
       "      <td>22.27530</td>\n",
       "      <td>20.39501</td>\n",
       "      <td>19.16573</td>\n",
       "      <td>18.79371</td>\n",
       "      <td>GALAXY</td>\n",
       "      <td>0.634794</td>\n",
       "    </tr>\n",
       "    <tr>\n",
       "      <th>1</th>\n",
       "      <td>1</td>\n",
       "      <td>144.826101</td>\n",
       "      <td>31.274185</td>\n",
       "      <td>24.77759</td>\n",
       "      <td>22.83188</td>\n",
       "      <td>22.58444</td>\n",
       "      <td>21.16812</td>\n",
       "      <td>21.61427</td>\n",
       "      <td>GALAXY</td>\n",
       "      <td>0.779136</td>\n",
       "    </tr>\n",
       "    <tr>\n",
       "      <th>2</th>\n",
       "      <td>2</td>\n",
       "      <td>142.188790</td>\n",
       "      <td>35.582444</td>\n",
       "      <td>25.26307</td>\n",
       "      <td>22.66389</td>\n",
       "      <td>20.60976</td>\n",
       "      <td>19.34857</td>\n",
       "      <td>18.94827</td>\n",
       "      <td>GALAXY</td>\n",
       "      <td>0.644195</td>\n",
       "    </tr>\n",
       "    <tr>\n",
       "      <th>3</th>\n",
       "      <td>3</td>\n",
       "      <td>338.741038</td>\n",
       "      <td>-0.402828</td>\n",
       "      <td>22.13682</td>\n",
       "      <td>23.77656</td>\n",
       "      <td>21.61162</td>\n",
       "      <td>20.50454</td>\n",
       "      <td>19.25010</td>\n",
       "      <td>GALAXY</td>\n",
       "      <td>0.932346</td>\n",
       "    </tr>\n",
       "    <tr>\n",
       "      <th>4</th>\n",
       "      <td>4</td>\n",
       "      <td>345.282593</td>\n",
       "      <td>21.183866</td>\n",
       "      <td>19.43718</td>\n",
       "      <td>17.58028</td>\n",
       "      <td>16.49747</td>\n",
       "      <td>15.97711</td>\n",
       "      <td>15.54461</td>\n",
       "      <td>GALAXY</td>\n",
       "      <td>0.116123</td>\n",
       "    </tr>\n",
       "  </tbody>\n",
       "</table>\n",
       "</div>"
      ],
      "text/plain": [
       "   Unnamed: 0       alpha      delta         u         g         r         i  \\\n",
       "0           0  135.689107  32.494632  23.87882  22.27530  20.39501  19.16573   \n",
       "1           1  144.826101  31.274185  24.77759  22.83188  22.58444  21.16812   \n",
       "2           2  142.188790  35.582444  25.26307  22.66389  20.60976  19.34857   \n",
       "3           3  338.741038  -0.402828  22.13682  23.77656  21.61162  20.50454   \n",
       "4           4  345.282593  21.183866  19.43718  17.58028  16.49747  15.97711   \n",
       "\n",
       "          z   class  redshift  \n",
       "0  18.79371  GALAXY  0.634794  \n",
       "1  21.61427  GALAXY  0.779136  \n",
       "2  18.94827  GALAXY  0.644195  \n",
       "3  19.25010  GALAXY  0.932346  \n",
       "4  15.54461  GALAXY  0.116123  "
      ]
     },
     "execution_count": 8,
     "metadata": {},
     "output_type": "execute_result"
    }
   ],
   "source": [
    "df = pd.read_csv('../Dataset/preprocessed_data.csv')\n",
    "df.head()"
   ]
  },
  {
   "cell_type": "code",
   "execution_count": 9,
   "id": "1c69337c473eefa6",
   "metadata": {
    "ExecuteTime": {
     "end_time": "2025-03-10T16:16:25.300202Z",
     "start_time": "2025-03-10T16:16:25.285803Z"
    }
   },
   "outputs": [
    {
     "data": {
      "text/plain": [
       "Unnamed: 0      int64\n",
       "alpha         float64\n",
       "delta         float64\n",
       "u             float64\n",
       "g             float64\n",
       "r             float64\n",
       "i             float64\n",
       "z             float64\n",
       "class          object\n",
       "redshift      float64\n",
       "dtype: object"
      ]
     },
     "execution_count": 9,
     "metadata": {},
     "output_type": "execute_result"
    }
   ],
   "source": [
    "df.dtypes"
   ]
  },
  {
   "cell_type": "markdown",
   "id": "dbffff04a1d6aa76",
   "metadata": {},
   "source": [
    "Let's pick the attribute \"u\" to complete discretization on."
   ]
  },
  {
   "cell_type": "code",
   "execution_count": 10,
   "id": "f7ac1a7d280bd6d0",
   "metadata": {
    "ExecuteTime": {
     "end_time": "2025-03-10T16:16:25.892338Z",
     "start_time": "2025-03-10T16:16:25.884933Z"
    }
   },
   "outputs": [
    {
     "data": {
      "application/vnd.microsoft.datawrangler.viewer.v0+json": {
       "columns": [
        {
         "name": "index",
         "rawType": "int64",
         "type": "integer"
        },
        {
         "name": "u",
         "rawType": "float64",
         "type": "float"
        }
       ],
       "conversionMethod": "pd.DataFrame",
       "ref": "c33de5d3-e844-4819-b707-c81882c57542",
       "rows": [
        [
         "0",
         "23.87882"
        ],
        [
         "1",
         "24.77759"
        ],
        [
         "2",
         "25.26307"
        ],
        [
         "3",
         "22.13682"
        ],
        [
         "4",
         "19.43718"
        ]
       ],
       "shape": {
        "columns": 1,
        "rows": 5
       }
      },
      "text/html": [
       "<div>\n",
       "<style scoped>\n",
       "    .dataframe tbody tr th:only-of-type {\n",
       "        vertical-align: middle;\n",
       "    }\n",
       "\n",
       "    .dataframe tbody tr th {\n",
       "        vertical-align: top;\n",
       "    }\n",
       "\n",
       "    .dataframe thead th {\n",
       "        text-align: right;\n",
       "    }\n",
       "</style>\n",
       "<table border=\"1\" class=\"dataframe\">\n",
       "  <thead>\n",
       "    <tr style=\"text-align: right;\">\n",
       "      <th></th>\n",
       "      <th>u</th>\n",
       "    </tr>\n",
       "  </thead>\n",
       "  <tbody>\n",
       "    <tr>\n",
       "      <th>0</th>\n",
       "      <td>23.87882</td>\n",
       "    </tr>\n",
       "    <tr>\n",
       "      <th>1</th>\n",
       "      <td>24.77759</td>\n",
       "    </tr>\n",
       "    <tr>\n",
       "      <th>2</th>\n",
       "      <td>25.26307</td>\n",
       "    </tr>\n",
       "    <tr>\n",
       "      <th>3</th>\n",
       "      <td>22.13682</td>\n",
       "    </tr>\n",
       "    <tr>\n",
       "      <th>4</th>\n",
       "      <td>19.43718</td>\n",
       "    </tr>\n",
       "  </tbody>\n",
       "</table>\n",
       "</div>"
      ],
      "text/plain": [
       "          u\n",
       "0  23.87882\n",
       "1  24.77759\n",
       "2  25.26307\n",
       "3  22.13682\n",
       "4  19.43718"
      ]
     },
     "execution_count": 10,
     "metadata": {},
     "output_type": "execute_result"
    }
   ],
   "source": [
    "u = pd.DataFrame(df.u)\n",
    "u.head()\n"
   ]
  },
  {
   "cell_type": "markdown",
   "id": "69ce1ec67eaee510",
   "metadata": {},
   "source": [
    "Let's check for outliers."
   ]
  },
  {
   "cell_type": "code",
   "execution_count": 11,
   "id": "7a17e6969e6a2d51",
   "metadata": {
    "ExecuteTime": {
     "end_time": "2025-03-10T16:16:26.002398Z",
     "start_time": "2025-03-10T16:16:25.991364Z"
    }
   },
   "outputs": [
    {
     "name": "stdout",
     "output_type": "stream",
     "text": [
      "u    0\n",
      "dtype: int64\n"
     ]
    }
   ],
   "source": [
    "print((u < 0).sum())"
   ]
  },
  {
   "cell_type": "markdown",
   "id": "b02e713c83ecdec2",
   "metadata": {},
   "source": [
    "There's an outlier we need to remove."
   ]
  },
  {
   "cell_type": "code",
   "execution_count": 12,
   "id": "d9916391e893cbb8",
   "metadata": {
    "ExecuteTime": {
     "end_time": "2025-03-10T16:16:26.212232Z",
     "start_time": "2025-03-10T16:16:26.195855Z"
    }
   },
   "outputs": [
    {
     "data": {
      "application/vnd.microsoft.datawrangler.viewer.v0+json": {
       "columns": [
        {
         "name": "index",
         "rawType": "int64",
         "type": "integer"
        },
        {
         "name": "u",
         "rawType": "float64",
         "type": "float"
        }
       ],
       "conversionMethod": "pd.DataFrame",
       "ref": "c399175c-94ff-49f5-8258-c94bce8f2eaf",
       "rows": [
        [
         "54011",
         "14.31105"
        ]
       ],
       "shape": {
        "columns": 1,
        "rows": 1
       }
      },
      "text/html": [
       "<div>\n",
       "<style scoped>\n",
       "    .dataframe tbody tr th:only-of-type {\n",
       "        vertical-align: middle;\n",
       "    }\n",
       "\n",
       "    .dataframe tbody tr th {\n",
       "        vertical-align: top;\n",
       "    }\n",
       "\n",
       "    .dataframe thead th {\n",
       "        text-align: right;\n",
       "    }\n",
       "</style>\n",
       "<table border=\"1\" class=\"dataframe\">\n",
       "  <thead>\n",
       "    <tr style=\"text-align: right;\">\n",
       "      <th></th>\n",
       "      <th>u</th>\n",
       "    </tr>\n",
       "  </thead>\n",
       "  <tbody>\n",
       "    <tr>\n",
       "      <th>54011</th>\n",
       "      <td>14.31105</td>\n",
       "    </tr>\n",
       "  </tbody>\n",
       "</table>\n",
       "</div>"
      ],
      "text/plain": [
       "              u\n",
       "54011  14.31105"
      ]
     },
     "execution_count": 12,
     "metadata": {},
     "output_type": "execute_result"
    }
   ],
   "source": [
    "u.nsmallest(1,'u')\n"
   ]
  },
  {
   "cell_type": "code",
   "execution_count": 13,
   "id": "81b4b6a3d2ad4e7",
   "metadata": {
    "ExecuteTime": {
     "end_time": "2025-03-10T16:16:26.363242Z",
     "start_time": "2025-03-10T16:16:26.355024Z"
    }
   },
   "outputs": [],
   "source": [
    "u = u.drop(index=79543)"
   ]
  },
  {
   "cell_type": "code",
   "execution_count": 14,
   "id": "1d4b6fab5602b9c4",
   "metadata": {
    "ExecuteTime": {
     "end_time": "2025-03-10T16:16:26.435236Z",
     "start_time": "2025-03-10T16:16:26.423752Z"
    }
   },
   "outputs": [
    {
     "data": {
      "application/vnd.microsoft.datawrangler.viewer.v0+json": {
       "columns": [
        {
         "name": "index",
         "rawType": "int64",
         "type": "integer"
        },
        {
         "name": "u",
         "rawType": "float64",
         "type": "float"
        }
       ],
       "conversionMethod": "pd.DataFrame",
       "ref": "83ef48d8-ed1c-4133-b4cf-0f7be4de5757",
       "rows": [
        [
         "54011",
         "14.31105"
        ]
       ],
       "shape": {
        "columns": 1,
        "rows": 1
       }
      },
      "text/html": [
       "<div>\n",
       "<style scoped>\n",
       "    .dataframe tbody tr th:only-of-type {\n",
       "        vertical-align: middle;\n",
       "    }\n",
       "\n",
       "    .dataframe tbody tr th {\n",
       "        vertical-align: top;\n",
       "    }\n",
       "\n",
       "    .dataframe thead th {\n",
       "        text-align: right;\n",
       "    }\n",
       "</style>\n",
       "<table border=\"1\" class=\"dataframe\">\n",
       "  <thead>\n",
       "    <tr style=\"text-align: right;\">\n",
       "      <th></th>\n",
       "      <th>u</th>\n",
       "    </tr>\n",
       "  </thead>\n",
       "  <tbody>\n",
       "    <tr>\n",
       "      <th>54011</th>\n",
       "      <td>14.31105</td>\n",
       "    </tr>\n",
       "  </tbody>\n",
       "</table>\n",
       "</div>"
      ],
      "text/plain": [
       "              u\n",
       "54011  14.31105"
      ]
     },
     "execution_count": 14,
     "metadata": {},
     "output_type": "execute_result"
    }
   ],
   "source": [
    "u.nsmallest(1,'u')"
   ]
  },
  {
   "cell_type": "markdown",
   "id": "9de24e43c7335286",
   "metadata": {},
   "source": [
    "Let's look at the data."
   ]
  },
  {
   "cell_type": "code",
   "execution_count": 15,
   "id": "77fda9892ca6d642",
   "metadata": {
    "ExecuteTime": {
     "end_time": "2025-03-10T16:16:26.629167Z",
     "start_time": "2025-03-10T16:16:26.549839Z"
    }
   },
   "outputs": [
    {
     "data": {
      "image/png": "[encoded data removed]",
      "text/plain": [
       "<Figure size 640x480 with 1 Axes>"
      ]
     },
     "metadata": {},
     "output_type": "display_data"
    }
   ],
   "source": [
    "u.hist(bins = 20)\n",
    "plt.show()"
   ]
  },
  {
   "cell_type": "markdown",
   "id": "1ae176b4e98a1b7b",
   "metadata": {},
   "source": [
    "Let's now set up the discretizer so that it uses uniform discretization (bins of same width)."
   ]
  },
  {
   "cell_type": "code",
   "execution_count": 16,
   "id": "3e017f6931e08c4c",
   "metadata": {
    "ExecuteTime": {
     "end_time": "2025-03-10T16:16:26.762722Z",
     "start_time": "2025-03-10T16:16:26.748605Z"
    }
   },
   "outputs": [],
   "source": [
    "dc = KBinsDiscretizer(n_bins=10, encode='ordinal', strategy='uniform')"
   ]
  },
  {
   "cell_type": "markdown",
   "id": "105629d7bb5885cb",
   "metadata": {},
   "source": [
    "Now let's discretize u."
   ]
  },
  {
   "cell_type": "code",
   "execution_count": 17,
   "id": "de766e81df12d317",
   "metadata": {
    "ExecuteTime": {
     "end_time": "2025-03-10T16:16:26.900096Z",
     "start_time": "2025-03-10T16:16:26.890605Z"
    }
   },
   "outputs": [
    {
     "name": "stdout",
     "output_type": "stream",
     "text": [
      "[[6.]\n",
      " [7.]\n",
      " [7.]\n",
      " ...\n",
      " [4.]\n",
      " [7.]\n",
      " [5.]]\n"
     ]
    }
   ],
   "source": [
    "dc.fit(u)\n",
    "Xu = dc.transform(u)\n",
    "print(Xu)"
   ]
  },
  {
   "cell_type": "code",
   "execution_count": 18,
   "id": "d83cf81e86e7d4d5",
   "metadata": {
    "ExecuteTime": {
     "end_time": "2025-03-10T16:16:27.016367Z",
     "start_time": "2025-03-10T16:16:26.940365Z"
    }
   },
   "outputs": [
    {
     "data": {
      "image/png": "[encoded data removed]",
      "text/plain": [
       "<Figure size 640x480 with 1 Axes>"
      ]
     },
     "metadata": {},
     "output_type": "display_data"
    }
   ],
   "source": [
    "Xd = pd.DataFrame(Xu)\n",
    "Xd.hist(bins = 10)\n",
    "plt.show()"
   ]
  },
  {
   "cell_type": "code",
   "execution_count": 19,
   "id": "b7641c43417706b2",
   "metadata": {
    "ExecuteTime": {
     "end_time": "2025-03-10T16:16:27.034129Z",
     "start_time": "2025-03-10T16:16:27.029688Z"
    }
   },
   "outputs": [
    {
     "name": "stdout",
     "output_type": "stream",
     "text": [
      "[array([14.31105 , 15.803383, 17.295716, 18.788049, 20.280382, 21.772715,\n",
      "        23.265048, 24.757381, 26.249714, 27.742047, 29.23438 ])          ]\n"
     ]
    }
   ],
   "source": [
    "print(dc.bin_edges_)"
   ]
  },
  {
   "cell_type": "markdown",
   "id": "64f1b5835b6db4e4",
   "metadata": {},
   "source": [
    "Time to try with quantile binning. Each bin has the same number of values."
   ]
  },
  {
   "cell_type": "code",
   "execution_count": 20,
   "id": "3dd3e6a3b111cb5c",
   "metadata": {
    "ExecuteTime": {
     "end_time": "2025-03-10T16:16:27.061654Z",
     "start_time": "2025-03-10T16:16:27.058134Z"
    }
   },
   "outputs": [],
   "source": [
    "dc = KBinsDiscretizer(n_bins=10, encode='ordinal', strategy='quantile');"
   ]
  },
  {
   "cell_type": "code",
   "execution_count": 21,
   "id": "f5db14c40b55153e",
   "metadata": {
    "ExecuteTime": {
     "end_time": "2025-03-10T16:16:27.126138Z",
     "start_time": "2025-03-10T16:16:27.114601Z"
    }
   },
   "outputs": [
    {
     "name": "stdout",
     "output_type": "stream",
     "text": [
      "[[7.]\n",
      " [8.]\n",
      " [9.]\n",
      " ...\n",
      " [3.]\n",
      " [9.]\n",
      " [5.]]\n"
     ]
    }
   ],
   "source": [
    "dc.fit(u)\n",
    "Xu = dc.transform(u)\n",
    "print(Xu)"
   ]
  },
  {
   "cell_type": "code",
   "execution_count": 22,
   "id": "7fdbf23c29e3deca",
   "metadata": {
    "ExecuteTime": {
     "end_time": "2025-03-10T16:16:27.204370Z",
     "start_time": "2025-03-10T16:16:27.136986Z"
    }
   },
   "outputs": [
    {
     "data": {
      "image/png": "[encoded data removed]",
      "text/plain": [
       "<Figure size 640x480 with 1 Axes>"
      ]
     },
     "metadata": {},
     "output_type": "display_data"
    }
   ],
   "source": [
    "Xd = pd.DataFrame(Xu)\n",
    "Xd.hist(bins=10)\n",
    "plt.show()"
   ]
  },
  {
   "cell_type": "code",
   "execution_count": 23,
   "id": "38988e61ea372fb1",
   "metadata": {
    "ExecuteTime": {
     "end_time": "2025-03-10T16:16:27.221048Z",
     "start_time": "2025-03-10T16:16:27.216451Z"
    }
   },
   "outputs": [
    {
     "name": "stdout",
     "output_type": "stream",
     "text": [
      "[array([14.31105 , 19.119002, 19.949052, 20.721462, 21.528726, 22.15742 ,\n",
      "        22.72338 , 23.31888 , 24.070266, 25.093166, 29.23438 ])          ]\n"
     ]
    }
   ],
   "source": [
    "print(dc.bin_edges_)"
   ]
  },
  {
   "cell_type": "markdown",
   "id": "294ea1f05d75c1df",
   "metadata": {},
   "source": [
    "Finally, let's try kmeans."
   ]
  },
  {
   "cell_type": "code",
   "execution_count": 24,
   "id": "8e300c068237fca8",
   "metadata": {
    "ExecuteTime": {
     "end_time": "2025-03-10T16:16:27.255497Z",
     "start_time": "2025-03-10T16:16:27.246246Z"
    }
   },
   "outputs": [],
   "source": [
    "dc = KBinsDiscretizer(n_bins=10, encode='ordinal', strategy='kmeans');"
   ]
  },
  {
   "cell_type": "code",
   "execution_count": 25,
   "id": "504a12122ec50d1c",
   "metadata": {
    "ExecuteTime": {
     "end_time": "2025-03-10T16:16:27.312485Z",
     "start_time": "2025-03-10T16:16:27.267797Z"
    }
   },
   "outputs": [
    {
     "name": "stdout",
     "output_type": "stream",
     "text": [
      "[[7]\n",
      " [8]\n",
      " [8]\n",
      " ...\n",
      " [4]\n",
      " [8]\n",
      " [5]]\n"
     ]
    }
   ],
   "source": [
    "dc.fit(u)\n",
    "Xu = dc.transform(u).astype(int)\n",
    "print(Xu)"
   ]
  },
  {
   "cell_type": "code",
   "execution_count": 26,
   "id": "f36b8fdd",
   "metadata": {},
   "outputs": [
    {
     "data": {
      "text/plain": [
       "dtype('int64')"
      ]
     },
     "execution_count": 26,
     "metadata": {},
     "output_type": "execute_result"
    }
   ],
   "source": [
    "Xu.astype(int).dtype"
   ]
  },
  {
   "cell_type": "code",
   "execution_count": 27,
   "id": "76a37963f8341bde",
   "metadata": {
    "ExecuteTime": {
     "end_time": "2025-03-10T16:16:27.417723Z",
     "start_time": "2025-03-10T16:16:27.328561Z"
    }
   },
   "outputs": [
    {
     "data": {
      "image/png": "[encoded data removed]",
      "text/plain": [
       "<Figure size 640x480 with 1 Axes>"
      ]
     },
     "metadata": {},
     "output_type": "display_data"
    }
   ],
   "source": [
    "Xd = pd.DataFrame(Xu)\n",
    "Xd.hist(bins=10)\n",
    "plt.show()"
   ]
  },
  {
   "cell_type": "code",
   "execution_count": 28,
   "id": "efe2a68089daa5f8",
   "metadata": {
    "ExecuteTime": {
     "end_time": "2025-03-10T16:16:27.444108Z",
     "start_time": "2025-03-10T16:16:27.439839Z"
    }
   },
   "outputs": [
    {
     "name": "stdout",
     "output_type": "stream",
     "text": [
      "[array([14.31105   , 18.01466338, 19.11349395, 20.03590366, 20.98019309,\n",
      "        21.91386403, 22.79690257, 23.71600339, 24.70441566, 25.7664468 ,\n",
      "        29.23438   ])                                                   ]\n"
     ]
    }
   ],
   "source": [
    "print(dc.bin_edges_)"
   ]
  },
  {
   "cell_type": "markdown",
   "id": "6010bc3f",
   "metadata": {},
   "source": [
    "____\n",
    "# Part2: K-optimization: \n",
    "___"
   ]
  },
  {
   "cell_type": "code",
   "execution_count": 29,
   "id": "bef1b394",
   "metadata": {},
   "outputs": [
    {
     "name": "stdout",
     "output_type": "stream",
     "text": [
      "         Unnamed: 0         alpha         delta             u             g  \\\n",
      "count  97814.000000  97814.000000  97814.000000  97814.000000  97814.000000   \n",
      "mean   49996.045290    177.599567     24.150785     22.071659     20.630475   \n",
      "std    28871.317609     96.535545     19.654619      2.239830      2.023809   \n",
      "min        0.000000      0.005528    -18.785328     14.311050     14.520380   \n",
      "25%    25015.250000    127.478240      5.144758     20.332845     18.938333   \n",
      "50%    49994.500000    180.868223     23.685853     22.157445     21.092910   \n",
      "75%    74989.750000    233.890810     39.908920     23.670853     22.131880   \n",
      "max    99999.000000    359.999810     83.000519     29.234380     26.714980   \n",
      "\n",
      "                  r             i             z      redshift  \n",
      "count  97814.000000  97814.000000  97814.000000  97814.000000  \n",
      "mean      19.636028     19.065337     18.747675      0.521963  \n",
      "std        1.834898      1.728697      1.737013      0.595197  \n",
      "min       14.168760     13.899870     13.559570     -0.009971  \n",
      "25%       18.100860     17.699045     17.430633      0.051332  \n",
      "50%       20.105900     19.378530     18.978620      0.409437  \n",
      "75%       21.031697     20.359738     19.887667      0.677835  \n",
      "max       25.121300     24.285680     24.000870      2.768771  \n"
     ]
    }
   ],
   "source": [
    "print(df.describe())"
   ]
  },
  {
   "cell_type": "markdown",
   "id": "a1e3c3ff",
   "metadata": {},
   "source": [
    "Each of the above techniques will be assessed on each continuous training variable in order to find the best k-value for each variable per discretization technique. Each technique will have an inherent measure for identifying the best k-value for a given variable. Namely, both equal distance and equal frequency will assess optimal-k through evaluation of the sum of each bin's variance, while k-means discretization will assess the optimal-k through the use of a jump statistic that accounts for the relative difference in distortion within bins from one k-value to the next. Ultimately, these optimal bin numbers per technique will be assessed to establish which technique has the most positive impact on the reduction of correlation across the predictive variables. The approach of establishing discretization techniques through direct competition is established in (reference to credit default paper). The approach here focuses on the change in correlation between variables as the desired outcome for discretization rather than focusing on the information gain in order to avoid the potential for over-fitting that is associated with optimizing to the known outcomes (I think the book identifies that this is a danger with supervised discretization but I am hoping to find another peer reviewed source in case the text is not allowed). In addition, this will prevent the preprocessing steps from impacting the training of the data for a particular modeling technique since it is meant to train multiple models using different modeling algorithms."
   ]
  },
  {
   "cell_type": "markdown",
   "id": "3cb10239",
   "metadata": {},
   "source": [
    "#### Equal frequency discretization:\n",
    "The equal frequency technique will use the sum of within-bin variance for each of k-bins in order to choose the best number of bins. Since each bin's object frequency is the same, there is no need for weighing the impact of each bin to the sum. The goal is to identify what k-value produces that smallest variance. "
   ]
  },
  {
   "cell_type": "markdown",
   "id": "92753e53",
   "metadata": {},
   "source": [
    "#### Equal width discretization:\n",
    "The equal width technique also utilizes variance as a measure for optimum k-bins but in the context of a weighted sum of bin variances for each k-value candidate. The reason for the weights being that the elements in each bin will vary and variance is inversely proportional to the number of instances that inform on it. Since we are using the lack of cumulative variance to establish likeness of each bin (which ideally is high), the membership size of each bin can lead to false implications for the likeness within each bin and extend those implications to the cumulative measure. Therefore, the cumulative measure for the equal width technique is the weighted sum of bin variance. The scalar of each bin variance is the relative frequency of instances in each bin. This results in the bins with the smallest membership level having the largest reduction in contribution to cumulative variance."
   ]
  },
  {
   "cell_type": "markdown",
   "id": "fb71410f",
   "metadata": {},
   "source": [
    "#### K-means Discretization:\n",
    "The k-means technique for discretization measures optimum k-values as the largest jump between the distortion within each identified cluster. Ideally, the clusters will have the lowest possible amount of distortion because they will only contain instances that are more like the other members than the members of other clusters.The distortion can be established using several different techniques, such as the within-cluster sum of squared distances from each cluster's centroid, but in this case our variable space is one dimensional and doesn't need to account for aspects of multivariates spaces. Therefore, the weighted variance of each clustered bin will achieve the equivalent of jump/gap statistics of multivariate spaces."
   ]
  },
  {
   "cell_type": "markdown",
   "id": "9d345faa",
   "metadata": {},
   "source": [
    "Collectively all of the binning methods can be evaluated by the same measure to find the best number of bins.\n",
    "The following helper function achieves this in each instance regardless of whether or not the bins have consistent or variable bin membership. Specifically for equal membership binning the weight will have a constant value "
   ]
  },
  {
   "cell_type": "code",
   "execution_count": 30,
   "id": "b8626da1",
   "metadata": {},
   "outputs": [],
   "source": [
    "def wt_sum_variance(df: pd.DataFrame)->float:\n",
    "    \"\"\"\n",
    "        establishes cumulative variance for binning\n",
    "        of a variable\n",
    "    \"\"\"\n",
    "    # stores weighted variances of bins\n",
    "    bin_wt_variances = []\n",
    "    \n",
    "    # list of bin number identifiers that are to be iterated through to find the weighted variance of each \n",
    "    bins = df.iloc[:,1].unique()\n",
    "\n",
    "    for bin in bins:\n",
    "        # get bin members\n",
    "        bin_members = df[df.iloc[:, 1] == bin].iloc[:, 0]\n",
    "        # appends bin_wt_variances with next value\n",
    "        bin_wt_variances.append((bin_members.shape[0]/df.shape[0])*bin_members.var())\n",
    "\n",
    "    return sum(bin_wt_variances)\n",
    "\n"
   ]
  },
  {
   "cell_type": "code",
   "execution_count": null,
   "id": "81732797",
   "metadata": {},
   "outputs": [],
   "source": [
    "def sum_entropy(df: pd.DataFrame)-> float:\n",
    "    bin_entropies = []\n",
    "\n",
    "    bins = df.iloc[:,1].unique()\n",
    "\n",
    "    for bin in bins:\n",
    "        bin_members = df[df.iloc[:,1] == bin]. iloc[:,0]\n",
    "\n",
    "        p = bin_members.shape[0]/df.shape[0]\n",
    "        bin_entropies.append(-p*np.log2(p))\n",
    "\n",
    "    return sum(bin_entropies)"
   ]
  },
  {
   "cell_type": "markdown",
   "id": "00922027",
   "metadata": {},
   "source": [
    "(more)... To establish the location of where the elbow exists, the rate at which the change in variance is i closest to zero is observed. This is achieved from estimates of the 1st and second derivative for the discrete plot ok variance against k as the differences between the differences in variance of k values. in order to identify the optimal k- the location just prior to where the second derivative values change signs is identified. "
   ]
  },
  {
   "cell_type": "code",
   "execution_count": 32,
   "id": "309726a9",
   "metadata": {},
   "outputs": [],
   "source": [
    "def best_k_index_variance(variances: list) -> int:\n",
    "    \"\"\"\n",
    "        finds the correct location of the inflection pt \n",
    "        in the change in variance\n",
    "    \"\"\"\n",
    "    # second derivative of variance\n",
    "    acceleration = np.diff(np.diff(variances))\n",
    "    # starting at one corrects for first indicial shift due to diff array \n",
    "    for k in range(1, len(acceleration)): \n",
    "        # finds inflection in variance\n",
    "        if acceleration[k-1] < 0 and acceleration[k] > 0:\n",
    "            # \"+2\" addresses second indicial shift\n",
    "            return k + 2\n",
    "    return -1  # if no inflection point, return indicator"
   ]
  },
  {
   "cell_type": "markdown",
   "id": "c222f4e6",
   "metadata": {},
   "source": [
    "very similar definition for finding elbow/inflection in the distribution of entropies for k-candidates"
   ]
  },
  {
   "cell_type": "code",
   "execution_count": 6,
   "id": "fb606919",
   "metadata": {},
   "outputs": [],
   "source": [
    "def best_k_index_entropy(entropies: list) -> int:\n",
    "    \"\"\"\n",
    "        finds the correct location of the inflection pt \n",
    "        in the change in entropies\n",
    "    \"\"\"\n",
    "    # second derivative of variance\n",
    "    acceleration = np.diff(np.diff(entropies))\n",
    "    # starting at one corrects for first indicial shift due to diff array \n",
    "    for k in range(1, len(acceleration)): \n",
    "        # finds inflection in variance\n",
    "        if acceleration[k-1] > 0 and acceleration[k] < 0:\n",
    "            # \"+2\" addresses second indicial shift\n",
    "            return k + 2\n",
    "    return -1  # if no inflection point, return indicator"
   ]
  },
  {
   "cell_type": "markdown",
   "id": "e8216283",
   "metadata": {},
   "source": [
    "sandbox cell:"
   ]
  },
  {
   "cell_type": "code",
   "execution_count": null,
   "id": "870a2c1a",
   "metadata": {},
   "outputs": [
    {
     "data": {
      "text/plain": [
       "-1"
      ]
     },
     "execution_count": 27,
     "metadata": {},
     "output_type": "execute_result"
    }
   ],
   "source": [
    "# var1 = [32, 20, 8, 2, 1.3, 1.2, 1.1]\n",
    "# best_k_index_variance(var1)\n",
    "\n",
    "# originally wrote later code in a way where -1 became and index (unintentionally) leading to the last value in the variance list always being returned when an inflection point was not detected. It broke my brain because i couldn't understand where in my code there would be a mechanism that would return the last value in so many instances."
   ]
  },
  {
   "cell_type": "markdown",
   "id": "4f62b0a1",
   "metadata": {},
   "source": [
    "#### K-value candidate range:\n",
    "The range for candidate k-values tested for each technique is defined to be consistent across all of the binning techniques. The range maximum is determined using the variance and absolute frequency of all instances in the predictive variables. The frequency is inherently constant across variables but the variance is specific to each. The minimum is the number of classes in the predicted variable."
   ]
  },
  {
   "cell_type": "markdown",
   "id": "f7e93202",
   "metadata": {},
   "source": [
    "code finds the best k relative to variance inflection point."
   ]
  },
  {
   "cell_type": "code",
   "execution_count": 33,
   "id": "d9f01b74",
   "metadata": {},
   "outputs": [
    {
     "name": "stdout",
     "output_type": "stream",
     "text": [
      "alpha_maxK: 30\n",
      "alpha width k: 8\n",
      "alpha frequency k: 12\n",
      "alpha kmeans k: 10\n",
      "delta_maxK: 759\n",
      "delta width k: 8\n",
      "delta frequency k: 11\n",
      "delta kmeans k: 10\n",
      "u_maxK: 1000\n",
      "u width k: 28\n",
      "u frequency k: 49\n",
      "u kmeans k: 16\n",
      "g_maxK: 1000\n",
      "g width k: 17\n",
      "g frequency k: 41\n",
      "g kmeans k: 19\n",
      "r_maxK: 1000\n",
      "r width k: 9\n",
      "r frequency k: 51\n",
      "r kmeans k: 20\n",
      "i_maxK: 1000\n",
      "i width k: 6\n",
      "i frequency k: 38\n",
      "i kmeans k: 17\n",
      "z_maxK: 1000\n",
      "z width k: 6\n",
      "z frequency k: 68\n",
      "z kmeans k: 14\n",
      "redshift_maxK: 1000\n",
      "redshift width k: 18\n",
      "redshift frequency k: 34\n",
      "redshift kmeans k: 12\n"
     ]
    },
    {
     "data": {
      "application/vnd.microsoft.datawrangler.viewer.v0+json": {
       "columns": [
        {
         "name": "index",
         "rawType": "int64",
         "type": "integer"
        },
        {
         "name": "alpha",
         "rawType": "float64",
         "type": "float"
        },
        {
         "name": "delta",
         "rawType": "float64",
         "type": "float"
        },
        {
         "name": "u",
         "rawType": "float64",
         "type": "float"
        },
        {
         "name": "g",
         "rawType": "float64",
         "type": "float"
        },
        {
         "name": "r",
         "rawType": "float64",
         "type": "float"
        },
        {
         "name": "i",
         "rawType": "float64",
         "type": "float"
        },
        {
         "name": "z",
         "rawType": "float64",
         "type": "float"
        },
        {
         "name": "redshift",
         "rawType": "float64",
         "type": "float"
        },
        {
         "name": "alpha_width",
         "rawType": "int64",
         "type": "integer"
        },
        {
         "name": "alpha_freq",
         "rawType": "int64",
         "type": "integer"
        },
        {
         "name": "alpha_kmeans",
         "rawType": "int64",
         "type": "integer"
        },
        {
         "name": "delta_width",
         "rawType": "int64",
         "type": "integer"
        },
        {
         "name": "delta_freq",
         "rawType": "int64",
         "type": "integer"
        },
        {
         "name": "delta_kmeans",
         "rawType": "int64",
         "type": "integer"
        },
        {
         "name": "u_width",
         "rawType": "int64",
         "type": "integer"
        },
        {
         "name": "u_freq",
         "rawType": "int64",
         "type": "integer"
        },
        {
         "name": "u_kmeans",
         "rawType": "int64",
         "type": "integer"
        },
        {
         "name": "g_width",
         "rawType": "int64",
         "type": "integer"
        },
        {
         "name": "g_freq",
         "rawType": "int64",
         "type": "integer"
        },
        {
         "name": "g_kmeans",
         "rawType": "int64",
         "type": "integer"
        },
        {
         "name": "r_width",
         "rawType": "int64",
         "type": "integer"
        },
        {
         "name": "r_freq",
         "rawType": "int64",
         "type": "integer"
        },
        {
         "name": "r_kmeans",
         "rawType": "int64",
         "type": "integer"
        },
        {
         "name": "i_width",
         "rawType": "int64",
         "type": "integer"
        },
        {
         "name": "i_freq",
         "rawType": "int64",
         "type": "integer"
        },
        {
         "name": "i_kmeans",
         "rawType": "int64",
         "type": "integer"
        },
        {
         "name": "z_width",
         "rawType": "int64",
         "type": "integer"
        },
        {
         "name": "z_freq",
         "rawType": "int64",
         "type": "integer"
        },
        {
         "name": "z_kmeans",
         "rawType": "int64",
         "type": "integer"
        },
        {
         "name": "redshift_width",
         "rawType": "int64",
         "type": "integer"
        },
        {
         "name": "redshift_freq",
         "rawType": "int64",
         "type": "integer"
        },
        {
         "name": "redshift_kmeans",
         "rawType": "int64",
         "type": "integer"
        }
       ],
       "conversionMethod": "pd.DataFrame",
       "ref": "9a986c58-c383-4d75-a9db-748e7c7ffb14",
       "rows": [
        [
         "0",
         "135.6891066036",
         "32.4946318397087",
         "23.87882",
         "22.2753",
         "20.39501",
         "19.16573",
         "18.79371",
         "0.6347936",
         "3",
         "3",
         "3",
         "4",
         "6",
         "5",
         "17",
         "38",
         "11",
         "10",
         "32",
         "13",
         "5",
         "29",
         "11",
         "3",
         "17",
         "8",
         "3",
         "30",
         "6",
         "4",
         "24",
         "4"
        ],
        [
         "1",
         "144.826100550256",
         "31.2741848944939",
         "24.77759",
         "22.83188",
         "22.58444",
         "21.16812",
         "21.61427",
         "0.779136",
         "3",
         "4",
         "3",
         "3",
         "6",
         "5",
         "19",
         "42",
         "12",
         "11",
         "36",
         "14",
         "6",
         "50",
         "17",
         "4",
         "33",
         "13",
         "4",
         "65",
         "12",
         "5",
         "27",
         "5"
        ],
        [
         "2",
         "142.188789562506",
         "35.5824441819976",
         "25.26307",
         "22.66389",
         "20.60976",
         "19.34857",
         "18.94827",
         "0.6441945",
         "3",
         "4",
         "3",
         "4",
         "7",
         "5",
         "20",
         "44",
         "13",
         "11",
         "35",
         "13",
         "5",
         "32",
         "12",
         "3",
         "18",
         "8",
         "3",
         "33",
         "7",
         "4",
         "24",
         "4"
        ],
        [
         "3",
         "338.741037753146",
         "-0.402827574587482",
         "22.13682",
         "23.77656",
         "21.61162",
         "20.50454",
         "19.2501",
         "0.9323456",
         "7",
         "11",
         "8",
         "1",
         "1",
         "1",
         "14",
         "24",
         "8",
         "12",
         "39",
         "16",
         "6",
         "44",
         "15",
         "3",
         "29",
         "11",
         "3",
         "39",
         "7",
         "6",
         "28",
         "5"
        ],
        [
         "4",
         "345.282593210935",
         "21.1838656010284",
         "19.43718",
         "17.58028",
         "16.49747",
         "15.97711",
         "15.54461",
         "0.1161227",
         "7",
         "11",
         "9",
         "3",
         "5",
         "3",
         "9",
         "6",
         "4",
         "4",
         "3",
         "3",
         "1",
         "2",
         "3",
         "1",
         "1",
         "2",
         "1",
         "2",
         "1",
         "0",
         "11",
         "1"
        ]
       ],
       "shape": {
        "columns": 32,
        "rows": 5
       }
      },
      "text/html": [
       "<div>\n",
       "<style scoped>\n",
       "    .dataframe tbody tr th:only-of-type {\n",
       "        vertical-align: middle;\n",
       "    }\n",
       "\n",
       "    .dataframe tbody tr th {\n",
       "        vertical-align: top;\n",
       "    }\n",
       "\n",
       "    .dataframe thead th {\n",
       "        text-align: right;\n",
       "    }\n",
       "</style>\n",
       "<table border=\"1\" class=\"dataframe\">\n",
       "  <thead>\n",
       "    <tr style=\"text-align: right;\">\n",
       "      <th></th>\n",
       "      <th>alpha</th>\n",
       "      <th>delta</th>\n",
       "      <th>u</th>\n",
       "      <th>g</th>\n",
       "      <th>r</th>\n",
       "      <th>i</th>\n",
       "      <th>z</th>\n",
       "      <th>redshift</th>\n",
       "      <th>alpha_width</th>\n",
       "      <th>alpha_freq</th>\n",
       "      <th>...</th>\n",
       "      <th>r_kmeans</th>\n",
       "      <th>i_width</th>\n",
       "      <th>i_freq</th>\n",
       "      <th>i_kmeans</th>\n",
       "      <th>z_width</th>\n",
       "      <th>z_freq</th>\n",
       "      <th>z_kmeans</th>\n",
       "      <th>redshift_width</th>\n",
       "      <th>redshift_freq</th>\n",
       "      <th>redshift_kmeans</th>\n",
       "    </tr>\n",
       "  </thead>\n",
       "  <tbody>\n",
       "    <tr>\n",
       "      <th>0</th>\n",
       "      <td>135.689107</td>\n",
       "      <td>32.494632</td>\n",
       "      <td>23.87882</td>\n",
       "      <td>22.27530</td>\n",
       "      <td>20.39501</td>\n",
       "      <td>19.16573</td>\n",
       "      <td>18.79371</td>\n",
       "      <td>0.634794</td>\n",
       "      <td>3</td>\n",
       "      <td>3</td>\n",
       "      <td>...</td>\n",
       "      <td>11</td>\n",
       "      <td>3</td>\n",
       "      <td>17</td>\n",
       "      <td>8</td>\n",
       "      <td>3</td>\n",
       "      <td>30</td>\n",
       "      <td>6</td>\n",
       "      <td>4</td>\n",
       "      <td>24</td>\n",
       "      <td>4</td>\n",
       "    </tr>\n",
       "    <tr>\n",
       "      <th>1</th>\n",
       "      <td>144.826101</td>\n",
       "      <td>31.274185</td>\n",
       "      <td>24.77759</td>\n",
       "      <td>22.83188</td>\n",
       "      <td>22.58444</td>\n",
       "      <td>21.16812</td>\n",
       "      <td>21.61427</td>\n",
       "      <td>0.779136</td>\n",
       "      <td>3</td>\n",
       "      <td>4</td>\n",
       "      <td>...</td>\n",
       "      <td>17</td>\n",
       "      <td>4</td>\n",
       "      <td>33</td>\n",
       "      <td>13</td>\n",
       "      <td>4</td>\n",
       "      <td>65</td>\n",
       "      <td>12</td>\n",
       "      <td>5</td>\n",
       "      <td>27</td>\n",
       "      <td>5</td>\n",
       "    </tr>\n",
       "    <tr>\n",
       "      <th>2</th>\n",
       "      <td>142.188790</td>\n",
       "      <td>35.582444</td>\n",
       "      <td>25.26307</td>\n",
       "      <td>22.66389</td>\n",
       "      <td>20.60976</td>\n",
       "      <td>19.34857</td>\n",
       "      <td>18.94827</td>\n",
       "      <td>0.644195</td>\n",
       "      <td>3</td>\n",
       "      <td>4</td>\n",
       "      <td>...</td>\n",
       "      <td>12</td>\n",
       "      <td>3</td>\n",
       "      <td>18</td>\n",
       "      <td>8</td>\n",
       "      <td>3</td>\n",
       "      <td>33</td>\n",
       "      <td>7</td>\n",
       "      <td>4</td>\n",
       "      <td>24</td>\n",
       "      <td>4</td>\n",
       "    </tr>\n",
       "    <tr>\n",
       "      <th>3</th>\n",
       "      <td>338.741038</td>\n",
       "      <td>-0.402828</td>\n",
       "      <td>22.13682</td>\n",
       "      <td>23.77656</td>\n",
       "      <td>21.61162</td>\n",
       "      <td>20.50454</td>\n",
       "      <td>19.25010</td>\n",
       "      <td>0.932346</td>\n",
       "      <td>7</td>\n",
       "      <td>11</td>\n",
       "      <td>...</td>\n",
       "      <td>15</td>\n",
       "      <td>3</td>\n",
       "      <td>29</td>\n",
       "      <td>11</td>\n",
       "      <td>3</td>\n",
       "      <td>39</td>\n",
       "      <td>7</td>\n",
       "      <td>6</td>\n",
       "      <td>28</td>\n",
       "      <td>5</td>\n",
       "    </tr>\n",
       "    <tr>\n",
       "      <th>4</th>\n",
       "      <td>345.282593</td>\n",
       "      <td>21.183866</td>\n",
       "      <td>19.43718</td>\n",
       "      <td>17.58028</td>\n",
       "      <td>16.49747</td>\n",
       "      <td>15.97711</td>\n",
       "      <td>15.54461</td>\n",
       "      <td>0.116123</td>\n",
       "      <td>7</td>\n",
       "      <td>11</td>\n",
       "      <td>...</td>\n",
       "      <td>3</td>\n",
       "      <td>1</td>\n",
       "      <td>1</td>\n",
       "      <td>2</td>\n",
       "      <td>1</td>\n",
       "      <td>2</td>\n",
       "      <td>1</td>\n",
       "      <td>0</td>\n",
       "      <td>11</td>\n",
       "      <td>1</td>\n",
       "    </tr>\n",
       "  </tbody>\n",
       "</table>\n",
       "<p>5 rows × 32 columns</p>\n",
       "</div>"
      ],
      "text/plain": [
       "        alpha      delta         u         g         r         i         z  \\\n",
       "0  135.689107  32.494632  23.87882  22.27530  20.39501  19.16573  18.79371   \n",
       "1  144.826101  31.274185  24.77759  22.83188  22.58444  21.16812  21.61427   \n",
       "2  142.188790  35.582444  25.26307  22.66389  20.60976  19.34857  18.94827   \n",
       "3  338.741038  -0.402828  22.13682  23.77656  21.61162  20.50454  19.25010   \n",
       "4  345.282593  21.183866  19.43718  17.58028  16.49747  15.97711  15.54461   \n",
       "\n",
       "   redshift  alpha_width  alpha_freq  ...  r_kmeans  i_width  i_freq  \\\n",
       "0  0.634794            3           3  ...        11        3      17   \n",
       "1  0.779136            3           4  ...        17        4      33   \n",
       "2  0.644195            3           4  ...        12        3      18   \n",
       "3  0.932346            7          11  ...        15        3      29   \n",
       "4  0.116123            7          11  ...         3        1       1   \n",
       "\n",
       "   i_kmeans  z_width  z_freq  z_kmeans  redshift_width  redshift_freq  \\\n",
       "0         8        3      30         6               4             24   \n",
       "1        13        4      65        12               5             27   \n",
       "2         8        3      33         7               4             24   \n",
       "3        11        3      39         7               6             28   \n",
       "4         2        1       2         1               0             11   \n",
       "\n",
       "   redshift_kmeans  \n",
       "0                4  \n",
       "1                5  \n",
       "2                4  \n",
       "3                5  \n",
       "4                1  \n",
       "\n",
       "[5 rows x 32 columns]"
      ]
     },
     "execution_count": 33,
     "metadata": {},
     "output_type": "execute_result"
    }
   ],
   "source": [
    "# minimum k candidate range\n",
    "minK = len(df[\"class\"].unique())\n",
    "\n",
    "# chunks of k candidates to test: prevents running all potential k's if second deriv of variace reveals inflcation point.\n",
    "chunk = 10\n",
    "\n",
    "# predictor df\n",
    "predict_vars = df.columns[df.dtypes == \"float64\"]\n",
    "predict_df = df[predict_vars]\n",
    "predict_df.drop(list(predict_df.filter(regex = 'ID')), axis = 1, inplace = True)\n",
    "\n",
    "# predictor variables list\n",
    "colNames = predict_df.columns\n",
    "\n",
    "for col in colNames:\n",
    "    x = predict_df[col]\n",
    "\n",
    "    # ensures that the \n",
    "    maxK = min(int(minK * (len(x)//x.var())), 1000)\n",
    "    print(f\"{col}_maxK: {maxK}\")\n",
    "    k_candidates = np.arange(minK,maxK,1, dtype= int)\n",
    "\n",
    "    # dictionaries: key = k-value, value = labels\n",
    "    width_dict = defaultdict(list)\n",
    "    freq_dict = defaultdict(list)\n",
    "    kmeans_dict = defaultdict(list)\n",
    "\n",
    "    # lists: store variances for each bin type\n",
    "    width_variances = []\n",
    "    freq_variances = []\n",
    "    kmeans_variances = []\n",
    "\n",
    "    for i in range(minK, maxK, chunk):\n",
    "\n",
    "        # protects from out of bounds at end of loop range\n",
    "        end_i = min(i+chunk, maxK)   \n",
    "\n",
    "        for k in range(i, end_i):\n",
    "            \n",
    "            # discretizer objects per k\n",
    "            DC_width = KBinsDiscretizer(n_bins=k, encode='ordinal', strategy='uniform') \n",
    "        \n",
    "            # populates the dictionaries\n",
    "            width_dict[k] = DC_width.fit_transform(x.values.reshape(-1, 1)).astype(int).flatten()\n",
    "            \n",
    "            # creates dfs for variance evaluation\n",
    "            width_df = pd.DataFrame({'column': x,\n",
    "                                    'bins': width_dict[k]})\n",
    "\n",
    "            # populates variance lists\n",
    "            width_variances.append(wt_sum_variance(width_df))\n",
    "\n",
    "\n",
    "        best_width_i = best_k_index_variance(width_variances)\n",
    "\n",
    "        if best_width_i == -1 :\n",
    "            continue\n",
    "\n",
    "        best_k_width = k_candidates[best_width_i]\n",
    "        print(f\"{col} width k: {best_k_width}\")\n",
    "        predict_df[f\"{col}_width\"] = width_dict[best_k_width]\n",
    "\n",
    "        break\n",
    "\n",
    "    for i in range(minK, maxK, chunk):\n",
    "\n",
    "        # protects from outof bounds at end of loop range\n",
    "        end_i = min(i+chunk, maxK)   \n",
    "\n",
    "        for k in range(i, end_i):\n",
    "            \n",
    "            DC_freq = KBinsDiscretizer(n_bins=k, encode='ordinal', strategy='quantile')\n",
    "        \n",
    "            # populates the dictionaries\n",
    "            freq_dict[k] = DC_freq.fit_transform(x.values.reshape(-1, 1)).astype(int).flatten()\n",
    "\n",
    "            # creates dfs for variance evaluation\n",
    "            freq_df = pd.DataFrame({'column': x,\n",
    "                                    'bins': freq_dict[k]})\n",
    "            \n",
    "            # populates variance lists\n",
    "            freq_variances.append(wt_sum_variance(freq_df))\n",
    "\n",
    "        best_freq_i = best_k_index_variance(freq_variances)\n",
    "\n",
    "        if best_freq_i == -1 :\n",
    "            continue\n",
    "\n",
    "        \n",
    "        best_k_freq = k_candidates[best_freq_i]\n",
    "        print(f\"{col} frequency k: {best_k_freq}\")\n",
    "        predict_df[f\"{col}_freq\"] = freq_dict[best_k_freq]\n",
    "\n",
    "        break\n",
    "\n",
    "    for i in range(minK, maxK, chunk):\n",
    "\n",
    "        # protects from outof bounds at end of loop range\n",
    "        end_i = min(i+chunk, maxK)   \n",
    "\n",
    "        for k in range(i, end_i):\n",
    "            \n",
    "            DC_kmeans = KBinsDiscretizer(n_bins=k, encode='ordinal', strategy='kmeans')\n",
    "        \n",
    "            # populates the dictionaries\n",
    "            kmeans_dict[k] = DC_kmeans.fit_transform(x.values.reshape(-1, 1)).astype(int).flatten()\n",
    "\n",
    "            # creates dfs for variance evaluation\n",
    "            kmeans_df = pd.DataFrame({'column': x,\n",
    "                                    'bins': kmeans_dict[k]})\n",
    "            \n",
    "            # populates variance lists\n",
    "            kmeans_variances.append(wt_sum_variance(kmeans_df))\n",
    "\n",
    "        best_kmeans_i = best_k_index_variance(kmeans_variances)\n",
    "\n",
    "        if best_kmeans_i == -1 :\n",
    "            continue\n",
    "\n",
    "        \n",
    "        best_k_kmeans = k_candidates[best_kmeans_i]\n",
    "        print(f\"{col} kmeans k: {best_k_kmeans}\")\n",
    "        predict_df[f\"{col}_kmeans\"] = kmeans_dict[best_k_kmeans]\n",
    "        \n",
    "        break\n",
    "\n",
    "\n",
    "predict_df.head()\n"
   ]
  },
  {
   "cell_type": "markdown",
   "id": "6d7fcea8",
   "metadata": {},
   "source": [
    "code finds the best k relative to entropy inflection point."
   ]
  },
  {
   "cell_type": "code",
   "execution_count": 34,
   "id": "49a7a863",
   "metadata": {},
   "outputs": [
    {
     "name": "stdout",
     "output_type": "stream",
     "text": [
      "alpha_maxK: 30\n",
      "alpha width k: 9\n",
      "alpha kmeans k: 10\n",
      "delta_maxK: 759\n",
      "delta width k: 9\n",
      "delta frequency k: 469\n",
      "delta kmeans k: 11\n",
      "u_maxK: 1000\n",
      "u width k: 12\n",
      "u frequency k: 116\n",
      "u kmeans k: 12\n",
      "g_maxK: 1000\n",
      "g width k: 6\n",
      "g frequency k: 456\n",
      "g kmeans k: 17\n",
      "r_maxK: 1000\n",
      "r width k: 6\n",
      "r frequency k: 458\n",
      "r kmeans k: 7\n",
      "i_maxK: 1000\n",
      "i width k: 6\n",
      "i frequency k: 419\n",
      "i kmeans k: 11\n",
      "z_maxK: 1000\n",
      "z width k: 7\n",
      "z frequency k: 301\n",
      "z kmeans k: 8\n",
      "redshift_maxK: 1000\n",
      "redshift width k: 15\n",
      "redshift frequency k: 44\n",
      "redshift kmeans k: 6\n"
     ]
    },
    {
     "data": {
      "application/vnd.microsoft.datawrangler.viewer.v0+json": {
       "columns": [
        {
         "name": "index",
         "rawType": "int64",
         "type": "integer"
        },
        {
         "name": "alpha",
         "rawType": "float64",
         "type": "float"
        },
        {
         "name": "delta",
         "rawType": "float64",
         "type": "float"
        },
        {
         "name": "u",
         "rawType": "float64",
         "type": "float"
        },
        {
         "name": "g",
         "rawType": "float64",
         "type": "float"
        },
        {
         "name": "r",
         "rawType": "float64",
         "type": "float"
        },
        {
         "name": "i",
         "rawType": "float64",
         "type": "float"
        },
        {
         "name": "z",
         "rawType": "float64",
         "type": "float"
        },
        {
         "name": "redshift",
         "rawType": "float64",
         "type": "float"
        },
        {
         "name": "alpha_width",
         "rawType": "int64",
         "type": "integer"
        },
        {
         "name": "alpha_kmeans",
         "rawType": "int64",
         "type": "integer"
        },
        {
         "name": "delta_width",
         "rawType": "int64",
         "type": "integer"
        },
        {
         "name": "delta_freq",
         "rawType": "int64",
         "type": "integer"
        },
        {
         "name": "delta_kmeans",
         "rawType": "int64",
         "type": "integer"
        },
        {
         "name": "u_width",
         "rawType": "int64",
         "type": "integer"
        },
        {
         "name": "u_freq",
         "rawType": "int64",
         "type": "integer"
        },
        {
         "name": "u_kmeans",
         "rawType": "int64",
         "type": "integer"
        },
        {
         "name": "g_width",
         "rawType": "int64",
         "type": "integer"
        },
        {
         "name": "g_freq",
         "rawType": "int64",
         "type": "integer"
        },
        {
         "name": "g_kmeans",
         "rawType": "int64",
         "type": "integer"
        },
        {
         "name": "r_width",
         "rawType": "int64",
         "type": "integer"
        },
        {
         "name": "r_freq",
         "rawType": "int64",
         "type": "integer"
        },
        {
         "name": "r_kmeans",
         "rawType": "int64",
         "type": "integer"
        },
        {
         "name": "i_width",
         "rawType": "int64",
         "type": "integer"
        },
        {
         "name": "i_freq",
         "rawType": "int64",
         "type": "integer"
        },
        {
         "name": "i_kmeans",
         "rawType": "int64",
         "type": "integer"
        },
        {
         "name": "z_width",
         "rawType": "int64",
         "type": "integer"
        },
        {
         "name": "z_freq",
         "rawType": "int64",
         "type": "integer"
        },
        {
         "name": "z_kmeans",
         "rawType": "int64",
         "type": "integer"
        },
        {
         "name": "redshift_width",
         "rawType": "int64",
         "type": "integer"
        },
        {
         "name": "redshift_freq",
         "rawType": "int64",
         "type": "integer"
        },
        {
         "name": "redshift_kmeans",
         "rawType": "int64",
         "type": "integer"
        }
       ],
       "conversionMethod": "pd.DataFrame",
       "ref": "64c4144f-aafa-4bb2-85a1-29f4b7c6461b",
       "rows": [
        [
         "0",
         "135.6891066036",
         "32.4946318397087",
         "23.87882",
         "22.2753",
         "20.39501",
         "19.16573",
         "18.79371",
         "0.6347936",
         "3",
         "3",
         "4",
         "295",
         "5",
         "7",
         "90",
         "8",
         "3",
         "357",
         "11",
         "3",
         "262",
         "4",
         "3",
         "189",
         "5",
         "3",
         "136",
         "4",
         "3",
         "31",
         "2"
        ],
        [
         "1",
         "144.826100550256",
         "31.2741848944939",
         "24.77759",
         "22.83188",
         "22.58444",
         "21.16812",
         "21.61427",
         "0.779136",
         "3",
         "3",
         "4",
         "287",
         "5",
         "8",
         "101",
         "9",
         "4",
         "406",
         "12",
         "4",
         "451",
         "6",
         "4",
         "374",
         "9",
         "5",
         "290",
         "7",
         "4",
         "35",
         "2"
        ],
        [
         "2",
         "142.188789562506",
         "35.5824441819976",
         "25.26307",
         "22.66389",
         "20.60976",
         "19.34857",
         "18.94827",
         "0.6441945",
         "3",
         "3",
         "4",
         "320",
         "6",
         "8",
         "105",
         "10",
         "4",
         "393",
         "12",
         "3",
         "291",
         "4",
         "3",
         "206",
         "6",
         "3",
         "147",
         "4",
         "3",
         "32",
         "2"
        ],
        [
         "3",
         "338.741037753146",
         "-0.402827574587482",
         "22.13682",
         "23.77656",
         "21.61162",
         "20.50454",
         "19.2501",
         "0.9323456",
         "8",
         "8",
         "1",
         "52",
         "1",
         "6",
         "57",
         "6",
         "4",
         "442",
         "14",
         "4",
         "398",
         "5",
         "3",
         "325",
         "8",
         "3",
         "174",
         "4",
         "5",
         "37",
         "2"
        ],
        [
         "4",
         "345.282593210935",
         "21.1838656010284",
         "19.43718",
         "17.58028",
         "16.49747",
         "15.97711",
         "15.54461",
         "0.1161227",
         "8",
         "9",
         "3",
         "218",
         "4",
         "4",
         "15",
         "2",
         "1",
         "38",
         "3",
         "1",
         "25",
         "0",
         "1",
         "18",
         "1",
         "1",
         "10",
         "0",
         "0",
         "14",
         "0"
        ]
       ],
       "shape": {
        "columns": 31,
        "rows": 5
       }
      },
      "text/html": [
       "<div>\n",
       "<style scoped>\n",
       "    .dataframe tbody tr th:only-of-type {\n",
       "        vertical-align: middle;\n",
       "    }\n",
       "\n",
       "    .dataframe tbody tr th {\n",
       "        vertical-align: top;\n",
       "    }\n",
       "\n",
       "    .dataframe thead th {\n",
       "        text-align: right;\n",
       "    }\n",
       "</style>\n",
       "<table border=\"1\" class=\"dataframe\">\n",
       "  <thead>\n",
       "    <tr style=\"text-align: right;\">\n",
       "      <th></th>\n",
       "      <th>alpha</th>\n",
       "      <th>delta</th>\n",
       "      <th>u</th>\n",
       "      <th>g</th>\n",
       "      <th>r</th>\n",
       "      <th>i</th>\n",
       "      <th>z</th>\n",
       "      <th>redshift</th>\n",
       "      <th>alpha_width</th>\n",
       "      <th>alpha_kmeans</th>\n",
       "      <th>...</th>\n",
       "      <th>r_kmeans</th>\n",
       "      <th>i_width</th>\n",
       "      <th>i_freq</th>\n",
       "      <th>i_kmeans</th>\n",
       "      <th>z_width</th>\n",
       "      <th>z_freq</th>\n",
       "      <th>z_kmeans</th>\n",
       "      <th>redshift_width</th>\n",
       "      <th>redshift_freq</th>\n",
       "      <th>redshift_kmeans</th>\n",
       "    </tr>\n",
       "  </thead>\n",
       "  <tbody>\n",
       "    <tr>\n",
       "      <th>0</th>\n",
       "      <td>135.689107</td>\n",
       "      <td>32.494632</td>\n",
       "      <td>23.87882</td>\n",
       "      <td>22.27530</td>\n",
       "      <td>20.39501</td>\n",
       "      <td>19.16573</td>\n",
       "      <td>18.79371</td>\n",
       "      <td>0.634794</td>\n",
       "      <td>3</td>\n",
       "      <td>3</td>\n",
       "      <td>...</td>\n",
       "      <td>4</td>\n",
       "      <td>3</td>\n",
       "      <td>189</td>\n",
       "      <td>5</td>\n",
       "      <td>3</td>\n",
       "      <td>136</td>\n",
       "      <td>4</td>\n",
       "      <td>3</td>\n",
       "      <td>31</td>\n",
       "      <td>2</td>\n",
       "    </tr>\n",
       "    <tr>\n",
       "      <th>1</th>\n",
       "      <td>144.826101</td>\n",
       "      <td>31.274185</td>\n",
       "      <td>24.77759</td>\n",
       "      <td>22.83188</td>\n",
       "      <td>22.58444</td>\n",
       "      <td>21.16812</td>\n",
       "      <td>21.61427</td>\n",
       "      <td>0.779136</td>\n",
       "      <td>3</td>\n",
       "      <td>3</td>\n",
       "      <td>...</td>\n",
       "      <td>6</td>\n",
       "      <td>4</td>\n",
       "      <td>374</td>\n",
       "      <td>9</td>\n",
       "      <td>5</td>\n",
       "      <td>290</td>\n",
       "      <td>7</td>\n",
       "      <td>4</td>\n",
       "      <td>35</td>\n",
       "      <td>2</td>\n",
       "    </tr>\n",
       "    <tr>\n",
       "      <th>2</th>\n",
       "      <td>142.188790</td>\n",
       "      <td>35.582444</td>\n",
       "      <td>25.26307</td>\n",
       "      <td>22.66389</td>\n",
       "      <td>20.60976</td>\n",
       "      <td>19.34857</td>\n",
       "      <td>18.94827</td>\n",
       "      <td>0.644195</td>\n",
       "      <td>3</td>\n",
       "      <td>3</td>\n",
       "      <td>...</td>\n",
       "      <td>4</td>\n",
       "      <td>3</td>\n",
       "      <td>206</td>\n",
       "      <td>6</td>\n",
       "      <td>3</td>\n",
       "      <td>147</td>\n",
       "      <td>4</td>\n",
       "      <td>3</td>\n",
       "      <td>32</td>\n",
       "      <td>2</td>\n",
       "    </tr>\n",
       "    <tr>\n",
       "      <th>3</th>\n",
       "      <td>338.741038</td>\n",
       "      <td>-0.402828</td>\n",
       "      <td>22.13682</td>\n",
       "      <td>23.77656</td>\n",
       "      <td>21.61162</td>\n",
       "      <td>20.50454</td>\n",
       "      <td>19.25010</td>\n",
       "      <td>0.932346</td>\n",
       "      <td>8</td>\n",
       "      <td>8</td>\n",
       "      <td>...</td>\n",
       "      <td>5</td>\n",
       "      <td>3</td>\n",
       "      <td>325</td>\n",
       "      <td>8</td>\n",
       "      <td>3</td>\n",
       "      <td>174</td>\n",
       "      <td>4</td>\n",
       "      <td>5</td>\n",
       "      <td>37</td>\n",
       "      <td>2</td>\n",
       "    </tr>\n",
       "    <tr>\n",
       "      <th>4</th>\n",
       "      <td>345.282593</td>\n",
       "      <td>21.183866</td>\n",
       "      <td>19.43718</td>\n",
       "      <td>17.58028</td>\n",
       "      <td>16.49747</td>\n",
       "      <td>15.97711</td>\n",
       "      <td>15.54461</td>\n",
       "      <td>0.116123</td>\n",
       "      <td>8</td>\n",
       "      <td>9</td>\n",
       "      <td>...</td>\n",
       "      <td>0</td>\n",
       "      <td>1</td>\n",
       "      <td>18</td>\n",
       "      <td>1</td>\n",
       "      <td>1</td>\n",
       "      <td>10</td>\n",
       "      <td>0</td>\n",
       "      <td>0</td>\n",
       "      <td>14</td>\n",
       "      <td>0</td>\n",
       "    </tr>\n",
       "  </tbody>\n",
       "</table>\n",
       "<p>5 rows × 31 columns</p>\n",
       "</div>"
      ],
      "text/plain": [
       "        alpha      delta         u         g         r         i         z  \\\n",
       "0  135.689107  32.494632  23.87882  22.27530  20.39501  19.16573  18.79371   \n",
       "1  144.826101  31.274185  24.77759  22.83188  22.58444  21.16812  21.61427   \n",
       "2  142.188790  35.582444  25.26307  22.66389  20.60976  19.34857  18.94827   \n",
       "3  338.741038  -0.402828  22.13682  23.77656  21.61162  20.50454  19.25010   \n",
       "4  345.282593  21.183866  19.43718  17.58028  16.49747  15.97711  15.54461   \n",
       "\n",
       "   redshift  alpha_width  alpha_kmeans  ...  r_kmeans  i_width  i_freq  \\\n",
       "0  0.634794            3             3  ...         4        3     189   \n",
       "1  0.779136            3             3  ...         6        4     374   \n",
       "2  0.644195            3             3  ...         4        3     206   \n",
       "3  0.932346            8             8  ...         5        3     325   \n",
       "4  0.116123            8             9  ...         0        1      18   \n",
       "\n",
       "   i_kmeans  z_width  z_freq  z_kmeans  redshift_width  redshift_freq  \\\n",
       "0         5        3     136         4               3             31   \n",
       "1         9        5     290         7               4             35   \n",
       "2         6        3     147         4               3             32   \n",
       "3         8        3     174         4               5             37   \n",
       "4         1        1      10         0               0             14   \n",
       "\n",
       "   redshift_kmeans  \n",
       "0                2  \n",
       "1                2  \n",
       "2                2  \n",
       "3                2  \n",
       "4                0  \n",
       "\n",
       "[5 rows x 31 columns]"
      ]
     },
     "execution_count": 34,
     "metadata": {},
     "output_type": "execute_result"
    }
   ],
   "source": [
    "# minimum k candidate range\n",
    "minK = len(df[\"class\"].unique())\n",
    "\n",
    "# chunks of k candidates to test: prevents running all potential k's if second deriv of variace reveals inflcation point.\n",
    "chunk = 10\n",
    "\n",
    "# predictor df\n",
    "predict_vars = df.columns[df.dtypes == \"float64\"]\n",
    "predict_df = df[predict_vars]\n",
    "predict_df.drop(list(predict_df.filter(regex = 'ID')), axis = 1, inplace = True)\n",
    "\n",
    "# predictor variables list\n",
    "colNames = predict_df.columns\n",
    "\n",
    "for col in colNames:\n",
    "    x = predict_df[col]\n",
    "\n",
    "    # ensures that there are sufficient candidates without being excessive\n",
    "    maxK = min(int(minK * (len(x)//x.var())), 1000)\n",
    "    print(f\"{col}_maxK: {maxK}\")\n",
    "    k_candidates = np.arange(minK,maxK,1, dtype= int)\n",
    "\n",
    "    # dictionaries: key = k-value, value = labels\n",
    "    width_dict = defaultdict(list)\n",
    "    freq_dict = defaultdict(list)\n",
    "    kmeans_dict = defaultdict(list)\n",
    "\n",
    "    # lists: store variances for each bin type\n",
    "    width_entropies = []\n",
    "    freq_entropies = []\n",
    "    kmeans_entropies = []\n",
    "\n",
    "    for i in range(minK, maxK, chunk):\n",
    "\n",
    "        # protects from out of bounds at end of loop range\n",
    "        end_i = min(i+chunk, maxK)   \n",
    "\n",
    "        for k in range(i, end_i):\n",
    "            \n",
    "            # discretizer objects per k\n",
    "            DC_width = KBinsDiscretizer(n_bins=k, encode='ordinal', strategy='uniform') \n",
    "        \n",
    "            # populates the dictionaries\n",
    "            width_dict[k] = DC_width.fit_transform(x.values.reshape(-1, 1)).astype(int).flatten()\n",
    "            \n",
    "            # creates dfs for variance evaluation\n",
    "            width_df = pd.DataFrame({'column': x,\n",
    "                                    'bins': width_dict[k]})\n",
    "\n",
    "            # populates variance lists\n",
    "            width_entropies.append(sum_entropy(width_df))\n",
    "\n",
    "\n",
    "        best_width_i = best_k_index_entropy(width_entropies)\n",
    "\n",
    "        if best_width_i == -1 :\n",
    "            continue\n",
    "\n",
    "        best_k_width = k_candidates[best_width_i]\n",
    "        print(f\"{col} width k: {best_k_width}\")\n",
    "        predict_df[f\"{col}_width\"] = width_dict[best_k_width]\n",
    "\n",
    "        break\n",
    "\n",
    "    for i in range(minK, maxK, chunk):\n",
    "\n",
    "        # protects from outof bounds at end of loop range\n",
    "        end_i = min(i+chunk, maxK)   \n",
    "\n",
    "        for k in range(i, end_i):\n",
    "            \n",
    "            DC_freq = KBinsDiscretizer(n_bins=k, encode='ordinal', strategy='quantile')\n",
    "        \n",
    "            # populates the dictionaries\n",
    "            freq_dict[k] = DC_freq.fit_transform(x.values.reshape(-1, 1)).astype(int).flatten()\n",
    "\n",
    "            # creates dfs for variance evaluation\n",
    "            freq_df = pd.DataFrame({'column': x,\n",
    "                                    'bins': freq_dict[k]})\n",
    "            \n",
    "            # populates variance lists\n",
    "            freq_entropies.append(sum_entropy(freq_df))\n",
    "\n",
    "        best_freq_i = best_k_index_entropy(freq_entropies)\n",
    "\n",
    "        if best_freq_i == -1 :\n",
    "            continue\n",
    "\n",
    "        \n",
    "        best_k_freq = k_candidates[best_freq_i]\n",
    "        print(f\"{col} frequency k: {best_k_freq}\")\n",
    "        predict_df[f\"{col}_freq\"] = freq_dict[best_k_freq]\n",
    "\n",
    "        break\n",
    "\n",
    "    for i in range(minK, maxK, chunk):\n",
    "\n",
    "        # protects from outof bounds at end of loop range\n",
    "        end_i = min(i+chunk, maxK)   \n",
    "\n",
    "        for k in range(i, end_i):\n",
    "            \n",
    "            DC_kmeans = KBinsDiscretizer(n_bins=k, encode='ordinal', strategy='kmeans')\n",
    "        \n",
    "            # populates the dictionaries\n",
    "            kmeans_dict[k] = DC_kmeans.fit_transform(x.values.reshape(-1, 1)).astype(int).flatten()\n",
    "\n",
    "            # creates dfs for variance evaluation\n",
    "            kmeans_df = pd.DataFrame({'column': x,\n",
    "                                    'bins': kmeans_dict[k]})\n",
    "            \n",
    "            # populates variance lists\n",
    "            kmeans_entropies.append(sum_entropy(kmeans_df))\n",
    "\n",
    "        best_kmeans_i = best_k_index_entropy(kmeans_entropies)\n",
    "\n",
    "        if best_kmeans_i == -1 :\n",
    "            continue\n",
    "\n",
    "        \n",
    "        best_k_kmeans = k_candidates[best_kmeans_i]\n",
    "        print(f\"{col} kmeans k: {best_k_kmeans}\")\n",
    "        predict_df[f\"{col}_kmeans\"] = kmeans_dict[best_k_kmeans]\n",
    "        \n",
    "        break\n",
    "\n",
    "\n",
    "predict_df.head()"
   ]
  },
  {
   "cell_type": "markdown",
   "id": "894cf8ff",
   "metadata": {},
   "source": [
    "____\n",
    "# Part3: Correlation Optimization for experimental groups\n",
    "___"
   ]
  },
  {
   "cell_type": "markdown",
   "id": "d1215895",
   "metadata": {},
   "source": [
    "The prediction variables are all now represented as a data frame where they are represented as the original continuous data as well as the optimized binning found for each technique based on the variance metrics used."
   ]
  },
  {
   "cell_type": "code",
   "execution_count": 29,
   "id": "e911b0f9",
   "metadata": {},
   "outputs": [
    {
     "data": {
      "application/vnd.microsoft.datawrangler.viewer.v0+json": {
       "columns": [
        {
         "name": "index",
         "rawType": "int64",
         "type": "integer"
        },
        {
         "name": "alpha",
         "rawType": "float64",
         "type": "float"
        },
        {
         "name": "delta",
         "rawType": "float64",
         "type": "float"
        },
        {
         "name": "u",
         "rawType": "float64",
         "type": "float"
        },
        {
         "name": "g",
         "rawType": "float64",
         "type": "float"
        },
        {
         "name": "r",
         "rawType": "float64",
         "type": "float"
        },
        {
         "name": "i",
         "rawType": "float64",
         "type": "float"
        },
        {
         "name": "z",
         "rawType": "float64",
         "type": "float"
        },
        {
         "name": "redshift",
         "rawType": "float64",
         "type": "float"
        },
        {
         "name": "alpha_width",
         "rawType": "int64",
         "type": "integer"
        },
        {
         "name": "alpha_freq",
         "rawType": "int64",
         "type": "integer"
        },
        {
         "name": "alpha_kmeans",
         "rawType": "int64",
         "type": "integer"
        },
        {
         "name": "delta_width",
         "rawType": "int64",
         "type": "integer"
        },
        {
         "name": "delta_freq",
         "rawType": "int64",
         "type": "integer"
        },
        {
         "name": "delta_kmeans",
         "rawType": "int64",
         "type": "integer"
        },
        {
         "name": "u_width",
         "rawType": "int64",
         "type": "integer"
        },
        {
         "name": "u_freq",
         "rawType": "int64",
         "type": "integer"
        },
        {
         "name": "u_kmeans",
         "rawType": "int64",
         "type": "integer"
        },
        {
         "name": "g_width",
         "rawType": "int64",
         "type": "integer"
        },
        {
         "name": "g_freq",
         "rawType": "int64",
         "type": "integer"
        },
        {
         "name": "g_kmeans",
         "rawType": "int64",
         "type": "integer"
        },
        {
         "name": "r_width",
         "rawType": "int64",
         "type": "integer"
        },
        {
         "name": "r_freq",
         "rawType": "int64",
         "type": "integer"
        },
        {
         "name": "r_kmeans",
         "rawType": "int64",
         "type": "integer"
        },
        {
         "name": "i_width",
         "rawType": "int64",
         "type": "integer"
        },
        {
         "name": "i_freq",
         "rawType": "int64",
         "type": "integer"
        },
        {
         "name": "i_kmeans",
         "rawType": "int64",
         "type": "integer"
        },
        {
         "name": "z_width",
         "rawType": "int64",
         "type": "integer"
        },
        {
         "name": "z_freq",
         "rawType": "int64",
         "type": "integer"
        },
        {
         "name": "z_kmeans",
         "rawType": "int64",
         "type": "integer"
        },
        {
         "name": "redshift_width",
         "rawType": "int64",
         "type": "integer"
        },
        {
         "name": "redshift_freq",
         "rawType": "int64",
         "type": "integer"
        },
        {
         "name": "redshift_kmeans",
         "rawType": "int64",
         "type": "integer"
        }
       ],
       "conversionMethod": "pd.DataFrame",
       "ref": "d490619c-778e-42d2-8f18-249062f9728c",
       "rows": [
        [
         "0",
         "135.6891066036",
         "32.4946318397087",
         "23.87882",
         "22.2753",
         "20.39501",
         "19.16573",
         "18.79371",
         "0.6347936",
         "3",
         "3",
         "3",
         "4",
         "6",
         "5",
         "17",
         "38",
         "11",
         "10",
         "32",
         "13",
         "5",
         "29",
         "11",
         "3",
         "17",
         "8",
         "3",
         "30",
         "6",
         "4",
         "24",
         "4"
        ],
        [
         "1",
         "144.826100550256",
         "31.2741848944939",
         "24.77759",
         "22.83188",
         "22.58444",
         "21.16812",
         "21.61427",
         "0.779136",
         "3",
         "4",
         "3",
         "3",
         "6",
         "5",
         "19",
         "42",
         "12",
         "11",
         "36",
         "14",
         "6",
         "50",
         "17",
         "4",
         "33",
         "13",
         "4",
         "65",
         "12",
         "5",
         "27",
         "5"
        ],
        [
         "2",
         "142.188789562506",
         "35.5824441819976",
         "25.26307",
         "22.66389",
         "20.60976",
         "19.34857",
         "18.94827",
         "0.6441945",
         "3",
         "4",
         "3",
         "4",
         "7",
         "5",
         "20",
         "44",
         "13",
         "11",
         "35",
         "13",
         "5",
         "32",
         "12",
         "3",
         "18",
         "8",
         "3",
         "33",
         "7",
         "4",
         "24",
         "4"
        ],
        [
         "3",
         "338.741037753146",
         "-0.402827574587482",
         "22.13682",
         "23.77656",
         "21.61162",
         "20.50454",
         "19.2501",
         "0.9323456",
         "7",
         "11",
         "8",
         "1",
         "1",
         "1",
         "14",
         "24",
         "8",
         "12",
         "39",
         "16",
         "6",
         "44",
         "15",
         "3",
         "29",
         "11",
         "3",
         "39",
         "7",
         "6",
         "28",
         "5"
        ],
        [
         "4",
         "345.282593210935",
         "21.1838656010284",
         "19.43718",
         "17.58028",
         "16.49747",
         "15.97711",
         "15.54461",
         "0.1161227",
         "7",
         "11",
         "9",
         "3",
         "5",
         "3",
         "9",
         "6",
         "4",
         "4",
         "3",
         "3",
         "1",
         "2",
         "3",
         "1",
         "1",
         "2",
         "1",
         "2",
         "1",
         "0",
         "11",
         "1"
        ]
       ],
       "shape": {
        "columns": 32,
        "rows": 5
       }
      },
      "text/html": [
       "<div>\n",
       "<style scoped>\n",
       "    .dataframe tbody tr th:only-of-type {\n",
       "        vertical-align: middle;\n",
       "    }\n",
       "\n",
       "    .dataframe tbody tr th {\n",
       "        vertical-align: top;\n",
       "    }\n",
       "\n",
       "    .dataframe thead th {\n",
       "        text-align: right;\n",
       "    }\n",
       "</style>\n",
       "<table border=\"1\" class=\"dataframe\">\n",
       "  <thead>\n",
       "    <tr style=\"text-align: right;\">\n",
       "      <th></th>\n",
       "      <th>alpha</th>\n",
       "      <th>delta</th>\n",
       "      <th>u</th>\n",
       "      <th>g</th>\n",
       "      <th>r</th>\n",
       "      <th>i</th>\n",
       "      <th>z</th>\n",
       "      <th>redshift</th>\n",
       "      <th>alpha_width</th>\n",
       "      <th>alpha_freq</th>\n",
       "      <th>...</th>\n",
       "      <th>r_kmeans</th>\n",
       "      <th>i_width</th>\n",
       "      <th>i_freq</th>\n",
       "      <th>i_kmeans</th>\n",
       "      <th>z_width</th>\n",
       "      <th>z_freq</th>\n",
       "      <th>z_kmeans</th>\n",
       "      <th>redshift_width</th>\n",
       "      <th>redshift_freq</th>\n",
       "      <th>redshift_kmeans</th>\n",
       "    </tr>\n",
       "  </thead>\n",
       "  <tbody>\n",
       "    <tr>\n",
       "      <th>0</th>\n",
       "      <td>135.689107</td>\n",
       "      <td>32.494632</td>\n",
       "      <td>23.87882</td>\n",
       "      <td>22.27530</td>\n",
       "      <td>20.39501</td>\n",
       "      <td>19.16573</td>\n",
       "      <td>18.79371</td>\n",
       "      <td>0.634794</td>\n",
       "      <td>3</td>\n",
       "      <td>3</td>\n",
       "      <td>...</td>\n",
       "      <td>11</td>\n",
       "      <td>3</td>\n",
       "      <td>17</td>\n",
       "      <td>8</td>\n",
       "      <td>3</td>\n",
       "      <td>30</td>\n",
       "      <td>6</td>\n",
       "      <td>4</td>\n",
       "      <td>24</td>\n",
       "      <td>4</td>\n",
       "    </tr>\n",
       "    <tr>\n",
       "      <th>1</th>\n",
       "      <td>144.826101</td>\n",
       "      <td>31.274185</td>\n",
       "      <td>24.77759</td>\n",
       "      <td>22.83188</td>\n",
       "      <td>22.58444</td>\n",
       "      <td>21.16812</td>\n",
       "      <td>21.61427</td>\n",
       "      <td>0.779136</td>\n",
       "      <td>3</td>\n",
       "      <td>4</td>\n",
       "      <td>...</td>\n",
       "      <td>17</td>\n",
       "      <td>4</td>\n",
       "      <td>33</td>\n",
       "      <td>13</td>\n",
       "      <td>4</td>\n",
       "      <td>65</td>\n",
       "      <td>12</td>\n",
       "      <td>5</td>\n",
       "      <td>27</td>\n",
       "      <td>5</td>\n",
       "    </tr>\n",
       "    <tr>\n",
       "      <th>2</th>\n",
       "      <td>142.188790</td>\n",
       "      <td>35.582444</td>\n",
       "      <td>25.26307</td>\n",
       "      <td>22.66389</td>\n",
       "      <td>20.60976</td>\n",
       "      <td>19.34857</td>\n",
       "      <td>18.94827</td>\n",
       "      <td>0.644195</td>\n",
       "      <td>3</td>\n",
       "      <td>4</td>\n",
       "      <td>...</td>\n",
       "      <td>12</td>\n",
       "      <td>3</td>\n",
       "      <td>18</td>\n",
       "      <td>8</td>\n",
       "      <td>3</td>\n",
       "      <td>33</td>\n",
       "      <td>7</td>\n",
       "      <td>4</td>\n",
       "      <td>24</td>\n",
       "      <td>4</td>\n",
       "    </tr>\n",
       "    <tr>\n",
       "      <th>3</th>\n",
       "      <td>338.741038</td>\n",
       "      <td>-0.402828</td>\n",
       "      <td>22.13682</td>\n",
       "      <td>23.77656</td>\n",
       "      <td>21.61162</td>\n",
       "      <td>20.50454</td>\n",
       "      <td>19.25010</td>\n",
       "      <td>0.932346</td>\n",
       "      <td>7</td>\n",
       "      <td>11</td>\n",
       "      <td>...</td>\n",
       "      <td>15</td>\n",
       "      <td>3</td>\n",
       "      <td>29</td>\n",
       "      <td>11</td>\n",
       "      <td>3</td>\n",
       "      <td>39</td>\n",
       "      <td>7</td>\n",
       "      <td>6</td>\n",
       "      <td>28</td>\n",
       "      <td>5</td>\n",
       "    </tr>\n",
       "    <tr>\n",
       "      <th>4</th>\n",
       "      <td>345.282593</td>\n",
       "      <td>21.183866</td>\n",
       "      <td>19.43718</td>\n",
       "      <td>17.58028</td>\n",
       "      <td>16.49747</td>\n",
       "      <td>15.97711</td>\n",
       "      <td>15.54461</td>\n",
       "      <td>0.116123</td>\n",
       "      <td>7</td>\n",
       "      <td>11</td>\n",
       "      <td>...</td>\n",
       "      <td>3</td>\n",
       "      <td>1</td>\n",
       "      <td>1</td>\n",
       "      <td>2</td>\n",
       "      <td>1</td>\n",
       "      <td>2</td>\n",
       "      <td>1</td>\n",
       "      <td>0</td>\n",
       "      <td>11</td>\n",
       "      <td>1</td>\n",
       "    </tr>\n",
       "  </tbody>\n",
       "</table>\n",
       "<p>5 rows × 32 columns</p>\n",
       "</div>"
      ],
      "text/plain": [
       "        alpha      delta         u         g         r         i         z  \\\n",
       "0  135.689107  32.494632  23.87882  22.27530  20.39501  19.16573  18.79371   \n",
       "1  144.826101  31.274185  24.77759  22.83188  22.58444  21.16812  21.61427   \n",
       "2  142.188790  35.582444  25.26307  22.66389  20.60976  19.34857  18.94827   \n",
       "3  338.741038  -0.402828  22.13682  23.77656  21.61162  20.50454  19.25010   \n",
       "4  345.282593  21.183866  19.43718  17.58028  16.49747  15.97711  15.54461   \n",
       "\n",
       "   redshift  alpha_width  alpha_freq  ...  r_kmeans  i_width  i_freq  \\\n",
       "0  0.634794            3           3  ...        11        3      17   \n",
       "1  0.779136            3           4  ...        17        4      33   \n",
       "2  0.644195            3           4  ...        12        3      18   \n",
       "3  0.932346            7          11  ...        15        3      29   \n",
       "4  0.116123            7          11  ...         3        1       1   \n",
       "\n",
       "   i_kmeans  z_width  z_freq  z_kmeans  redshift_width  redshift_freq  \\\n",
       "0         8        3      30         6               4             24   \n",
       "1        13        4      65        12               5             27   \n",
       "2         8        3      33         7               4             24   \n",
       "3        11        3      39         7               6             28   \n",
       "4         2        1       2         1               0             11   \n",
       "\n",
       "   redshift_kmeans  \n",
       "0                4  \n",
       "1                5  \n",
       "2                4  \n",
       "3                5  \n",
       "4                1  \n",
       "\n",
       "[5 rows x 32 columns]"
      ]
     },
     "execution_count": 29,
     "metadata": {},
     "output_type": "execute_result"
    }
   ],
   "source": [
    "predict_df.head()"
   ]
  },
  {
   "cell_type": "markdown",
   "id": "695b7fee",
   "metadata": {},
   "source": [
    "\n",
    "### (My proposed) experimental design:\n",
    "\n",
    "\n",
    " I think it would be really good to have multiple **test groups**:\n",
    " * the results when targeting correlation overall (**Test group 1**)\n",
    " * <strike>the results when targeting the best correlation reductions in the \"problem\" variables specifically (**Test group 2**)</strike> doesn't vary enough fro group 1\n",
    " * a \"random\" group that doesn't account for any of these metrics and just discretizes on a chosen/random k-value and combination of techniques (**Test group 3**)\n",
    " \n",
    " Then the **control group** would be:\n",
    " * the continuous data (because there is no experimental treatment)\n",
    "  \n",
    "The **experimental design**:\n",
    "* train on each test group, and compare to training on the control group\n",
    "* let the results be what they are, thats the point of an experiment (I have no attachment to the methodology thats being deployed). \n",
    "\n",
    "Outcome:\n",
    "* the greatest success relative to the control group will determine if (a) discretization matters at all in the efficacy of training different classifier models and (b) if optimization using variance measures has any impact on the efficacy. \n",
    "\n",
    "Predetermined hypothesis:\n",
    "* answers:  do you think discretization will improve on the effectiveness of the models overall and if so do you think the prescribed discretization technique will be more or less effective than random discretization? \n",
    "\n",
    "* my take: I tend to think that discretization will be impactful but am starting to anticipate that this particular method of specifying bins may be too dialed to have an impact. <font style: color = \"red\"> let me know if you want to change this, I am good with that </font>\n"
   ]
  },
  {
   "cell_type": "markdown",
   "id": "c1747424",
   "metadata": {},
   "source": [
    "___\n",
    "___\n",
    "Controll group prep\n",
    "___\n",
    "___"
   ]
  },
  {
   "cell_type": "markdown",
   "id": "e5823140",
   "metadata": {},
   "source": [
    "The heat-mapped correlation matrix of the continuous versions of the predictive variables."
   ]
  },
  {
   "cell_type": "code",
   "execution_count": 30,
   "id": "b5f5d216",
   "metadata": {},
   "outputs": [
    {
     "data": {
      "text/html": [
       "<style type=\"text/css\">\n",
       "#T_1146a_row0_col0, #T_1146a_row1_col1, #T_1146a_row2_col2, #T_1146a_row3_col3, #T_1146a_row4_col4, #T_1146a_row5_col5, #T_1146a_row6_col6, #T_1146a_row7_col7 {\n",
       "  background-color: #b40426;\n",
       "  color: #f1f1f1;\n",
       "}\n",
       "#T_1146a_row0_col1, #T_1146a_row1_col0 {\n",
       "  background-color: #6e90f2;\n",
       "  color: #f1f1f1;\n",
       "}\n",
       "#T_1146a_row0_col2, #T_1146a_row2_col0, #T_1146a_row7_col0 {\n",
       "  background-color: #4257c9;\n",
       "  color: #f1f1f1;\n",
       "}\n",
       "#T_1146a_row0_col3, #T_1146a_row0_col4, #T_1146a_row0_col5, #T_1146a_row0_col6, #T_1146a_row0_col7, #T_1146a_row1_col2, #T_1146a_row2_col1, #T_1146a_row4_col0, #T_1146a_row5_col0, #T_1146a_row6_col0 {\n",
       "  background-color: #3b4cc0;\n",
       "  color: #f1f1f1;\n",
       "}\n",
       "#T_1146a_row1_col3 {\n",
       "  background-color: #3d50c3;\n",
       "  color: #f1f1f1;\n",
       "}\n",
       "#T_1146a_row1_col4 {\n",
       "  background-color: #3f53c6;\n",
       "  color: #f1f1f1;\n",
       "}\n",
       "#T_1146a_row1_col5, #T_1146a_row1_col6, #T_1146a_row3_col1, #T_1146a_row4_col1, #T_1146a_row5_col1, #T_1146a_row6_col1 {\n",
       "  background-color: #4055c8;\n",
       "  color: #f1f1f1;\n",
       "}\n",
       "#T_1146a_row1_col7 {\n",
       "  background-color: #485fd1;\n",
       "  color: #f1f1f1;\n",
       "}\n",
       "#T_1146a_row2_col3, #T_1146a_row3_col2 {\n",
       "  background-color: #e26952;\n",
       "  color: #f1f1f1;\n",
       "}\n",
       "#T_1146a_row2_col4, #T_1146a_row4_col2 {\n",
       "  background-color: #f5a081;\n",
       "  color: #000000;\n",
       "}\n",
       "#T_1146a_row2_col5, #T_1146a_row5_col2 {\n",
       "  background-color: #f4c5ad;\n",
       "  color: #000000;\n",
       "}\n",
       "#T_1146a_row2_col6, #T_1146a_row6_col2 {\n",
       "  background-color: #e9d5cb;\n",
       "  color: #000000;\n",
       "}\n",
       "#T_1146a_row2_col7 {\n",
       "  background-color: #6a8bef;\n",
       "  color: #f1f1f1;\n",
       "}\n",
       "#T_1146a_row3_col0 {\n",
       "  background-color: #3e51c5;\n",
       "  color: #f1f1f1;\n",
       "}\n",
       "#T_1146a_row3_col4, #T_1146a_row4_col3 {\n",
       "  background-color: #cb3e38;\n",
       "  color: #f1f1f1;\n",
       "}\n",
       "#T_1146a_row3_col5, #T_1146a_row5_col3 {\n",
       "  background-color: #e36b54;\n",
       "  color: #f1f1f1;\n",
       "}\n",
       "#T_1146a_row3_col6 {\n",
       "  background-color: #f08b6e;\n",
       "  color: #f1f1f1;\n",
       "}\n",
       "#T_1146a_row3_col7 {\n",
       "  background-color: #b2ccfb;\n",
       "  color: #000000;\n",
       "}\n",
       "#T_1146a_row4_col5, #T_1146a_row5_col4 {\n",
       "  background-color: #c0282f;\n",
       "  color: #f1f1f1;\n",
       "}\n",
       "#T_1146a_row4_col6, #T_1146a_row6_col4 {\n",
       "  background-color: #cf453c;\n",
       "  color: #f1f1f1;\n",
       "}\n",
       "#T_1146a_row4_col7 {\n",
       "  background-color: #d8dce2;\n",
       "  color: #000000;\n",
       "}\n",
       "#T_1146a_row5_col6, #T_1146a_row6_col5 {\n",
       "  background-color: #bd1f2d;\n",
       "  color: #f1f1f1;\n",
       "}\n",
       "#T_1146a_row5_col7, #T_1146a_row6_col7 {\n",
       "  background-color: #e7d7ce;\n",
       "  color: #000000;\n",
       "}\n",
       "#T_1146a_row6_col3 {\n",
       "  background-color: #f18d6f;\n",
       "  color: #f1f1f1;\n",
       "}\n",
       "#T_1146a_row7_col1 {\n",
       "  background-color: #506bda;\n",
       "  color: #f1f1f1;\n",
       "}\n",
       "#T_1146a_row7_col2 {\n",
       "  background-color: #7295f4;\n",
       "  color: #f1f1f1;\n",
       "}\n",
       "#T_1146a_row7_col3 {\n",
       "  background-color: #b5cdfa;\n",
       "  color: #000000;\n",
       "}\n",
       "#T_1146a_row7_col4 {\n",
       "  background-color: #dbdcde;\n",
       "  color: #000000;\n",
       "}\n",
       "#T_1146a_row7_col5, #T_1146a_row7_col6 {\n",
       "  background-color: #ead5c9;\n",
       "  color: #000000;\n",
       "}\n",
       "</style>\n",
       "<table id=\"T_1146a\">\n",
       "  <thead>\n",
       "    <tr>\n",
       "      <th class=\"blank level0\" >&nbsp;</th>\n",
       "      <th id=\"T_1146a_level0_col0\" class=\"col_heading level0 col0\" >ALPHA</th>\n",
       "      <th id=\"T_1146a_level0_col1\" class=\"col_heading level0 col1\" >DELTA</th>\n",
       "      <th id=\"T_1146a_level0_col2\" class=\"col_heading level0 col2\" >U</th>\n",
       "      <th id=\"T_1146a_level0_col3\" class=\"col_heading level0 col3\" >G</th>\n",
       "      <th id=\"T_1146a_level0_col4\" class=\"col_heading level0 col4\" >R</th>\n",
       "      <th id=\"T_1146a_level0_col5\" class=\"col_heading level0 col5\" >I</th>\n",
       "      <th id=\"T_1146a_level0_col6\" class=\"col_heading level0 col6\" >Z</th>\n",
       "      <th id=\"T_1146a_level0_col7\" class=\"col_heading level0 col7\" >REDSHIFT</th>\n",
       "    </tr>\n",
       "  </thead>\n",
       "  <tbody>\n",
       "    <tr>\n",
       "      <th id=\"T_1146a_level0_row0\" class=\"row_heading level0 row0\" >ALPHA</th>\n",
       "      <td id=\"T_1146a_row0_col0\" class=\"data row0 col0\" >1.000</td>\n",
       "      <td id=\"T_1146a_row0_col1\" class=\"data row0 col1\" >0.139</td>\n",
       "      <td id=\"T_1146a_row0_col2\" class=\"data row0 col2\" >-0.000</td>\n",
       "      <td id=\"T_1146a_row0_col3\" class=\"data row0 col3\" >-0.014</td>\n",
       "      <td id=\"T_1146a_row0_col4\" class=\"data row0 col4\" >-0.023</td>\n",
       "      <td id=\"T_1146a_row0_col5\" class=\"data row0 col5\" >-0.024</td>\n",
       "      <td id=\"T_1146a_row0_col6\" class=\"data row0 col6\" >-0.027</td>\n",
       "      <td id=\"T_1146a_row0_col7\" class=\"data row0 col7\" >0.000</td>\n",
       "    </tr>\n",
       "    <tr>\n",
       "      <th id=\"T_1146a_level0_row1\" class=\"row_heading level0 row1\" >DELTA</th>\n",
       "      <td id=\"T_1146a_row1_col0\" class=\"data row1 col0\" >0.139</td>\n",
       "      <td id=\"T_1146a_row1_col1\" class=\"data row1 col1\" >1.000</td>\n",
       "      <td id=\"T_1146a_row1_col2\" class=\"data row1 col2\" >-0.026</td>\n",
       "      <td id=\"T_1146a_row1_col3\" class=\"data row1 col3\" >-0.006</td>\n",
       "      <td id=\"T_1146a_row1_col4\" class=\"data row1 col4\" >-0.005</td>\n",
       "      <td id=\"T_1146a_row1_col5\" class=\"data row1 col5\" >-0.003</td>\n",
       "      <td id=\"T_1146a_row1_col6\" class=\"data row1 col6\" >-0.004</td>\n",
       "      <td id=\"T_1146a_row1_col7\" class=\"data row1 col7\" >0.047</td>\n",
       "    </tr>\n",
       "    <tr>\n",
       "      <th id=\"T_1146a_level0_row2\" class=\"row_heading level0 row2\" >U</th>\n",
       "      <td id=\"T_1146a_row2_col0\" class=\"data row2 col0\" >-0.000</td>\n",
       "      <td id=\"T_1146a_row2_col1\" class=\"data row2 col1\" >-0.026</td>\n",
       "      <td id=\"T_1146a_row2_col2\" class=\"data row2 col2\" >1.000</td>\n",
       "      <td id=\"T_1146a_row2_col3\" class=\"data row2 col3\" >0.854</td>\n",
       "      <td id=\"T_1146a_row2_col4\" class=\"data row2 col4\" >0.727</td>\n",
       "      <td id=\"T_1146a_row2_col5\" class=\"data row2 col5\" >0.613</td>\n",
       "      <td id=\"T_1146a_row2_col6\" class=\"data row2 col6\" >0.537</td>\n",
       "      <td id=\"T_1146a_row2_col7\" class=\"data row2 col7\" >0.151</td>\n",
       "    </tr>\n",
       "    <tr>\n",
       "      <th id=\"T_1146a_level0_row3\" class=\"row_heading level0 row3\" >G</th>\n",
       "      <td id=\"T_1146a_row3_col0\" class=\"data row3 col0\" >-0.014</td>\n",
       "      <td id=\"T_1146a_row3_col1\" class=\"data row3 col1\" >-0.006</td>\n",
       "      <td id=\"T_1146a_row3_col2\" class=\"data row3 col2\" >0.854</td>\n",
       "      <td id=\"T_1146a_row3_col3\" class=\"data row3 col3\" >1.000</td>\n",
       "      <td id=\"T_1146a_row3_col4\" class=\"data row3 col4\" >0.936</td>\n",
       "      <td id=\"T_1146a_row3_col5\" class=\"data row3 col5\" >0.850</td>\n",
       "      <td id=\"T_1146a_row3_col6\" class=\"data row3 col6\" >0.776</td>\n",
       "      <td id=\"T_1146a_row3_col7\" class=\"data row3 col7\" >0.358</td>\n",
       "    </tr>\n",
       "    <tr>\n",
       "      <th id=\"T_1146a_level0_row4\" class=\"row_heading level0 row4\" >R</th>\n",
       "      <td id=\"T_1146a_row4_col0\" class=\"data row4 col0\" >-0.023</td>\n",
       "      <td id=\"T_1146a_row4_col1\" class=\"data row4 col1\" >-0.005</td>\n",
       "      <td id=\"T_1146a_row4_col2\" class=\"data row4 col2\" >0.727</td>\n",
       "      <td id=\"T_1146a_row4_col3\" class=\"data row4 col3\" >0.936</td>\n",
       "      <td id=\"T_1146a_row4_col4\" class=\"data row4 col4\" >1.000</td>\n",
       "      <td id=\"T_1146a_row4_col5\" class=\"data row4 col5\" >0.968</td>\n",
       "      <td id=\"T_1146a_row4_col6\" class=\"data row4 col6\" >0.923</td>\n",
       "      <td id=\"T_1146a_row4_col7\" class=\"data row4 col7\" >0.483</td>\n",
       "    </tr>\n",
       "    <tr>\n",
       "      <th id=\"T_1146a_level0_row5\" class=\"row_heading level0 row5\" >I</th>\n",
       "      <td id=\"T_1146a_row5_col0\" class=\"data row5 col0\" >-0.024</td>\n",
       "      <td id=\"T_1146a_row5_col1\" class=\"data row5 col1\" >-0.003</td>\n",
       "      <td id=\"T_1146a_row5_col2\" class=\"data row5 col2\" >0.613</td>\n",
       "      <td id=\"T_1146a_row5_col3\" class=\"data row5 col3\" >0.850</td>\n",
       "      <td id=\"T_1146a_row5_col4\" class=\"data row5 col4\" >0.968</td>\n",
       "      <td id=\"T_1146a_row5_col5\" class=\"data row5 col5\" >1.000</td>\n",
       "      <td id=\"T_1146a_row5_col6\" class=\"data row5 col6\" >0.976</td>\n",
       "      <td id=\"T_1146a_row5_col7\" class=\"data row5 col7\" >0.540</td>\n",
       "    </tr>\n",
       "    <tr>\n",
       "      <th id=\"T_1146a_level0_row6\" class=\"row_heading level0 row6\" >Z</th>\n",
       "      <td id=\"T_1146a_row6_col0\" class=\"data row6 col0\" >-0.027</td>\n",
       "      <td id=\"T_1146a_row6_col1\" class=\"data row6 col1\" >-0.004</td>\n",
       "      <td id=\"T_1146a_row6_col2\" class=\"data row6 col2\" >0.537</td>\n",
       "      <td id=\"T_1146a_row6_col3\" class=\"data row6 col3\" >0.776</td>\n",
       "      <td id=\"T_1146a_row6_col4\" class=\"data row6 col4\" >0.923</td>\n",
       "      <td id=\"T_1146a_row6_col5\" class=\"data row6 col5\" >0.976</td>\n",
       "      <td id=\"T_1146a_row6_col6\" class=\"data row6 col6\" >1.000</td>\n",
       "      <td id=\"T_1146a_row6_col7\" class=\"data row6 col7\" >0.542</td>\n",
       "    </tr>\n",
       "    <tr>\n",
       "      <th id=\"T_1146a_level0_row7\" class=\"row_heading level0 row7\" >REDSHIFT</th>\n",
       "      <td id=\"T_1146a_row7_col0\" class=\"data row7 col0\" >0.000</td>\n",
       "      <td id=\"T_1146a_row7_col1\" class=\"data row7 col1\" >0.047</td>\n",
       "      <td id=\"T_1146a_row7_col2\" class=\"data row7 col2\" >0.151</td>\n",
       "      <td id=\"T_1146a_row7_col3\" class=\"data row7 col3\" >0.358</td>\n",
       "      <td id=\"T_1146a_row7_col4\" class=\"data row7 col4\" >0.483</td>\n",
       "      <td id=\"T_1146a_row7_col5\" class=\"data row7 col5\" >0.540</td>\n",
       "      <td id=\"T_1146a_row7_col6\" class=\"data row7 col6\" >0.542</td>\n",
       "      <td id=\"T_1146a_row7_col7\" class=\"data row7 col7\" >1.000</td>\n",
       "    </tr>\n",
       "  </tbody>\n",
       "</table>\n"
      ],
      "text/plain": [
       "<pandas.io.formats.style.Styler at 0x1788dddf020>"
      ]
     },
     "execution_count": 30,
     "metadata": {},
     "output_type": "execute_result"
    }
   ],
   "source": [
    "# separates continuous predictors from discretized\n",
    "contPred_df = predict_df.iloc[:,0:8]\n",
    "corr_matrix = contPred_df.corr()\n",
    "\n",
    "corr_matrix.style\\\n",
    "    .format(precision = 3)\\\n",
    "    .format_index(str.upper, axis = 0)\\\n",
    "    .format_index(str.upper, axis = 1)\\\n",
    "    .background_gradient(cmap='coolwarm')\n",
    "\n"
   ]
  },
  {
   "cell_type": "markdown",
   "id": "f64304aa",
   "metadata": {},
   "source": [
    "___\n",
    "___\n",
    "Test group 1 prep\n",
    "___\n",
    "___"
   ]
  },
  {
   "cell_type": "markdown",
   "id": "e729ddca",
   "metadata": {},
   "source": [
    "Creates list of \"mosaic\" data frames that reflect all the combinations of the discretized predictive variables relative to the techniques used to create them. The bins are based on the optimization workflow."
   ]
  },
  {
   "cell_type": "code",
   "execution_count": 31,
   "id": "53aa6bb8",
   "metadata": {},
   "outputs": [],
   "source": [
    "# separate original discretized predictors from continuous\n",
    "discPred_df = predict_df.iloc[:,8:predict_df.shape[1]]\n",
    "\n",
    "# strips the variable identifier from the matrix\n",
    "corr_matrix = corr_matrix.values\n",
    "\n",
    "# build name lists based on names of continuous variables s.t. each list has 3 discretized columns corresponding to each continuous name\n",
    "contVar_names = contPred_df.columns\n",
    "\n",
    "discVar_names = list(discPred_df.columns)\n",
    "\n",
    "# assigns appropriate names to distinguishing variables\n",
    "alpha_names, delta_names, u_names, g_names, r_names, i_names, z_names, redshift_names = [discVar_names[i:i+3] for i in range(0,len(discVar_names),3)]\n",
    "\n",
    "mosaics_list = []\n",
    "\n",
    "\n",
    "\n",
    "# iteratively combine binning type var per continuous names with each other s.t there is only one version of binned continuous var in the new df\n",
    "for a in alpha_names:\n",
    "    for d in delta_names:\n",
    "        for u in u_names:\n",
    "            for g in g_names:\n",
    "                for r in r_names:\n",
    "                    for i in i_names:\n",
    "                        for z in z_names:\n",
    "                            for red in redshift_names:\n",
    "                                group_names = [a,d,u,g,r,i,z,red]\n",
    "                                df = discPred_df[group_names]\n",
    "                                df_cols = df.columns\n",
    "                                # print(df.head(3))\n",
    "                                disc_cor_mat = df.corr().values\n",
    "                                # messed up commented line below: should be final - initial \n",
    "                                # diffCor_mat = -(corr_matrix - cor_mat)\n",
    "                                diffCor_mat = -(disc_cor_mat - corr_matrix)\n",
    "                                # print(diffCor_mat)\n",
    "                                summed_corDiff = np.sum(diffCor_mat)\n",
    "                                # print(cumm_diffCor)\n",
    "                                obj = {\n",
    "                                      'variable_names' : df_cols,\n",
    "                                    #   'df' : df,\n",
    "                                      'cor_mat' : disc_cor_mat,\n",
    "                                      'diffCor_mat' : diffCor_mat,\n",
    "                                      'summed_corDiff' : summed_corDiff\n",
    "                                    }\n",
    "                                mosaics_list.append(obj)\n",
    "\n",
    "                     \n",
    "\n",
    "  # transform df into cor matrix\n",
    "  # find and store difference between the continuous corr matrix and the mosaic cor matrix as well as cumulative absolute distance\n",
    "  # order the mosaic dfs by greatest to least cumulative cor distance"
   ]
  },
  {
   "cell_type": "markdown",
   "id": "e3404346",
   "metadata": {},
   "source": [
    "Gets the combinations of the optimized discretized variables that reduce the correlation the to the greatest degree and the the combination that actually increases the overall correlation."
   ]
  },
  {
   "cell_type": "code",
   "execution_count": null,
   "id": "39aa09ef",
   "metadata": {},
   "outputs": [
    {
     "name": "stdout",
     "output_type": "stream",
     "text": [
      "   alpha_freq  delta_kmeans  u_width  g_freq  r_freq  i_width  z_width  \\\n",
      "0           3             5       17      32      29        3        3   \n",
      "1           4             5       19      36      50        4        4   \n",
      "2           4             5       20      35      32        3        3   \n",
      "3          11             1       14      39      44        3        3   \n",
      "4          11             3        9       3       2        1        1   \n",
      "\n",
      "   redshift_width  \n",
      "0               4  \n",
      "1               5  \n",
      "2               4  \n",
      "3               6  \n",
      "4               0  \n"
     ]
    }
   ],
   "source": [
    "sorted_mosaics_list = sorted(mosaics_list, key = lambda x: x[\"summed_corDiff\"])\n",
    "\n",
    "CorChange_best_df = discPred_df[sorted_mosaics_list[len(sorted_mosaics_list)-1]['variable_names']]\n",
    "# CorChange_worst_df = discPred_df[sorted_mosaics_list[0]['variable_names']]\n",
    "\n",
    "print(CorChange_best_df.head())\n",
    "\n",
    "# Creates Test Group 1 df\n",
    "CorChange_best_df.to_csv(\"../Dataset/TestGroup1.csv\")"
   ]
  },
  {
   "cell_type": "code",
   "execution_count": 138,
   "id": "3a05c78e",
   "metadata": {},
   "outputs": [
    {
     "data": {
      "text/html": [
       "<style type=\"text/css\">\n",
       "#T_05de8_row0_col0, #T_05de8_row1_col1, #T_05de8_row2_col2, #T_05de8_row3_col3, #T_05de8_row4_col4, #T_05de8_row5_col5, #T_05de8_row6_col6, #T_05de8_row7_col7 {\n",
       "  background-color: #b40426;\n",
       "  color: #f1f1f1;\n",
       "}\n",
       "#T_05de8_row0_col1 {\n",
       "  background-color: #6b8df0;\n",
       "  color: #f1f1f1;\n",
       "}\n",
       "#T_05de8_row0_col2, #T_05de8_row5_col1, #T_05de8_row6_col1 {\n",
       "  background-color: #4055c8;\n",
       "  color: #f1f1f1;\n",
       "}\n",
       "#T_05de8_row0_col3, #T_05de8_row0_col4, #T_05de8_row0_col5, #T_05de8_row0_col6, #T_05de8_row0_col7, #T_05de8_row1_col2, #T_05de8_row2_col1, #T_05de8_row4_col0, #T_05de8_row5_col0, #T_05de8_row6_col0 {\n",
       "  background-color: #3b4cc0;\n",
       "  color: #f1f1f1;\n",
       "}\n",
       "#T_05de8_row1_col0 {\n",
       "  background-color: #6c8ff1;\n",
       "  color: #f1f1f1;\n",
       "}\n",
       "#T_05de8_row1_col3, #T_05de8_row3_col1 {\n",
       "  background-color: #3e51c5;\n",
       "  color: #f1f1f1;\n",
       "}\n",
       "#T_05de8_row1_col4 {\n",
       "  background-color: #445acc;\n",
       "  color: #f1f1f1;\n",
       "}\n",
       "#T_05de8_row1_col5, #T_05de8_row4_col1 {\n",
       "  background-color: #4257c9;\n",
       "  color: #f1f1f1;\n",
       "}\n",
       "#T_05de8_row1_col6, #T_05de8_row2_col0, #T_05de8_row7_col0 {\n",
       "  background-color: #4358cb;\n",
       "  color: #f1f1f1;\n",
       "}\n",
       "#T_05de8_row1_col7 {\n",
       "  background-color: #4961d2;\n",
       "  color: #f1f1f1;\n",
       "}\n",
       "#T_05de8_row2_col3, #T_05de8_row3_col2 {\n",
       "  background-color: #e57058;\n",
       "  color: #f1f1f1;\n",
       "}\n",
       "#T_05de8_row2_col4, #T_05de8_row4_col2 {\n",
       "  background-color: #f7af91;\n",
       "  color: #000000;\n",
       "}\n",
       "#T_05de8_row2_col5, #T_05de8_row5_col2 {\n",
       "  background-color: #f2c9b4;\n",
       "  color: #000000;\n",
       "}\n",
       "#T_05de8_row2_col6, #T_05de8_row7_col6 {\n",
       "  background-color: #e8d6cc;\n",
       "  color: #000000;\n",
       "}\n",
       "#T_05de8_row2_col7 {\n",
       "  background-color: #688aef;\n",
       "  color: #f1f1f1;\n",
       "}\n",
       "#T_05de8_row3_col0 {\n",
       "  background-color: #3d50c3;\n",
       "  color: #f1f1f1;\n",
       "}\n",
       "#T_05de8_row3_col4, #T_05de8_row4_col3 {\n",
       "  background-color: #d24b40;\n",
       "  color: #f1f1f1;\n",
       "}\n",
       "#T_05de8_row3_col5, #T_05de8_row5_col3 {\n",
       "  background-color: #ee8669;\n",
       "  color: #f1f1f1;\n",
       "}\n",
       "#T_05de8_row3_col6, #T_05de8_row6_col3 {\n",
       "  background-color: #f5a081;\n",
       "  color: #000000;\n",
       "}\n",
       "#T_05de8_row3_col7 {\n",
       "  background-color: #a6c4fe;\n",
       "  color: #000000;\n",
       "}\n",
       "#T_05de8_row4_col5, #T_05de8_row5_col4 {\n",
       "  background-color: #d0473d;\n",
       "  color: #f1f1f1;\n",
       "}\n",
       "#T_05de8_row4_col6, #T_05de8_row6_col4 {\n",
       "  background-color: #da5a49;\n",
       "  color: #f1f1f1;\n",
       "}\n",
       "#T_05de8_row4_col7 {\n",
       "  background-color: #d9dce1;\n",
       "  color: #000000;\n",
       "}\n",
       "#T_05de8_row5_col6, #T_05de8_row6_col5 {\n",
       "  background-color: #c83836;\n",
       "  color: #f1f1f1;\n",
       "}\n",
       "#T_05de8_row5_col7, #T_05de8_row6_col7 {\n",
       "  background-color: #e4d9d2;\n",
       "  color: #000000;\n",
       "}\n",
       "#T_05de8_row6_col2, #T_05de8_row7_col5 {\n",
       "  background-color: #e7d7ce;\n",
       "  color: #000000;\n",
       "}\n",
       "#T_05de8_row7_col1 {\n",
       "  background-color: #506bda;\n",
       "  color: #f1f1f1;\n",
       "}\n",
       "#T_05de8_row7_col2 {\n",
       "  background-color: #7093f3;\n",
       "  color: #f1f1f1;\n",
       "}\n",
       "#T_05de8_row7_col3 {\n",
       "  background-color: #abc8fd;\n",
       "  color: #000000;\n",
       "}\n",
       "#T_05de8_row7_col4 {\n",
       "  background-color: #dddcdc;\n",
       "  color: #000000;\n",
       "}\n",
       "</style>\n",
       "<table id=\"T_05de8\">\n",
       "  <thead>\n",
       "    <tr>\n",
       "      <th class=\"blank level0\" >&nbsp;</th>\n",
       "      <th id=\"T_05de8_level0_col0\" class=\"col_heading level0 col0\" >ALPHA_FREQ</th>\n",
       "      <th id=\"T_05de8_level0_col1\" class=\"col_heading level0 col1\" >DELTA_KMEANS</th>\n",
       "      <th id=\"T_05de8_level0_col2\" class=\"col_heading level0 col2\" >U_WIDTH</th>\n",
       "      <th id=\"T_05de8_level0_col3\" class=\"col_heading level0 col3\" >G_FREQ</th>\n",
       "      <th id=\"T_05de8_level0_col4\" class=\"col_heading level0 col4\" >R_FREQ</th>\n",
       "      <th id=\"T_05de8_level0_col5\" class=\"col_heading level0 col5\" >I_WIDTH</th>\n",
       "      <th id=\"T_05de8_level0_col6\" class=\"col_heading level0 col6\" >Z_WIDTH</th>\n",
       "      <th id=\"T_05de8_level0_col7\" class=\"col_heading level0 col7\" >REDSHIFT_WIDTH</th>\n",
       "    </tr>\n",
       "  </thead>\n",
       "  <tbody>\n",
       "    <tr>\n",
       "      <th id=\"T_05de8_level0_row0\" class=\"row_heading level0 row0\" >ALPHA_FREQ</th>\n",
       "      <td id=\"T_05de8_row0_col0\" class=\"data row0 col0\" >1.000</td>\n",
       "      <td id=\"T_05de8_row0_col1\" class=\"data row0 col1\" >0.130</td>\n",
       "      <td id=\"T_05de8_row0_col2\" class=\"data row0 col2\" >-0.007</td>\n",
       "      <td id=\"T_05de8_row0_col3\" class=\"data row0 col3\" >-0.027</td>\n",
       "      <td id=\"T_05de8_row0_col4\" class=\"data row0 col4\" >-0.035</td>\n",
       "      <td id=\"T_05de8_row0_col5\" class=\"data row0 col5\" >-0.032</td>\n",
       "      <td id=\"T_05de8_row0_col6\" class=\"data row0 col6\" >-0.033</td>\n",
       "      <td id=\"T_05de8_row0_col7\" class=\"data row0 col7\" >-0.004</td>\n",
       "    </tr>\n",
       "    <tr>\n",
       "      <th id=\"T_05de8_level0_row1\" class=\"row_heading level0 row1\" >DELTA_KMEANS</th>\n",
       "      <td id=\"T_05de8_row1_col0\" class=\"data row1 col0\" >0.130</td>\n",
       "      <td id=\"T_05de8_row1_col1\" class=\"data row1 col1\" >1.000</td>\n",
       "      <td id=\"T_05de8_row1_col2\" class=\"data row1 col2\" >-0.028</td>\n",
       "      <td id=\"T_05de8_row1_col3\" class=\"data row1 col3\" >-0.015</td>\n",
       "      <td id=\"T_05de8_row1_col4\" class=\"data row1 col4\" >-0.002</td>\n",
       "      <td id=\"T_05de8_row1_col5\" class=\"data row1 col5\" >-0.006</td>\n",
       "      <td id=\"T_05de8_row1_col6\" class=\"data row1 col6\" >-0.004</td>\n",
       "      <td id=\"T_05de8_row1_col7\" class=\"data row1 col7\" >0.045</td>\n",
       "    </tr>\n",
       "    <tr>\n",
       "      <th id=\"T_05de8_level0_row2\" class=\"row_heading level0 row2\" >U_WIDTH</th>\n",
       "      <td id=\"T_05de8_row2_col0\" class=\"data row2 col0\" >-0.007</td>\n",
       "      <td id=\"T_05de8_row2_col1\" class=\"data row2 col1\" >-0.028</td>\n",
       "      <td id=\"T_05de8_row2_col2\" class=\"data row2 col2\" >1.000</td>\n",
       "      <td id=\"T_05de8_row2_col3\" class=\"data row2 col3\" >0.836</td>\n",
       "      <td id=\"T_05de8_row2_col4\" class=\"data row2 col4\" >0.683</td>\n",
       "      <td id=\"T_05de8_row2_col5\" class=\"data row2 col5\" >0.594</td>\n",
       "      <td id=\"T_05de8_row2_col6\" class=\"data row2 col6\" >0.529</td>\n",
       "      <td id=\"T_05de8_row2_col7\" class=\"data row2 col7\" >0.145</td>\n",
       "    </tr>\n",
       "    <tr>\n",
       "      <th id=\"T_05de8_level0_row3\" class=\"row_heading level0 row3\" >G_FREQ</th>\n",
       "      <td id=\"T_05de8_row3_col0\" class=\"data row3 col0\" >-0.027</td>\n",
       "      <td id=\"T_05de8_row3_col1\" class=\"data row3 col1\" >-0.015</td>\n",
       "      <td id=\"T_05de8_row3_col2\" class=\"data row3 col2\" >0.836</td>\n",
       "      <td id=\"T_05de8_row3_col3\" class=\"data row3 col3\" >1.000</td>\n",
       "      <td id=\"T_05de8_row3_col4\" class=\"data row3 col4\" >0.909</td>\n",
       "      <td id=\"T_05de8_row3_col5\" class=\"data row3 col5\" >0.787</td>\n",
       "      <td id=\"T_05de8_row3_col6\" class=\"data row3 col6\" >0.725</td>\n",
       "      <td id=\"T_05de8_row3_col7\" class=\"data row3 col7\" >0.320</td>\n",
       "    </tr>\n",
       "    <tr>\n",
       "      <th id=\"T_05de8_level0_row4\" class=\"row_heading level0 row4\" >R_FREQ</th>\n",
       "      <td id=\"T_05de8_row4_col0\" class=\"data row4 col0\" >-0.035</td>\n",
       "      <td id=\"T_05de8_row4_col1\" class=\"data row4 col1\" >-0.002</td>\n",
       "      <td id=\"T_05de8_row4_col2\" class=\"data row4 col2\" >0.683</td>\n",
       "      <td id=\"T_05de8_row4_col3\" class=\"data row4 col3\" >0.909</td>\n",
       "      <td id=\"T_05de8_row4_col4\" class=\"data row4 col4\" >1.000</td>\n",
       "      <td id=\"T_05de8_row4_col5\" class=\"data row4 col5\" >0.916</td>\n",
       "      <td id=\"T_05de8_row4_col6\" class=\"data row4 col6\" >0.881</td>\n",
       "      <td id=\"T_05de8_row4_col7\" class=\"data row4 col7\" >0.485</td>\n",
       "    </tr>\n",
       "    <tr>\n",
       "      <th id=\"T_05de8_level0_row5\" class=\"row_heading level0 row5\" >I_WIDTH</th>\n",
       "      <td id=\"T_05de8_row5_col0\" class=\"data row5 col0\" >-0.032</td>\n",
       "      <td id=\"T_05de8_row5_col1\" class=\"data row5 col1\" >-0.006</td>\n",
       "      <td id=\"T_05de8_row5_col2\" class=\"data row5 col2\" >0.594</td>\n",
       "      <td id=\"T_05de8_row5_col3\" class=\"data row5 col3\" >0.787</td>\n",
       "      <td id=\"T_05de8_row5_col4\" class=\"data row5 col4\" >0.916</td>\n",
       "      <td id=\"T_05de8_row5_col5\" class=\"data row5 col5\" >1.000</td>\n",
       "      <td id=\"T_05de8_row5_col6\" class=\"data row5 col6\" >0.941</td>\n",
       "      <td id=\"T_05de8_row5_col7\" class=\"data row5 col7\" >0.528</td>\n",
       "    </tr>\n",
       "    <tr>\n",
       "      <th id=\"T_05de8_level0_row6\" class=\"row_heading level0 row6\" >Z_WIDTH</th>\n",
       "      <td id=\"T_05de8_row6_col0\" class=\"data row6 col0\" >-0.033</td>\n",
       "      <td id=\"T_05de8_row6_col1\" class=\"data row6 col1\" >-0.004</td>\n",
       "      <td id=\"T_05de8_row6_col2\" class=\"data row6 col2\" >0.529</td>\n",
       "      <td id=\"T_05de8_row6_col3\" class=\"data row6 col3\" >0.725</td>\n",
       "      <td id=\"T_05de8_row6_col4\" class=\"data row6 col4\" >0.881</td>\n",
       "      <td id=\"T_05de8_row6_col5\" class=\"data row6 col5\" >0.941</td>\n",
       "      <td id=\"T_05de8_row6_col6\" class=\"data row6 col6\" >1.000</td>\n",
       "      <td id=\"T_05de8_row6_col7\" class=\"data row6 col7\" >0.528</td>\n",
       "    </tr>\n",
       "    <tr>\n",
       "      <th id=\"T_05de8_level0_row7\" class=\"row_heading level0 row7\" >REDSHIFT_WIDTH</th>\n",
       "      <td id=\"T_05de8_row7_col0\" class=\"data row7 col0\" >-0.004</td>\n",
       "      <td id=\"T_05de8_row7_col1\" class=\"data row7 col1\" >0.045</td>\n",
       "      <td id=\"T_05de8_row7_col2\" class=\"data row7 col2\" >0.145</td>\n",
       "      <td id=\"T_05de8_row7_col3\" class=\"data row7 col3\" >0.320</td>\n",
       "      <td id=\"T_05de8_row7_col4\" class=\"data row7 col4\" >0.485</td>\n",
       "      <td id=\"T_05de8_row7_col5\" class=\"data row7 col5\" >0.528</td>\n",
       "      <td id=\"T_05de8_row7_col6\" class=\"data row7 col6\" >0.528</td>\n",
       "      <td id=\"T_05de8_row7_col7\" class=\"data row7 col7\" >1.000</td>\n",
       "    </tr>\n",
       "  </tbody>\n",
       "</table>\n"
      ],
      "text/plain": [
       "<pandas.io.formats.style.Styler at 0x188dcbe45c0>"
      ]
     },
     "execution_count": 138,
     "metadata": {},
     "output_type": "execute_result"
    }
   ],
   "source": [
    "best_df_corr_matrix = CorChange_best_df.corr()\n",
    "\n",
    "best_df_corr_matrix.style\\\n",
    "    .format(precision = 3)\\\n",
    "    .format_index(str.upper, axis = 0)\\\n",
    "    .format_index(str.upper, axis = 1)\\\n",
    "    .background_gradient(cmap='coolwarm')"
   ]
  },
  {
   "cell_type": "code",
   "execution_count": 137,
   "id": "502ca21e",
   "metadata": {},
   "outputs": [],
   "source": [
    "# min_df_corr_matrix = CorChange_min_df.corr()\n",
    "\n",
    "# min_df_corr_matrix.style\\\n",
    "#     .format(precision = 3)\\\n",
    "#     .format_index(str.upper, axis = 0)\\\n",
    "#     .format_index(str.upper, axis = 1)\\\n",
    "#     .background_gradient(cmap='coolwarm')"
   ]
  },
  {
   "cell_type": "markdown",
   "id": "c90a6f9a",
   "metadata": {},
   "source": [
    "So there is improvement in the correlation but its more scalpel work than is probably beneficial (with respect to ). I am targeting my metrics toward the variable with the highest correlations next to see what combinations emerge (if they are different). "
   ]
  },
  {
   "cell_type": "markdown",
   "id": "dc3ea7f2",
   "metadata": {},
   "source": [
    "___\n",
    "___\n",
    "Test group 2 prep\n",
    "___\n",
    "___"
   ]
  },
  {
   "cell_type": "markdown",
   "id": "8aa4f893",
   "metadata": {},
   "source": [
    "Sandbox cell: Identifies dynamically the continuous variables with the highest correlation (> .90)"
   ]
  },
  {
   "cell_type": "code",
   "execution_count": null,
   "id": "4a416ed9",
   "metadata": {},
   "outputs": [],
   "source": [
    "# n = corr_matrix.shape[0]\n",
    "# var_names = contVar_names\n",
    "# high_corr_pair_idx = []\n",
    "\n",
    "# temp_corr_matrix = corr_matrix.copy()\n",
    "# temp_corr_matrix[temp_corr_matrix == 1] = 0\n",
    "# temp_corr_matrix = pd.DataFrame(temp_corr_matrix, columns = var_names, index= var_names)\n",
    "# print(temp_corr_matrix)\n",
    "# # print(temp_corr_matrix)\n",
    "# for i in range(n):\n",
    "#     for j in range(n):\n",
    "#         if abs(temp_corr_matrix.iloc[i,j]) > .90:\n",
    "#             high_corr_pair_idx.append((i,j))\n",
    "\n",
    "# print(high_corr_pair_idx)"
   ]
  },
  {
   "cell_type": "code",
   "execution_count": 33,
   "id": "cf632644",
   "metadata": {},
   "outputs": [],
   "source": [
    "# separate original discretized predictors from continuous\n",
    "discPred_df = predict_df.iloc[:,8:predict_df.shape[1]] # performed above cell\n",
    "\n",
    "\n",
    "# build name lists based on names of continuous variables s.t. each list has 3 discretized columns corresponding to each continuous name\n",
    "contVar_names = contPred_df.columns # performed above cell\n",
    "\n",
    "# generates list of highly correlated variable pairs\n",
    "n = corr_matrix.shape[0]\n",
    "var_names = contVar_names\n",
    "high_corr_pair_idx = []\n",
    "\n",
    "temp_corr_matrix = corr_matrix.copy()\n",
    "temp_corr_matrix[temp_corr_matrix == 1] = 0\n",
    "temp_corr_matrix = pd.DataFrame(temp_corr_matrix, columns = var_names, index= var_names)\n",
    "for i in range(n):\n",
    "    for j in range(n):\n",
    "        if abs(temp_corr_matrix.iloc[i,j]) > .90:\n",
    "            high_corr_pair_idx.append((i,j))\n",
    "\n",
    "\n",
    "discVar_names = list(discPred_df.columns) # generated above cell\n",
    "\n",
    "# assigns appropriate names to distinguishing variables\n",
    "alpha_names, delta_names, u_names, g_names, r_names, i_names, z_names, redshift_names = [discVar_names[i:i+3] for i in range(0,len(discVar_names),3)] # generated above cell\n",
    "\n",
    "mosaics_list = []\n",
    "\n",
    "\n",
    "\n",
    "# iteratively combine binning type var per continuous names with each other s.t there is only one version of binned continuous var in the new df\n",
    "for a in alpha_names:\n",
    "    for d in delta_names:\n",
    "        for u in u_names:\n",
    "            for g in g_names:\n",
    "                for r in r_names:\n",
    "                    for i in i_names:\n",
    "                        for z in z_names:\n",
    "                            for red in redshift_names:\n",
    "                                summed_corDiff = 0\n",
    "\n",
    "                                group_names = [a,d,u,g,r,i,z,red]\n",
    "                                df = discPred_df[group_names]\n",
    "\n",
    "                                df_cols = df.columns\n",
    "                                # print(df.head(3))\n",
    "                                disc_cor_mat = df.corr().values\n",
    "                                \n",
    "\n",
    "                                for pair in high_corr_pair_idx:\n",
    "                                    summed_corDiff += -(disc_cor_mat[pair[0], pair[1]] - corr_matrix[pair[0], pair[1]])\n",
    "\n",
    "                            \n",
    "                                obj = {\n",
    "                                      'variable_names' : df_cols,\n",
    "                                      'cor_mat' : disc_cor_mat,\n",
    "                                      'diffCor_mat' : diffCor_mat,\n",
    "                                      'summed_corDiff' : summed_corDiff\n",
    "                                    }\n",
    "                                mosaics_list.append(obj)\n",
    "\n",
    "                     \n",
    "\n",
    "  # transform df into cor matrix\n",
    "  # find and store difference between the continuous corr matrix and the mosaic cor matrix as well as cumulative absolute distance\n",
    "  # order the mosaic dfs by greatest to least cumulative cor distance"
   ]
  },
  {
   "cell_type": "code",
   "execution_count": null,
   "id": "9bf557f1",
   "metadata": {},
   "outputs": [],
   "source": [
    "sorted_mosaics_list = sorted(mosaics_list, key = lambda x: x[\"summed_corDiff\"])\n",
    "\n",
    "CorChange_best_df = discPred_df[sorted_mosaics_list[len(sorted_mosaics_list)-1]['variable_names']]\n",
    "\n",
    "# Creates Test Group 2 df\n",
    "CorChange_best_df.to_csv(\"../Dataset/TestGroup2.csv\")"
   ]
  },
  {
   "cell_type": "code",
   "execution_count": 154,
   "id": "d4ea42a0",
   "metadata": {},
   "outputs": [
    {
     "data": {
      "text/html": [
       "<style type=\"text/css\">\n",
       "#T_3a7e5_row0_col0, #T_3a7e5_row1_col1, #T_3a7e5_row2_col2, #T_3a7e5_row3_col3, #T_3a7e5_row4_col4, #T_3a7e5_row5_col5, #T_3a7e5_row6_col6, #T_3a7e5_row7_col7 {\n",
       "  background-color: #b40426;\n",
       "  color: #f1f1f1;\n",
       "}\n",
       "#T_3a7e5_row0_col1 {\n",
       "  background-color: #6c8ff1;\n",
       "  color: #f1f1f1;\n",
       "}\n",
       "#T_3a7e5_row0_col2, #T_3a7e5_row1_col4, #T_3a7e5_row1_col5, #T_3a7e5_row4_col1, #T_3a7e5_row5_col1 {\n",
       "  background-color: #4055c8;\n",
       "  color: #f1f1f1;\n",
       "}\n",
       "#T_3a7e5_row0_col3, #T_3a7e5_row0_col4, #T_3a7e5_row0_col5, #T_3a7e5_row0_col6, #T_3a7e5_row0_col7, #T_3a7e5_row1_col2, #T_3a7e5_row2_col1, #T_3a7e5_row4_col0, #T_3a7e5_row5_col0, #T_3a7e5_row6_col0 {\n",
       "  background-color: #3b4cc0;\n",
       "  color: #f1f1f1;\n",
       "}\n",
       "#T_3a7e5_row1_col0 {\n",
       "  background-color: #6e90f2;\n",
       "  color: #f1f1f1;\n",
       "}\n",
       "#T_3a7e5_row1_col3 {\n",
       "  background-color: #3d50c3;\n",
       "  color: #f1f1f1;\n",
       "}\n",
       "#T_3a7e5_row1_col6 {\n",
       "  background-color: #465ecf;\n",
       "  color: #f1f1f1;\n",
       "}\n",
       "#T_3a7e5_row1_col7 {\n",
       "  background-color: #4961d2;\n",
       "  color: #f1f1f1;\n",
       "}\n",
       "#T_3a7e5_row2_col0, #T_3a7e5_row7_col0 {\n",
       "  background-color: #4257c9;\n",
       "  color: #f1f1f1;\n",
       "}\n",
       "#T_3a7e5_row2_col3, #T_3a7e5_row3_col2 {\n",
       "  background-color: #e46e56;\n",
       "  color: #f1f1f1;\n",
       "}\n",
       "#T_3a7e5_row2_col4, #T_3a7e5_row4_col2 {\n",
       "  background-color: #f6a385;\n",
       "  color: #000000;\n",
       "}\n",
       "#T_3a7e5_row2_col5, #T_3a7e5_row5_col2 {\n",
       "  background-color: #f2c9b4;\n",
       "  color: #000000;\n",
       "}\n",
       "#T_3a7e5_row2_col6, #T_3a7e5_row6_col2 {\n",
       "  background-color: #e0dbd8;\n",
       "  color: #000000;\n",
       "}\n",
       "#T_3a7e5_row2_col7 {\n",
       "  background-color: #82a6fb;\n",
       "  color: #f1f1f1;\n",
       "}\n",
       "#T_3a7e5_row3_col0 {\n",
       "  background-color: #3c4ec2;\n",
       "  color: #f1f1f1;\n",
       "}\n",
       "#T_3a7e5_row3_col1 {\n",
       "  background-color: #3e51c5;\n",
       "  color: #f1f1f1;\n",
       "}\n",
       "#T_3a7e5_row3_col4 {\n",
       "  background-color: #d65244;\n",
       "  color: #f1f1f1;\n",
       "}\n",
       "#T_3a7e5_row3_col5 {\n",
       "  background-color: #ee8669;\n",
       "  color: #f1f1f1;\n",
       "}\n",
       "#T_3a7e5_row3_col6 {\n",
       "  background-color: #f5a081;\n",
       "  color: #000000;\n",
       "}\n",
       "#T_3a7e5_row3_col7 {\n",
       "  background-color: #c1d4f4;\n",
       "  color: #000000;\n",
       "}\n",
       "#T_3a7e5_row4_col3, #T_3a7e5_row4_col6, #T_3a7e5_row6_col4 {\n",
       "  background-color: #d75445;\n",
       "  color: #f1f1f1;\n",
       "}\n",
       "#T_3a7e5_row4_col5, #T_3a7e5_row5_col4 {\n",
       "  background-color: #d0473d;\n",
       "  color: #f1f1f1;\n",
       "}\n",
       "#T_3a7e5_row4_col7 {\n",
       "  background-color: #e4d9d2;\n",
       "  color: #000000;\n",
       "}\n",
       "#T_3a7e5_row5_col3 {\n",
       "  background-color: #ef886b;\n",
       "  color: #f1f1f1;\n",
       "}\n",
       "#T_3a7e5_row5_col6, #T_3a7e5_row6_col5 {\n",
       "  background-color: #cc403a;\n",
       "  color: #f1f1f1;\n",
       "}\n",
       "#T_3a7e5_row5_col7 {\n",
       "  background-color: #ecd3c5;\n",
       "  color: #000000;\n",
       "}\n",
       "#T_3a7e5_row6_col1 {\n",
       "  background-color: #455cce;\n",
       "  color: #f1f1f1;\n",
       "}\n",
       "#T_3a7e5_row6_col3 {\n",
       "  background-color: #f6a283;\n",
       "  color: #000000;\n",
       "}\n",
       "#T_3a7e5_row6_col7 {\n",
       "  background-color: #f1cdba;\n",
       "  color: #000000;\n",
       "}\n",
       "#T_3a7e5_row7_col1 {\n",
       "  background-color: #4f69d9;\n",
       "  color: #f1f1f1;\n",
       "}\n",
       "#T_3a7e5_row7_col2 {\n",
       "  background-color: #88abfd;\n",
       "  color: #000000;\n",
       "}\n",
       "#T_3a7e5_row7_col3 {\n",
       "  background-color: #c5d6f2;\n",
       "  color: #000000;\n",
       "}\n",
       "#T_3a7e5_row7_col4 {\n",
       "  background-color: #e7d7ce;\n",
       "  color: #000000;\n",
       "}\n",
       "#T_3a7e5_row7_col5 {\n",
       "  background-color: #edd1c2;\n",
       "  color: #000000;\n",
       "}\n",
       "#T_3a7e5_row7_col6 {\n",
       "  background-color: #f2cbb7;\n",
       "  color: #000000;\n",
       "}\n",
       "</style>\n",
       "<table id=\"T_3a7e5\">\n",
       "  <thead>\n",
       "    <tr>\n",
       "      <th class=\"blank level0\" >&nbsp;</th>\n",
       "      <th id=\"T_3a7e5_level0_col0\" class=\"col_heading level0 col0\" >ALPHA_KMEANS</th>\n",
       "      <th id=\"T_3a7e5_level0_col1\" class=\"col_heading level0 col1\" >DELTA_KMEANS</th>\n",
       "      <th id=\"T_3a7e5_level0_col2\" class=\"col_heading level0 col2\" >U_KMEANS</th>\n",
       "      <th id=\"T_3a7e5_level0_col3\" class=\"col_heading level0 col3\" >G_FREQ</th>\n",
       "      <th id=\"T_3a7e5_level0_col4\" class=\"col_heading level0 col4\" >R_WIDTH</th>\n",
       "      <th id=\"T_3a7e5_level0_col5\" class=\"col_heading level0 col5\" >I_WIDTH</th>\n",
       "      <th id=\"T_3a7e5_level0_col6\" class=\"col_heading level0 col6\" >Z_FREQ</th>\n",
       "      <th id=\"T_3a7e5_level0_col7\" class=\"col_heading level0 col7\" >REDSHIFT_KMEANS</th>\n",
       "    </tr>\n",
       "  </thead>\n",
       "  <tbody>\n",
       "    <tr>\n",
       "      <th id=\"T_3a7e5_level0_row0\" class=\"row_heading level0 row0\" >ALPHA_KMEANS</th>\n",
       "      <td id=\"T_3a7e5_row0_col0\" class=\"data row0 col0\" >1.000</td>\n",
       "      <td id=\"T_3a7e5_row0_col1\" class=\"data row0 col1\" >0.134</td>\n",
       "      <td id=\"T_3a7e5_row0_col2\" class=\"data row0 col2\" >-0.004</td>\n",
       "      <td id=\"T_3a7e5_row0_col3\" class=\"data row0 col3\" >-0.024</td>\n",
       "      <td id=\"T_3a7e5_row0_col4\" class=\"data row0 col4\" >-0.030</td>\n",
       "      <td id=\"T_3a7e5_row0_col5\" class=\"data row0 col5\" >-0.029</td>\n",
       "      <td id=\"T_3a7e5_row0_col6\" class=\"data row0 col6\" >-0.032</td>\n",
       "      <td id=\"T_3a7e5_row0_col7\" class=\"data row0 col7\" >-0.005</td>\n",
       "    </tr>\n",
       "    <tr>\n",
       "      <th id=\"T_3a7e5_level0_row1\" class=\"row_heading level0 row1\" >DELTA_KMEANS</th>\n",
       "      <td id=\"T_3a7e5_row1_col0\" class=\"data row1 col0\" >0.134</td>\n",
       "      <td id=\"T_3a7e5_row1_col1\" class=\"data row1 col1\" >1.000</td>\n",
       "      <td id=\"T_3a7e5_row1_col2\" class=\"data row1 col2\" >-0.028</td>\n",
       "      <td id=\"T_3a7e5_row1_col3\" class=\"data row1 col3\" >-0.015</td>\n",
       "      <td id=\"T_3a7e5_row1_col4\" class=\"data row1 col4\" >-0.006</td>\n",
       "      <td id=\"T_3a7e5_row1_col5\" class=\"data row1 col5\" >-0.006</td>\n",
       "      <td id=\"T_3a7e5_row1_col6\" class=\"data row1 col6\" >0.009</td>\n",
       "      <td id=\"T_3a7e5_row1_col7\" class=\"data row1 col7\" >0.042</td>\n",
       "    </tr>\n",
       "    <tr>\n",
       "      <th id=\"T_3a7e5_level0_row2\" class=\"row_heading level0 row2\" >U_KMEANS</th>\n",
       "      <td id=\"T_3a7e5_row2_col0\" class=\"data row2 col0\" >-0.004</td>\n",
       "      <td id=\"T_3a7e5_row2_col1\" class=\"data row2 col1\" >-0.028</td>\n",
       "      <td id=\"T_3a7e5_row2_col2\" class=\"data row2 col2\" >1.000</td>\n",
       "      <td id=\"T_3a7e5_row2_col3\" class=\"data row2 col3\" >0.840</td>\n",
       "      <td id=\"T_3a7e5_row2_col4\" class=\"data row2 col4\" >0.716</td>\n",
       "      <td id=\"T_3a7e5_row2_col5\" class=\"data row2 col5\" >0.595</td>\n",
       "      <td id=\"T_3a7e5_row2_col6\" class=\"data row2 col6\" >0.498</td>\n",
       "      <td id=\"T_3a7e5_row2_col7\" class=\"data row2 col7\" >0.217</td>\n",
       "    </tr>\n",
       "    <tr>\n",
       "      <th id=\"T_3a7e5_level0_row3\" class=\"row_heading level0 row3\" >G_FREQ</th>\n",
       "      <td id=\"T_3a7e5_row3_col0\" class=\"data row3 col0\" >-0.024</td>\n",
       "      <td id=\"T_3a7e5_row3_col1\" class=\"data row3 col1\" >-0.015</td>\n",
       "      <td id=\"T_3a7e5_row3_col2\" class=\"data row3 col2\" >0.840</td>\n",
       "      <td id=\"T_3a7e5_row3_col3\" class=\"data row3 col3\" >1.000</td>\n",
       "      <td id=\"T_3a7e5_row3_col4\" class=\"data row3 col4\" >0.896</td>\n",
       "      <td id=\"T_3a7e5_row3_col5\" class=\"data row3 col5\" >0.787</td>\n",
       "      <td id=\"T_3a7e5_row3_col6\" class=\"data row3 col6\" >0.723</td>\n",
       "      <td id=\"T_3a7e5_row3_col7\" class=\"data row3 col7\" >0.401</td>\n",
       "    </tr>\n",
       "    <tr>\n",
       "      <th id=\"T_3a7e5_level0_row4\" class=\"row_heading level0 row4\" >R_WIDTH</th>\n",
       "      <td id=\"T_3a7e5_row4_col0\" class=\"data row4 col0\" >-0.030</td>\n",
       "      <td id=\"T_3a7e5_row4_col1\" class=\"data row4 col1\" >-0.006</td>\n",
       "      <td id=\"T_3a7e5_row4_col2\" class=\"data row4 col2\" >0.716</td>\n",
       "      <td id=\"T_3a7e5_row4_col3\" class=\"data row4 col3\" >0.896</td>\n",
       "      <td id=\"T_3a7e5_row4_col4\" class=\"data row4 col4\" >1.000</td>\n",
       "      <td id=\"T_3a7e5_row4_col5\" class=\"data row4 col5\" >0.917</td>\n",
       "      <td id=\"T_3a7e5_row4_col6\" class=\"data row4 col6\" >0.893</td>\n",
       "      <td id=\"T_3a7e5_row4_col7\" class=\"data row4 col7\" >0.528</td>\n",
       "    </tr>\n",
       "    <tr>\n",
       "      <th id=\"T_3a7e5_level0_row5\" class=\"row_heading level0 row5\" >I_WIDTH</th>\n",
       "      <td id=\"T_3a7e5_row5_col0\" class=\"data row5 col0\" >-0.029</td>\n",
       "      <td id=\"T_3a7e5_row5_col1\" class=\"data row5 col1\" >-0.006</td>\n",
       "      <td id=\"T_3a7e5_row5_col2\" class=\"data row5 col2\" >0.595</td>\n",
       "      <td id=\"T_3a7e5_row5_col3\" class=\"data row5 col3\" >0.787</td>\n",
       "      <td id=\"T_3a7e5_row5_col4\" class=\"data row5 col4\" >0.917</td>\n",
       "      <td id=\"T_3a7e5_row5_col5\" class=\"data row5 col5\" >1.000</td>\n",
       "      <td id=\"T_3a7e5_row5_col6\" class=\"data row5 col6\" >0.930</td>\n",
       "      <td id=\"T_3a7e5_row5_col7\" class=\"data row5 col7\" >0.560</td>\n",
       "    </tr>\n",
       "    <tr>\n",
       "      <th id=\"T_3a7e5_level0_row6\" class=\"row_heading level0 row6\" >Z_FREQ</th>\n",
       "      <td id=\"T_3a7e5_row6_col0\" class=\"data row6 col0\" >-0.032</td>\n",
       "      <td id=\"T_3a7e5_row6_col1\" class=\"data row6 col1\" >0.009</td>\n",
       "      <td id=\"T_3a7e5_row6_col2\" class=\"data row6 col2\" >0.498</td>\n",
       "      <td id=\"T_3a7e5_row6_col3\" class=\"data row6 col3\" >0.723</td>\n",
       "      <td id=\"T_3a7e5_row6_col4\" class=\"data row6 col4\" >0.893</td>\n",
       "      <td id=\"T_3a7e5_row6_col5\" class=\"data row6 col5\" >0.930</td>\n",
       "      <td id=\"T_3a7e5_row6_col6\" class=\"data row6 col6\" >1.000</td>\n",
       "      <td id=\"T_3a7e5_row6_col7\" class=\"data row6 col7\" >0.588</td>\n",
       "    </tr>\n",
       "    <tr>\n",
       "      <th id=\"T_3a7e5_level0_row7\" class=\"row_heading level0 row7\" >REDSHIFT_KMEANS</th>\n",
       "      <td id=\"T_3a7e5_row7_col0\" class=\"data row7 col0\" >-0.005</td>\n",
       "      <td id=\"T_3a7e5_row7_col1\" class=\"data row7 col1\" >0.042</td>\n",
       "      <td id=\"T_3a7e5_row7_col2\" class=\"data row7 col2\" >0.217</td>\n",
       "      <td id=\"T_3a7e5_row7_col3\" class=\"data row7 col3\" >0.401</td>\n",
       "      <td id=\"T_3a7e5_row7_col4\" class=\"data row7 col4\" >0.528</td>\n",
       "      <td id=\"T_3a7e5_row7_col5\" class=\"data row7 col5\" >0.560</td>\n",
       "      <td id=\"T_3a7e5_row7_col6\" class=\"data row7 col6\" >0.588</td>\n",
       "      <td id=\"T_3a7e5_row7_col7\" class=\"data row7 col7\" >1.000</td>\n",
       "    </tr>\n",
       "  </tbody>\n",
       "</table>\n"
      ],
      "text/plain": [
       "<pandas.io.formats.style.Styler at 0x187a38fc080>"
      ]
     },
     "execution_count": 154,
     "metadata": {},
     "output_type": "execute_result"
    }
   ],
   "source": [
    "best_df_corr_matrix = CorChange_best_df.corr()\n",
    "\n",
    "best_df_corr_matrix.style\\\n",
    "    .format(precision = 3)\\\n",
    "    .format_index(str.upper, axis = 0)\\\n",
    "    .format_index(str.upper, axis = 1)\\\n",
    "    .background_gradient(cmap='coolwarm')"
   ]
  },
  {
   "cell_type": "markdown",
   "id": "06604379",
   "metadata": {},
   "source": [
    "___\n",
    "___\n",
    "Alt. Test group 2 prep\n",
    "___\n",
    "___"
   ]
  },
  {
   "cell_type": "code",
   "execution_count": null,
   "id": "1714ce3a",
   "metadata": {},
   "outputs": [],
   "source": []
  },
  {
   "cell_type": "markdown",
   "id": "b6439c93",
   "metadata": {},
   "source": []
  }
 ],
 "metadata": {
  "kernelspec": {
   "display_name": "base",
   "language": "python",
   "name": "python3"
  },
  "language_info": {
   "codemirror_mode": {
    "name": "ipython",
    "version": 3
   },
   "file_extension": ".py",
   "mimetype": "text/x-python",
   "name": "python",
   "nbconvert_exporter": "python",
   "pygments_lexer": "ipython3",
   "version": "3.12.3"
  }
 },
 "nbformat": 4,
 "nbformat_minor": 5
}
