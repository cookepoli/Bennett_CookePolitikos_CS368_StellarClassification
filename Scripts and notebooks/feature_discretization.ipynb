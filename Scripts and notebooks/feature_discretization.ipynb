{
 "cells": [
  {
   "metadata": {},
   "cell_type": "markdown",
   "source": "This notebook will demonstrate the preprocessing step of converting an attribute with continuous data into a discrete attribute using a variety of binning methods (supervised and unsupervised).",
   "id": "3f9cdc1b7cded2d1"
  },
  {
   "metadata": {},
   "cell_type": "markdown",
   "source": "Import Dependencies",
   "id": "5f2099a42fb8c4a1"
  },
  {
   "cell_type": "code",
   "id": "initial_id",
   "metadata": {
    "collapsed": true,
    "ExecuteTime": {
     "end_time": "2025-04-10T16:08:05.973787Z",
     "start_time": "2025-04-10T16:08:04.049648Z"
    }
   },
   "source": [
    "from sklearn.preprocessing import KBinsDiscretizer\n",
    "import pandas as pd\n",
    "import numpy as np\n",
    "import matplotlib.pyplot as plt"
   ],
   "outputs": [],
   "execution_count": 1
  },
  {
   "metadata": {},
   "cell_type": "markdown",
   "source": "Retrieve Data",
   "id": "c71a7a56b5a9dada"
  },
  {
   "metadata": {
    "ExecuteTime": {
     "end_time": "2025-04-10T16:10:44.093256Z",
     "start_time": "2025-04-10T16:10:43.802711Z"
    }
   },
   "cell_type": "code",
   "source": [
    "df = pd.read_csv('preprocessed_data.csv')\n",
    "df = df.drop(columns=['class'])\n",
    "df.head()"
   ],
   "id": "3f71a3e590a21054",
   "outputs": [
    {
     "data": {
      "text/plain": [
       "   Unnamed: 0       alpha      delta         u         g         r         i  \\\n",
       "0           0  135.689107  32.494632  23.87882  22.27530  20.39501  19.16573   \n",
       "1           1  144.826101  31.274185  24.77759  22.83188  22.58444  21.16812   \n",
       "2           2  142.188790  35.582444  25.26307  22.66389  20.60976  19.34857   \n",
       "3           3  338.741038  -0.402828  22.13682  23.77656  21.61162  20.50454   \n",
       "4           4  345.282593  21.183866  19.43718  17.58028  16.49747  15.97711   \n",
       "\n",
       "          z  redshift  \n",
       "0  18.79371  0.634794  \n",
       "1  21.61427  0.779136  \n",
       "2  18.94827  0.644195  \n",
       "3  19.25010  0.932346  \n",
       "4  15.54461  0.116123  "
      ],
      "text/html": [
       "<div>\n",
       "<style scoped>\n",
       "    .dataframe tbody tr th:only-of-type {\n",
       "        vertical-align: middle;\n",
       "    }\n",
       "\n",
       "    .dataframe tbody tr th {\n",
       "        vertical-align: top;\n",
       "    }\n",
       "\n",
       "    .dataframe thead th {\n",
       "        text-align: right;\n",
       "    }\n",
       "</style>\n",
       "<table border=\"1\" class=\"dataframe\">\n",
       "  <thead>\n",
       "    <tr style=\"text-align: right;\">\n",
       "      <th></th>\n",
       "      <th>Unnamed: 0</th>\n",
       "      <th>alpha</th>\n",
       "      <th>delta</th>\n",
       "      <th>u</th>\n",
       "      <th>g</th>\n",
       "      <th>r</th>\n",
       "      <th>i</th>\n",
       "      <th>z</th>\n",
       "      <th>redshift</th>\n",
       "    </tr>\n",
       "  </thead>\n",
       "  <tbody>\n",
       "    <tr>\n",
       "      <th>0</th>\n",
       "      <td>0</td>\n",
       "      <td>135.689107</td>\n",
       "      <td>32.494632</td>\n",
       "      <td>23.87882</td>\n",
       "      <td>22.27530</td>\n",
       "      <td>20.39501</td>\n",
       "      <td>19.16573</td>\n",
       "      <td>18.79371</td>\n",
       "      <td>0.634794</td>\n",
       "    </tr>\n",
       "    <tr>\n",
       "      <th>1</th>\n",
       "      <td>1</td>\n",
       "      <td>144.826101</td>\n",
       "      <td>31.274185</td>\n",
       "      <td>24.77759</td>\n",
       "      <td>22.83188</td>\n",
       "      <td>22.58444</td>\n",
       "      <td>21.16812</td>\n",
       "      <td>21.61427</td>\n",
       "      <td>0.779136</td>\n",
       "    </tr>\n",
       "    <tr>\n",
       "      <th>2</th>\n",
       "      <td>2</td>\n",
       "      <td>142.188790</td>\n",
       "      <td>35.582444</td>\n",
       "      <td>25.26307</td>\n",
       "      <td>22.66389</td>\n",
       "      <td>20.60976</td>\n",
       "      <td>19.34857</td>\n",
       "      <td>18.94827</td>\n",
       "      <td>0.644195</td>\n",
       "    </tr>\n",
       "    <tr>\n",
       "      <th>3</th>\n",
       "      <td>3</td>\n",
       "      <td>338.741038</td>\n",
       "      <td>-0.402828</td>\n",
       "      <td>22.13682</td>\n",
       "      <td>23.77656</td>\n",
       "      <td>21.61162</td>\n",
       "      <td>20.50454</td>\n",
       "      <td>19.25010</td>\n",
       "      <td>0.932346</td>\n",
       "    </tr>\n",
       "    <tr>\n",
       "      <th>4</th>\n",
       "      <td>4</td>\n",
       "      <td>345.282593</td>\n",
       "      <td>21.183866</td>\n",
       "      <td>19.43718</td>\n",
       "      <td>17.58028</td>\n",
       "      <td>16.49747</td>\n",
       "      <td>15.97711</td>\n",
       "      <td>15.54461</td>\n",
       "      <td>0.116123</td>\n",
       "    </tr>\n",
       "  </tbody>\n",
       "</table>\n",
       "</div>"
      ]
     },
     "execution_count": 17,
     "metadata": {},
     "output_type": "execute_result"
    }
   ],
   "execution_count": 17
  },
  {
   "metadata": {
    "ExecuteTime": {
     "end_time": "2025-04-10T16:08:22.691421Z",
     "start_time": "2025-04-10T16:08:22.682657Z"
    }
   },
   "cell_type": "code",
   "source": "df.dtypes",
   "id": "1c69337c473eefa6",
   "outputs": [
    {
     "data": {
      "text/plain": [
       "obj_ID         float64\n",
       "alpha          float64\n",
       "delta          float64\n",
       "u              float64\n",
       "g              float64\n",
       "r              float64\n",
       "i              float64\n",
       "z              float64\n",
       "run_ID           int64\n",
       "rerun_ID         int64\n",
       "cam_col          int64\n",
       "field_ID         int64\n",
       "spec_obj_ID    float64\n",
       "class           object\n",
       "redshift       float64\n",
       "plate            int64\n",
       "MJD              int64\n",
       "fiber_ID         int64\n",
       "dtype: object"
      ]
     },
     "execution_count": 6,
     "metadata": {},
     "output_type": "execute_result"
    }
   ],
   "execution_count": 6
  },
  {
   "metadata": {},
   "cell_type": "markdown",
   "source": "Let's pick the attribute \"u\" to complete discretization on.",
   "id": "dbffff04a1d6aa76"
  },
  {
   "metadata": {
    "ExecuteTime": {
     "end_time": "2025-03-10T16:16:25.892338Z",
     "start_time": "2025-03-10T16:16:25.884933Z"
    }
   },
   "cell_type": "code",
   "source": [
    "u = pd.DataFrame(df.u)\n",
    "u.head()\n"
   ],
   "id": "f7ac1a7d280bd6d0",
   "outputs": [
    {
     "data": {
      "text/plain": [
       "          u\n",
       "0  23.87882\n",
       "1  24.77759\n",
       "2  25.26307\n",
       "3  22.13682\n",
       "4  19.43718"
      ],
      "text/html": [
       "<div>\n",
       "<style scoped>\n",
       "    .dataframe tbody tr th:only-of-type {\n",
       "        vertical-align: middle;\n",
       "    }\n",
       "\n",
       "    .dataframe tbody tr th {\n",
       "        vertical-align: top;\n",
       "    }\n",
       "\n",
       "    .dataframe thead th {\n",
       "        text-align: right;\n",
       "    }\n",
       "</style>\n",
       "<table border=\"1\" class=\"dataframe\">\n",
       "  <thead>\n",
       "    <tr style=\"text-align: right;\">\n",
       "      <th></th>\n",
       "      <th>u</th>\n",
       "    </tr>\n",
       "  </thead>\n",
       "  <tbody>\n",
       "    <tr>\n",
       "      <th>0</th>\n",
       "      <td>23.87882</td>\n",
       "    </tr>\n",
       "    <tr>\n",
       "      <th>1</th>\n",
       "      <td>24.77759</td>\n",
       "    </tr>\n",
       "    <tr>\n",
       "      <th>2</th>\n",
       "      <td>25.26307</td>\n",
       "    </tr>\n",
       "    <tr>\n",
       "      <th>3</th>\n",
       "      <td>22.13682</td>\n",
       "    </tr>\n",
       "    <tr>\n",
       "      <th>4</th>\n",
       "      <td>19.43718</td>\n",
       "    </tr>\n",
       "  </tbody>\n",
       "</table>\n",
       "</div>"
      ]
     },
     "execution_count": 95,
     "metadata": {},
     "output_type": "execute_result"
    }
   ],
   "execution_count": 95
  },
  {
   "metadata": {},
   "cell_type": "markdown",
   "source": "Let's check for outliers.",
   "id": "69ce1ec67eaee510"
  },
  {
   "metadata": {
    "ExecuteTime": {
     "end_time": "2025-03-10T16:16:26.002398Z",
     "start_time": "2025-03-10T16:16:25.991364Z"
    }
   },
   "cell_type": "code",
   "source": "print((u < 0).sum())",
   "id": "7a17e6969e6a2d51",
   "outputs": [
    {
     "name": "stdout",
     "output_type": "stream",
     "text": [
      "u    1\n",
      "dtype: int64\n"
     ]
    }
   ],
   "execution_count": 96
  },
  {
   "metadata": {},
   "cell_type": "markdown",
   "source": "There's an outlier we need to remove.",
   "id": "b02e713c83ecdec2"
  },
  {
   "metadata": {
    "ExecuteTime": {
     "end_time": "2025-03-10T16:16:26.212232Z",
     "start_time": "2025-03-10T16:16:26.195855Z"
    }
   },
   "cell_type": "code",
   "source": "u.nsmallest(1,'u')\n",
   "id": "d9916391e893cbb8",
   "outputs": [
    {
     "data": {
      "text/plain": [
       "            u\n",
       "79543 -9999.0"
      ],
      "text/html": [
       "<div>\n",
       "<style scoped>\n",
       "    .dataframe tbody tr th:only-of-type {\n",
       "        vertical-align: middle;\n",
       "    }\n",
       "\n",
       "    .dataframe tbody tr th {\n",
       "        vertical-align: top;\n",
       "    }\n",
       "\n",
       "    .dataframe thead th {\n",
       "        text-align: right;\n",
       "    }\n",
       "</style>\n",
       "<table border=\"1\" class=\"dataframe\">\n",
       "  <thead>\n",
       "    <tr style=\"text-align: right;\">\n",
       "      <th></th>\n",
       "      <th>u</th>\n",
       "    </tr>\n",
       "  </thead>\n",
       "  <tbody>\n",
       "    <tr>\n",
       "      <th>79543</th>\n",
       "      <td>-9999.0</td>\n",
       "    </tr>\n",
       "  </tbody>\n",
       "</table>\n",
       "</div>"
      ]
     },
     "execution_count": 97,
     "metadata": {},
     "output_type": "execute_result"
    }
   ],
   "execution_count": 97
  },
  {
   "metadata": {
    "ExecuteTime": {
     "end_time": "2025-03-10T16:16:26.363242Z",
     "start_time": "2025-03-10T16:16:26.355024Z"
    }
   },
   "cell_type": "code",
   "source": "u = u.drop(index=79543)",
   "id": "81b4b6a3d2ad4e7",
   "outputs": [],
   "execution_count": 98
  },
  {
   "metadata": {
    "ExecuteTime": {
     "end_time": "2025-03-10T16:16:26.435236Z",
     "start_time": "2025-03-10T16:16:26.423752Z"
    }
   },
   "cell_type": "code",
   "source": "u.nsmallest(1,'u')",
   "id": "1d4b6fab5602b9c4",
   "outputs": [
    {
     "data": {
      "text/plain": [
       "              u\n",
       "57763  10.99623"
      ],
      "text/html": [
       "<div>\n",
       "<style scoped>\n",
       "    .dataframe tbody tr th:only-of-type {\n",
       "        vertical-align: middle;\n",
       "    }\n",
       "\n",
       "    .dataframe tbody tr th {\n",
       "        vertical-align: top;\n",
       "    }\n",
       "\n",
       "    .dataframe thead th {\n",
       "        text-align: right;\n",
       "    }\n",
       "</style>\n",
       "<table border=\"1\" class=\"dataframe\">\n",
       "  <thead>\n",
       "    <tr style=\"text-align: right;\">\n",
       "      <th></th>\n",
       "      <th>u</th>\n",
       "    </tr>\n",
       "  </thead>\n",
       "  <tbody>\n",
       "    <tr>\n",
       "      <th>57763</th>\n",
       "      <td>10.99623</td>\n",
       "    </tr>\n",
       "  </tbody>\n",
       "</table>\n",
       "</div>"
      ]
     },
     "execution_count": 99,
     "metadata": {},
     "output_type": "execute_result"
    }
   ],
   "execution_count": 99
  },
  {
   "metadata": {},
   "cell_type": "markdown",
   "source": "Let's look at the data.",
   "id": "9de24e43c7335286"
  },
  {
   "metadata": {
    "ExecuteTime": {
     "end_time": "2025-03-10T16:16:26.629167Z",
     "start_time": "2025-03-10T16:16:26.549839Z"
    }
   },
   "cell_type": "code",
   "source": [
    "u.hist(bins = 20)\n",
    "plt.show()"
   ],
   "id": "77fda9892ca6d642",
   "outputs": [
    {
     "data": {
      "text/plain": [
       "<Figure size 640x480 with 1 Axes>"
      ],
      "image/png": "[encoded data removed]"
     },
     "metadata": {},
     "output_type": "display_data"
    }
   ],
   "execution_count": 100
  },
  {
   "metadata": {},
   "cell_type": "markdown",
   "source": "Let's now set up the discretizer so that it uses uniform discretization (bins of same width).",
   "id": "1ae176b4e98a1b7b"
  },
  {
   "metadata": {
    "ExecuteTime": {
     "end_time": "2025-03-10T16:16:26.762722Z",
     "start_time": "2025-03-10T16:16:26.748605Z"
    }
   },
   "cell_type": "code",
   "source": "dc = KBinsDiscretizer(n_bins=10, encode='ordinal', strategy='uniform');",
   "id": "3e017f6931e08c4c",
   "outputs": [],
   "execution_count": 101
  },
  {
   "metadata": {},
   "cell_type": "markdown",
   "source": "Now let's discretize u.",
   "id": "105629d7bb5885cb"
  },
  {
   "metadata": {
    "ExecuteTime": {
     "end_time": "2025-03-10T16:16:26.900096Z",
     "start_time": "2025-03-10T16:16:26.890605Z"
    }
   },
   "cell_type": "code",
   "source": [
    "dc.fit(u)\n",
    "Xu = dc.transform(u)\n",
    "print(Xu)"
   ],
   "id": "de766e81df12d317",
   "outputs": [
    {
     "name": "stdout",
     "output_type": "stream",
     "text": [
      "[[5.]\n",
      " [6.]\n",
      " [6.]\n",
      " ...\n",
      " [4.]\n",
      " [6.]\n",
      " [5.]]\n"
     ]
    }
   ],
   "execution_count": 102
  },
  {
   "metadata": {
    "ExecuteTime": {
     "end_time": "2025-03-10T16:16:27.016367Z",
     "start_time": "2025-03-10T16:16:26.940365Z"
    }
   },
   "cell_type": "code",
   "source": [
    "Xd = pd.DataFrame(Xu)\n",
    "Xd.hist(bins = 10)\n",
    "plt.show()"
   ],
   "id": "d83cf81e86e7d4d5",
   "outputs": [
    {
     "data": {
      "text/plain": [
       "<Figure size 640x480 with 1 Axes>"
      ],
      "image/png": "[encoded data removed]"
     },
     "metadata": {},
     "output_type": "display_data"
    }
   ],
   "execution_count": 103
  },
  {
   "metadata": {
    "ExecuteTime": {
     "end_time": "2025-03-10T16:16:27.034129Z",
     "start_time": "2025-03-10T16:16:27.029688Z"
    }
   },
   "cell_type": "code",
   "source": "print(dc.bin_edges_)",
   "id": "b7641c43417706b2",
   "outputs": [
    {
     "name": "stdout",
     "output_type": "stream",
     "text": [
      "[array([10.99623 , 13.174746, 15.353262, 17.531778, 19.710294, 21.88881 ,\n",
      "        24.067326, 26.245842, 28.424358, 30.602874, 32.78139 ])          ]\n"
     ]
    }
   ],
   "execution_count": 104
  },
  {
   "metadata": {},
   "cell_type": "markdown",
   "source": "Time to try with quantile binning. Each bin has the same number of values.",
   "id": "64f1b5835b6db4e4"
  },
  {
   "metadata": {
    "ExecuteTime": {
     "end_time": "2025-03-10T16:16:27.061654Z",
     "start_time": "2025-03-10T16:16:27.058134Z"
    }
   },
   "cell_type": "code",
   "source": "dc = KBinsDiscretizer(n_bins=10, encode='ordinal', strategy='quantile');",
   "id": "3dd3e6a3b111cb5c",
   "outputs": [],
   "execution_count": 105
  },
  {
   "metadata": {
    "ExecuteTime": {
     "end_time": "2025-03-10T16:16:27.126138Z",
     "start_time": "2025-03-10T16:16:27.114601Z"
    }
   },
   "cell_type": "code",
   "source": [
    "dc.fit(u)\n",
    "Xu = dc.transform(u)\n",
    "print(Xu)"
   ],
   "id": "f5db14c40b55153e",
   "outputs": [
    {
     "name": "stdout",
     "output_type": "stream",
     "text": [
      "[[7.]\n",
      " [8.]\n",
      " [9.]\n",
      " ...\n",
      " [3.]\n",
      " [9.]\n",
      " [5.]]\n"
     ]
    }
   ],
   "execution_count": 106
  },
  {
   "metadata": {
    "ExecuteTime": {
     "end_time": "2025-03-10T16:16:27.204370Z",
     "start_time": "2025-03-10T16:16:27.136986Z"
    }
   },
   "cell_type": "code",
   "source": [
    "Xd = pd.DataFrame(Xu)\n",
    "Xd.hist(bins=10)\n",
    "plt.show()"
   ],
   "id": "7fdbf23c29e3deca",
   "outputs": [
    {
     "data": {
      "text/plain": [
       "<Figure size 640x480 with 1 Axes>"
      ],
      "image/png": "[encoded data removed]"
     },
     "metadata": {},
     "output_type": "display_data"
    }
   ],
   "execution_count": 107
  },
  {
   "metadata": {
    "ExecuteTime": {
     "end_time": "2025-03-10T16:16:27.221048Z",
     "start_time": "2025-03-10T16:16:27.216451Z"
    }
   },
   "cell_type": "code",
   "source": "print(dc.bin_edges_)",
   "id": "38988e61ea372fb1",
   "outputs": [
    {
     "name": "stdout",
     "output_type": "stream",
     "text": [
      "[array([10.99623 , 19.117086, 19.961096, 20.74869 , 21.560702, 22.17914 ,\n",
      "        22.741844, 23.334264, 24.083748, 25.096442, 32.78139 ])          ]\n"
     ]
    }
   ],
   "execution_count": 108
  },
  {
   "metadata": {},
   "cell_type": "markdown",
   "source": "Finally, let's try kmeans.",
   "id": "294ea1f05d75c1df"
  },
  {
   "metadata": {
    "ExecuteTime": {
     "end_time": "2025-04-10T16:10:04.479769Z",
     "start_time": "2025-04-10T16:10:04.471014Z"
    }
   },
   "cell_type": "code",
   "source": "dc = KBinsDiscretizer(n_bins=10, encode='ordinal', strategy='kmeans');",
   "id": "8e300c068237fca8",
   "outputs": [],
   "execution_count": 13
  },
  {
   "metadata": {
    "ExecuteTime": {
     "end_time": "2025-04-10T16:11:19.563813Z",
     "start_time": "2025-04-10T16:11:19.438651Z"
    }
   },
   "cell_type": "code",
   "source": [
    "dc.fit(df)\n",
    "#Xu = dc.transform(u)\n",
    "#df = dc.transform(df)\n",
    "print(df)\n"
   ],
   "id": "504a12122ec50d1c",
   "outputs": [
    {
     "ename": "AttributeError",
     "evalue": "'numpy.ndarray' object has no attribute 'describe'",
     "output_type": "error",
     "traceback": [
      "\u001B[31m---------------------------------------------------------------------------\u001B[39m",
      "\u001B[31mAttributeError\u001B[39m                            Traceback (most recent call last)",
      "\u001B[36mCell\u001B[39m\u001B[36m \u001B[39m\u001B[32mIn[21]\u001B[39m\u001B[32m, line 4\u001B[39m\n\u001B[32m      1\u001B[39m dc.fit(df)\n\u001B[32m      2\u001B[39m \u001B[38;5;66;03m#Xu = dc.transform(u)\u001B[39;00m\n\u001B[32m      3\u001B[39m \u001B[38;5;66;03m#df = dc.transform(df)\u001B[39;00m\n\u001B[32m----> \u001B[39m\u001B[32m4\u001B[39m \u001B[38;5;28mprint\u001B[39m(\u001B[43mdf\u001B[49m\u001B[43m.\u001B[49m\u001B[43mdescribe\u001B[49m())\n",
      "\u001B[31mAttributeError\u001B[39m: 'numpy.ndarray' object has no attribute 'describe'"
     ]
    }
   ],
   "execution_count": 21
  },
  {
   "metadata": {
    "ExecuteTime": {
     "end_time": "2025-03-10T16:16:27.417723Z",
     "start_time": "2025-03-10T16:16:27.328561Z"
    }
   },
   "cell_type": "code",
   "source": [
    "Xd = pd.DataFrame(Xu)\n",
    "Xd.hist(bins=10)\n",
    "plt.show()"
   ],
   "id": "76a37963f8341bde",
   "outputs": [
    {
     "data": {
      "text/plain": [
       "<Figure size 640x480 with 1 Axes>"
      ],
      "image/png": "[encoded data removed]"
     },
     "metadata": {},
     "output_type": "display_data"
    }
   ],
   "execution_count": 111
  },
  {
   "metadata": {
    "ExecuteTime": {
     "end_time": "2025-03-10T16:16:27.444108Z",
     "start_time": "2025-03-10T16:16:27.439839Z"
    }
   },
   "cell_type": "code",
   "source": "print(dc.bin_edges_)",
   "id": "efe2a68089daa5f8",
   "outputs": [
    {
     "name": "stdout",
     "output_type": "stream",
     "text": [
      "[array([10.99623   , 17.86389903, 19.07091461, 20.04854328, 21.02701182,\n",
      "        21.97193536, 22.84799271, 23.75800982, 24.73827666, 25.79009659,\n",
      "        32.78139   ])                                                   ]\n"
     ]
    }
   ],
   "execution_count": 112
  }
 ],
 "metadata": {
  "kernelspec": {
   "display_name": "Python 3",
   "language": "python",
   "name": "python3"
  },
  "language_info": {
   "codemirror_mode": {
    "name": "ipython",
    "version": 2
   },
   "file_extension": ".py",
   "mimetype": "text/x-python",
   "name": "python",
   "nbconvert_exporter": "python",
   "pygments_lexer": "ipython2",
   "version": "2.7.6"
  }
 },
 "nbformat": 4,
 "nbformat_minor": 5
}
