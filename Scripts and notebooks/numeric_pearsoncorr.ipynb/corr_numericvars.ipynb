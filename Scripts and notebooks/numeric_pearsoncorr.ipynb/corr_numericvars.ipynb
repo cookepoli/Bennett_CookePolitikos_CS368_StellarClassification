{
 "cells": [
  {
   "cell_type": "markdown",
   "metadata": {},
   "source": [
    "### This notebook performs and analyses correlation analysis. It first generates a correlation matrix an then visualizes the matrix. This is a precursor to Principle Component Analysis for consideration of dimensional reduction in preprocessing.\n",
    "\n",
    "___"
   ]
  },
  {
   "cell_type": "markdown",
   "metadata": {},
   "source": [
    "### dependencies"
   ]
  },
  {
   "cell_type": "code",
   "execution_count": 14,
   "metadata": {},
   "outputs": [],
   "source": [
    "import pandas as pd\n",
    "import seaborn as sn\n",
    "import matplotlib.pyplot as plt\n",
    "import os"
   ]
  },
  {
   "cell_type": "code",
   "execution_count": 48,
   "metadata": {},
   "outputs": [
    {
     "name": "stdout",
     "output_type": "stream",
     "text": [
      "C:\\Users\\entro\\Desktop\\Spring25_Semester\\DataMining\\SemesterProject\\Bennett_CookePolitikos_CS368_StellarClassification\\Scripts and notebooks\n"
     ]
    }
   ],
   "source": [
    "# makes relative paths work situationally ) I like access to the whole class at one time)\n",
    "os.chdir('C:/Users/entro/Desktop/Spring25_Semester/DataMining/SemesterProject/Bennett_CookePolitikos_CS368_StellarClassification/Scripts and notebooks') \n",
    "\n",
    "print(os.getcwd())\n"
   ]
  },
  {
   "cell_type": "code",
   "execution_count": 76,
   "metadata": {},
   "outputs": [
    {
     "data": {
      "application/vnd.microsoft.datawrangler.viewer.v0+json": {
       "columns": [
        {
         "name": "index",
         "rawType": "int64",
         "type": "integer"
        },
        {
         "name": "obj_ID",
         "rawType": "float64",
         "type": "float"
        },
        {
         "name": "alpha",
         "rawType": "float64",
         "type": "float"
        },
        {
         "name": "delta",
         "rawType": "float64",
         "type": "float"
        },
        {
         "name": "u",
         "rawType": "float64",
         "type": "float"
        },
        {
         "name": "g",
         "rawType": "float64",
         "type": "float"
        },
        {
         "name": "r",
         "rawType": "float64",
         "type": "float"
        },
        {
         "name": "i",
         "rawType": "float64",
         "type": "float"
        },
        {
         "name": "z",
         "rawType": "float64",
         "type": "float"
        },
        {
         "name": "run_ID",
         "rawType": "int64",
         "type": "integer"
        },
        {
         "name": "rerun_ID",
         "rawType": "int64",
         "type": "integer"
        },
        {
         "name": "cam_col",
         "rawType": "int64",
         "type": "integer"
        },
        {
         "name": "field_ID",
         "rawType": "int64",
         "type": "integer"
        },
        {
         "name": "spec_obj_ID",
         "rawType": "float64",
         "type": "float"
        },
        {
         "name": "class",
         "rawType": "object",
         "type": "string"
        },
        {
         "name": "redshift",
         "rawType": "float64",
         "type": "float"
        },
        {
         "name": "plate",
         "rawType": "int64",
         "type": "integer"
        },
        {
         "name": "MJD",
         "rawType": "int64",
         "type": "integer"
        },
        {
         "name": "fiber_ID",
         "rawType": "int64",
         "type": "integer"
        }
       ],
       "conversionMethod": "pd.DataFrame",
       "ref": "212b70bf-5597-4622-9aae-35a193b5d3db",
       "rows": [
        [
         "0",
         "1.2376609613277432e+18",
         "135.6891066036",
         "32.4946318397087",
         "23.87882",
         "22.2753",
         "20.39501",
         "19.16573",
         "18.79371",
         "3606",
         "301",
         "2",
         "79",
         "6.543777369295182e+18",
         "GALAXY",
         "0.6347936",
         "5812",
         "56354",
         "171"
        ],
        [
         "1",
         "1.237664879951151e+18",
         "144.826100550256",
         "31.2741848944939",
         "24.77759",
         "22.83188",
         "22.58444",
         "21.16812",
         "21.61427",
         "4518",
         "301",
         "5",
         "119",
         "1.1760142036707334e+19",
         "GALAXY",
         "0.779136",
         "10445",
         "58158",
         "427"
        ],
        [
         "2",
         "1.2376609613304302e+18",
         "142.188789562506",
         "35.5824441819976",
         "25.26307",
         "22.66389",
         "20.60976",
         "19.34857",
         "18.94827",
         "3606",
         "301",
         "2",
         "120",
         "5.152200256025549e+18",
         "GALAXY",
         "0.6441945",
         "4576",
         "55592",
         "299"
        ],
        [
         "3",
         "1.237663478724298e+18",
         "338.741037753146",
         "-0.402827574587482",
         "22.13682",
         "23.77656",
         "21.61162",
         "20.50454",
         "19.2501",
         "4192",
         "301",
         "3",
         "214",
         "1.030107141295442e+19",
         "GALAXY",
         "0.9323456",
         "9149",
         "58039",
         "775"
        ],
        [
         "4",
         "1.237680272041378e+18",
         "345.282593210935",
         "21.1838656010284",
         "19.43718",
         "17.58028",
         "16.49747",
         "15.97711",
         "15.54461",
         "8102",
         "301",
         "3",
         "137",
         "6.891864880783317e+18",
         "GALAXY",
         "0.1161227",
         "6121",
         "56187",
         "842"
        ]
       ],
       "shape": {
        "columns": 18,
        "rows": 5
       }
      },
      "text/html": [
       "<div>\n",
       "<style scoped>\n",
       "    .dataframe tbody tr th:only-of-type {\n",
       "        vertical-align: middle;\n",
       "    }\n",
       "\n",
       "    .dataframe tbody tr th {\n",
       "        vertical-align: top;\n",
       "    }\n",
       "\n",
       "    .dataframe thead th {\n",
       "        text-align: right;\n",
       "    }\n",
       "</style>\n",
       "<table border=\"1\" class=\"dataframe\">\n",
       "  <thead>\n",
       "    <tr style=\"text-align: right;\">\n",
       "      <th></th>\n",
       "      <th>obj_ID</th>\n",
       "      <th>alpha</th>\n",
       "      <th>delta</th>\n",
       "      <th>u</th>\n",
       "      <th>g</th>\n",
       "      <th>r</th>\n",
       "      <th>i</th>\n",
       "      <th>z</th>\n",
       "      <th>run_ID</th>\n",
       "      <th>rerun_ID</th>\n",
       "      <th>cam_col</th>\n",
       "      <th>field_ID</th>\n",
       "      <th>spec_obj_ID</th>\n",
       "      <th>class</th>\n",
       "      <th>redshift</th>\n",
       "      <th>plate</th>\n",
       "      <th>MJD</th>\n",
       "      <th>fiber_ID</th>\n",
       "    </tr>\n",
       "  </thead>\n",
       "  <tbody>\n",
       "    <tr>\n",
       "      <th>0</th>\n",
       "      <td>1.237661e+18</td>\n",
       "      <td>135.689107</td>\n",
       "      <td>32.494632</td>\n",
       "      <td>23.87882</td>\n",
       "      <td>22.27530</td>\n",
       "      <td>20.39501</td>\n",
       "      <td>19.16573</td>\n",
       "      <td>18.79371</td>\n",
       "      <td>3606</td>\n",
       "      <td>301</td>\n",
       "      <td>2</td>\n",
       "      <td>79</td>\n",
       "      <td>6.543777e+18</td>\n",
       "      <td>GALAXY</td>\n",
       "      <td>0.634794</td>\n",
       "      <td>5812</td>\n",
       "      <td>56354</td>\n",
       "      <td>171</td>\n",
       "    </tr>\n",
       "    <tr>\n",
       "      <th>1</th>\n",
       "      <td>1.237665e+18</td>\n",
       "      <td>144.826101</td>\n",
       "      <td>31.274185</td>\n",
       "      <td>24.77759</td>\n",
       "      <td>22.83188</td>\n",
       "      <td>22.58444</td>\n",
       "      <td>21.16812</td>\n",
       "      <td>21.61427</td>\n",
       "      <td>4518</td>\n",
       "      <td>301</td>\n",
       "      <td>5</td>\n",
       "      <td>119</td>\n",
       "      <td>1.176014e+19</td>\n",
       "      <td>GALAXY</td>\n",
       "      <td>0.779136</td>\n",
       "      <td>10445</td>\n",
       "      <td>58158</td>\n",
       "      <td>427</td>\n",
       "    </tr>\n",
       "    <tr>\n",
       "      <th>2</th>\n",
       "      <td>1.237661e+18</td>\n",
       "      <td>142.188790</td>\n",
       "      <td>35.582444</td>\n",
       "      <td>25.26307</td>\n",
       "      <td>22.66389</td>\n",
       "      <td>20.60976</td>\n",
       "      <td>19.34857</td>\n",
       "      <td>18.94827</td>\n",
       "      <td>3606</td>\n",
       "      <td>301</td>\n",
       "      <td>2</td>\n",
       "      <td>120</td>\n",
       "      <td>5.152200e+18</td>\n",
       "      <td>GALAXY</td>\n",
       "      <td>0.644195</td>\n",
       "      <td>4576</td>\n",
       "      <td>55592</td>\n",
       "      <td>299</td>\n",
       "    </tr>\n",
       "    <tr>\n",
       "      <th>3</th>\n",
       "      <td>1.237663e+18</td>\n",
       "      <td>338.741038</td>\n",
       "      <td>-0.402828</td>\n",
       "      <td>22.13682</td>\n",
       "      <td>23.77656</td>\n",
       "      <td>21.61162</td>\n",
       "      <td>20.50454</td>\n",
       "      <td>19.25010</td>\n",
       "      <td>4192</td>\n",
       "      <td>301</td>\n",
       "      <td>3</td>\n",
       "      <td>214</td>\n",
       "      <td>1.030107e+19</td>\n",
       "      <td>GALAXY</td>\n",
       "      <td>0.932346</td>\n",
       "      <td>9149</td>\n",
       "      <td>58039</td>\n",
       "      <td>775</td>\n",
       "    </tr>\n",
       "    <tr>\n",
       "      <th>4</th>\n",
       "      <td>1.237680e+18</td>\n",
       "      <td>345.282593</td>\n",
       "      <td>21.183866</td>\n",
       "      <td>19.43718</td>\n",
       "      <td>17.58028</td>\n",
       "      <td>16.49747</td>\n",
       "      <td>15.97711</td>\n",
       "      <td>15.54461</td>\n",
       "      <td>8102</td>\n",
       "      <td>301</td>\n",
       "      <td>3</td>\n",
       "      <td>137</td>\n",
       "      <td>6.891865e+18</td>\n",
       "      <td>GALAXY</td>\n",
       "      <td>0.116123</td>\n",
       "      <td>6121</td>\n",
       "      <td>56187</td>\n",
       "      <td>842</td>\n",
       "    </tr>\n",
       "  </tbody>\n",
       "</table>\n",
       "</div>"
      ],
      "text/plain": [
       "         obj_ID       alpha      delta         u         g         r  \\\n",
       "0  1.237661e+18  135.689107  32.494632  23.87882  22.27530  20.39501   \n",
       "1  1.237665e+18  144.826101  31.274185  24.77759  22.83188  22.58444   \n",
       "2  1.237661e+18  142.188790  35.582444  25.26307  22.66389  20.60976   \n",
       "3  1.237663e+18  338.741038  -0.402828  22.13682  23.77656  21.61162   \n",
       "4  1.237680e+18  345.282593  21.183866  19.43718  17.58028  16.49747   \n",
       "\n",
       "          i         z  run_ID  rerun_ID  cam_col  field_ID   spec_obj_ID  \\\n",
       "0  19.16573  18.79371    3606       301        2        79  6.543777e+18   \n",
       "1  21.16812  21.61427    4518       301        5       119  1.176014e+19   \n",
       "2  19.34857  18.94827    3606       301        2       120  5.152200e+18   \n",
       "3  20.50454  19.25010    4192       301        3       214  1.030107e+19   \n",
       "4  15.97711  15.54461    8102       301        3       137  6.891865e+18   \n",
       "\n",
       "    class  redshift  plate    MJD  fiber_ID  \n",
       "0  GALAXY  0.634794   5812  56354       171  \n",
       "1  GALAXY  0.779136  10445  58158       427  \n",
       "2  GALAXY  0.644195   4576  55592       299  \n",
       "3  GALAXY  0.932346   9149  58039       775  \n",
       "4  GALAXY  0.116123   6121  56187       842  "
      ]
     },
     "execution_count": 76,
     "metadata": {},
     "output_type": "execute_result"
    }
   ],
   "source": [
    "df = pd.read_csv('../Dataset/star_classification.csv')\n",
    "df.head()"
   ]
  },
  {
   "cell_type": "code",
   "execution_count": 24,
   "metadata": {},
   "outputs": [
    {
     "data": {
      "text/plain": [
       "obj_ID         float64\n",
       "alpha          float64\n",
       "delta          float64\n",
       "u              float64\n",
       "g              float64\n",
       "r              float64\n",
       "i              float64\n",
       "z              float64\n",
       "run_ID           int64\n",
       "rerun_ID         int64\n",
       "cam_col          int64\n",
       "field_ID         int64\n",
       "spec_obj_ID    float64\n",
       "class           object\n",
       "redshift       float64\n",
       "plate            int64\n",
       "MJD              int64\n",
       "fiber_ID         int64\n",
       "dtype: object"
      ]
     },
     "execution_count": 24,
     "metadata": {},
     "output_type": "execute_result"
    }
   ],
   "source": [
    "df.dtypes"
   ]
  },
  {
   "cell_type": "markdown",
   "metadata": {},
   "source": [
    "I would like to be sure that none of the IDs are nonarbitrary (such as representing a position) but for the time being this removes all IDs. It makes sense that some of these IDs are huge numbers, just a tendency of mine."
   ]
  },
  {
   "cell_type": "code",
   "execution_count": null,
   "metadata": {},
   "outputs": [
    {
     "name": "stdout",
     "output_type": "stream",
     "text": [
      "Numeric variables: Index(['obj_ID', 'alpha', 'delta', 'u', 'g', 'r', 'i', 'z', 'spec_obj_ID',\n",
      "       'redshift'],\n",
      "      dtype='object') \n",
      "\n",
      "\n",
      "         obj_ID       alpha      delta         u         g         r  \\\n",
      "0  1.237661e+18  135.689107  32.494632  23.87882  22.27530  20.39501   \n",
      "1  1.237665e+18  144.826101  31.274185  24.77759  22.83188  22.58444   \n",
      "2  1.237661e+18  142.188790  35.582444  25.26307  22.66389  20.60976   \n",
      "3  1.237663e+18  338.741038  -0.402828  22.13682  23.77656  21.61162   \n",
      "4  1.237680e+18  345.282593  21.183866  19.43718  17.58028  16.49747   \n",
      "\n",
      "          i         z   spec_obj_ID  redshift  \n",
      "0  19.16573  18.79371  6.543777e+18  0.634794  \n",
      "1  21.16812  21.61427  1.176014e+19  0.779136  \n",
      "2  19.34857  18.94827  5.152200e+18  0.644195  \n",
      "3  20.50454  19.25010  1.030107e+19  0.932346  \n",
      "4  15.97711  15.54461  6.891865e+18  0.116123  \n",
      "\n",
      "\n",
      "\n"
     ]
    },
    {
     "name": "stderr",
     "output_type": "stream",
     "text": [
      "C:\\Users\\entro\\AppData\\Local\\Temp\\ipykernel_16808\\1746605293.py:12: SettingWithCopyWarning: \n",
      "A value is trying to be set on a copy of a slice from a DataFrame\n",
      "\n",
      "See the caveats in the documentation: https://pandas.pydata.org/pandas-docs/stable/user_guide/indexing.html#returning-a-view-versus-a-copy\n",
      "  numvar_df.drop(list(numvar_df.filter(regex = 'ID')), axis = 1, inplace = True)\n"
     ]
    },
    {
     "data": {
      "application/vnd.microsoft.datawrangler.viewer.v0+json": {
       "columns": [
        {
         "name": "index",
         "rawType": "int64",
         "type": "integer"
        },
        {
         "name": "alpha",
         "rawType": "float64",
         "type": "float"
        },
        {
         "name": "delta",
         "rawType": "float64",
         "type": "float"
        },
        {
         "name": "u",
         "rawType": "float64",
         "type": "float"
        },
        {
         "name": "g",
         "rawType": "float64",
         "type": "float"
        },
        {
         "name": "r",
         "rawType": "float64",
         "type": "float"
        },
        {
         "name": "i",
         "rawType": "float64",
         "type": "float"
        },
        {
         "name": "z",
         "rawType": "float64",
         "type": "float"
        },
        {
         "name": "redshift",
         "rawType": "float64",
         "type": "float"
        }
       ],
       "conversionMethod": "pd.DataFrame",
       "ref": "85581118-ed58-47cc-8b5c-28c95425b4d0",
       "rows": [
        [
         "0",
         "135.6891066036",
         "32.4946318397087",
         "23.87882",
         "22.2753",
         "20.39501",
         "19.16573",
         "18.79371",
         "0.6347936"
        ],
        [
         "1",
         "144.826100550256",
         "31.2741848944939",
         "24.77759",
         "22.83188",
         "22.58444",
         "21.16812",
         "21.61427",
         "0.779136"
        ],
        [
         "2",
         "142.188789562506",
         "35.5824441819976",
         "25.26307",
         "22.66389",
         "20.60976",
         "19.34857",
         "18.94827",
         "0.6441945"
        ],
        [
         "3",
         "338.741037753146",
         "-0.402827574587482",
         "22.13682",
         "23.77656",
         "21.61162",
         "20.50454",
         "19.2501",
         "0.9323456"
        ],
        [
         "4",
         "345.282593210935",
         "21.1838656010284",
         "19.43718",
         "17.58028",
         "16.49747",
         "15.97711",
         "15.54461",
         "0.1161227"
        ]
       ],
       "shape": {
        "columns": 8,
        "rows": 5
       }
      },
      "text/html": [
       "<div>\n",
       "<style scoped>\n",
       "    .dataframe tbody tr th:only-of-type {\n",
       "        vertical-align: middle;\n",
       "    }\n",
       "\n",
       "    .dataframe tbody tr th {\n",
       "        vertical-align: top;\n",
       "    }\n",
       "\n",
       "    .dataframe thead th {\n",
       "        text-align: right;\n",
       "    }\n",
       "</style>\n",
       "<table border=\"1\" class=\"dataframe\">\n",
       "  <thead>\n",
       "    <tr style=\"text-align: right;\">\n",
       "      <th></th>\n",
       "      <th>alpha</th>\n",
       "      <th>delta</th>\n",
       "      <th>u</th>\n",
       "      <th>g</th>\n",
       "      <th>r</th>\n",
       "      <th>i</th>\n",
       "      <th>z</th>\n",
       "      <th>redshift</th>\n",
       "    </tr>\n",
       "  </thead>\n",
       "  <tbody>\n",
       "    <tr>\n",
       "      <th>0</th>\n",
       "      <td>135.689107</td>\n",
       "      <td>32.494632</td>\n",
       "      <td>23.87882</td>\n",
       "      <td>22.27530</td>\n",
       "      <td>20.39501</td>\n",
       "      <td>19.16573</td>\n",
       "      <td>18.79371</td>\n",
       "      <td>0.634794</td>\n",
       "    </tr>\n",
       "    <tr>\n",
       "      <th>1</th>\n",
       "      <td>144.826101</td>\n",
       "      <td>31.274185</td>\n",
       "      <td>24.77759</td>\n",
       "      <td>22.83188</td>\n",
       "      <td>22.58444</td>\n",
       "      <td>21.16812</td>\n",
       "      <td>21.61427</td>\n",
       "      <td>0.779136</td>\n",
       "    </tr>\n",
       "    <tr>\n",
       "      <th>2</th>\n",
       "      <td>142.188790</td>\n",
       "      <td>35.582444</td>\n",
       "      <td>25.26307</td>\n",
       "      <td>22.66389</td>\n",
       "      <td>20.60976</td>\n",
       "      <td>19.34857</td>\n",
       "      <td>18.94827</td>\n",
       "      <td>0.644195</td>\n",
       "    </tr>\n",
       "    <tr>\n",
       "      <th>3</th>\n",
       "      <td>338.741038</td>\n",
       "      <td>-0.402828</td>\n",
       "      <td>22.13682</td>\n",
       "      <td>23.77656</td>\n",
       "      <td>21.61162</td>\n",
       "      <td>20.50454</td>\n",
       "      <td>19.25010</td>\n",
       "      <td>0.932346</td>\n",
       "    </tr>\n",
       "    <tr>\n",
       "      <th>4</th>\n",
       "      <td>345.282593</td>\n",
       "      <td>21.183866</td>\n",
       "      <td>19.43718</td>\n",
       "      <td>17.58028</td>\n",
       "      <td>16.49747</td>\n",
       "      <td>15.97711</td>\n",
       "      <td>15.54461</td>\n",
       "      <td>0.116123</td>\n",
       "    </tr>\n",
       "  </tbody>\n",
       "</table>\n",
       "</div>"
      ],
      "text/plain": [
       "        alpha      delta         u         g         r         i         z  \\\n",
       "0  135.689107  32.494632  23.87882  22.27530  20.39501  19.16573  18.79371   \n",
       "1  144.826101  31.274185  24.77759  22.83188  22.58444  21.16812  21.61427   \n",
       "2  142.188790  35.582444  25.26307  22.66389  20.60976  19.34857  18.94827   \n",
       "3  338.741038  -0.402828  22.13682  23.77656  21.61162  20.50454  19.25010   \n",
       "4  345.282593  21.183866  19.43718  17.58028  16.49747  15.97711  15.54461   \n",
       "\n",
       "   redshift  \n",
       "0  0.634794  \n",
       "1  0.779136  \n",
       "2  0.644195  \n",
       "3  0.932346  \n",
       "4  0.116123  "
      ]
     },
     "execution_count": 35,
     "metadata": {},
     "output_type": "execute_result"
    }
   ],
   "source": [
    "# creates list of attributes with float64 data types/ ints are indexes\n",
    "num_cols = df.columns[df.dtypes == \"float64\"]\n",
    "print(f\"Numeric variables: {num_cols} \\n\\n\")\n",
    "\n",
    "# creates pandas data frame that subsets imported df to include only floating point values\n",
    "numvar_df = df[num_cols]\n",
    "print(numvar_df.head())\n",
    "\n",
    "# removes any additional columns containing ID values\n",
    "# \"inplace\" param indicates that it executes the change to the df that it is called on\n",
    "    # as opposed to returning a df that can be saved to a new variable\n",
    "numvar_df.drop(list(numvar_df.filter(regex = 'ID')), axis = 1, inplace = True)\n",
    "\n",
    "print(\"\\n\\n\")\n",
    "numvar_df.head()"
   ]
  },
  {
   "cell_type": "markdown",
   "metadata": {},
   "source": [
    "Creates a correlation matrix on the numeric data"
   ]
  },
  {
   "cell_type": "code",
   "execution_count": null,
   "metadata": {},
   "outputs": [
    {
     "data": {
      "text/html": [
       "<style type=\"text/css\">\n",
       "#T_84788_row0_col0, #T_84788_row1_col1, #T_84788_row2_col2, #T_84788_row2_col3, #T_84788_row2_col6, #T_84788_row3_col2, #T_84788_row3_col3, #T_84788_row3_col6, #T_84788_row4_col4, #T_84788_row5_col5, #T_84788_row6_col2, #T_84788_row6_col3, #T_84788_row6_col6, #T_84788_row7_col7 {\n",
       "  background-color: #b40426;\n",
       "  color: #f1f1f1;\n",
       "}\n",
       "#T_84788_row0_col1 {\n",
       "  background-color: #688aef;\n",
       "  color: #f1f1f1;\n",
       "}\n",
       "#T_84788_row0_col2, #T_84788_row0_col3, #T_84788_row0_col4, #T_84788_row0_col5, #T_84788_row0_col6, #T_84788_row0_col7, #T_84788_row1_col2, #T_84788_row4_col0, #T_84788_row4_col1, #T_84788_row5_col0, #T_84788_row5_col1 {\n",
       "  background-color: #3b4cc0;\n",
       "  color: #f1f1f1;\n",
       "}\n",
       "#T_84788_row1_col0 {\n",
       "  background-color: #6c8ff1;\n",
       "  color: #f1f1f1;\n",
       "}\n",
       "#T_84788_row1_col3, #T_84788_row1_col6 {\n",
       "  background-color: #3c4ec2;\n",
       "  color: #f1f1f1;\n",
       "}\n",
       "#T_84788_row1_col4, #T_84788_row2_col7 {\n",
       "  background-color: #3e51c5;\n",
       "  color: #f1f1f1;\n",
       "}\n",
       "#T_84788_row1_col5, #T_84788_row7_col2 {\n",
       "  background-color: #3f53c6;\n",
       "  color: #f1f1f1;\n",
       "}\n",
       "#T_84788_row1_col7, #T_84788_row6_col7 {\n",
       "  background-color: #4358cb;\n",
       "  color: #f1f1f1;\n",
       "}\n",
       "#T_84788_row2_col0, #T_84788_row3_col0, #T_84788_row3_col7, #T_84788_row6_col0 {\n",
       "  background-color: #4055c8;\n",
       "  color: #f1f1f1;\n",
       "}\n",
       "#T_84788_row2_col1, #T_84788_row3_col1, #T_84788_row6_col1 {\n",
       "  background-color: #3d50c3;\n",
       "  color: #f1f1f1;\n",
       "}\n",
       "#T_84788_row2_col4, #T_84788_row3_col5, #T_84788_row6_col5 {\n",
       "  background-color: #516ddb;\n",
       "  color: #f1f1f1;\n",
       "}\n",
       "#T_84788_row2_col5 {\n",
       "  background-color: #4f69d9;\n",
       "  color: #f1f1f1;\n",
       "}\n",
       "#T_84788_row3_col4 {\n",
       "  background-color: #5470de;\n",
       "  color: #f1f1f1;\n",
       "}\n",
       "#T_84788_row4_col2, #T_84788_row4_col6, #T_84788_row5_col3 {\n",
       "  background-color: #4b64d5;\n",
       "  color: #f1f1f1;\n",
       "}\n",
       "#T_84788_row4_col3 {\n",
       "  background-color: #4e68d8;\n",
       "  color: #f1f1f1;\n",
       "}\n",
       "#T_84788_row4_col5, #T_84788_row5_col4 {\n",
       "  background-color: #c12b30;\n",
       "  color: #f1f1f1;\n",
       "}\n",
       "#T_84788_row4_col7 {\n",
       "  background-color: #cad8ef;\n",
       "  color: #000000;\n",
       "}\n",
       "#T_84788_row5_col2 {\n",
       "  background-color: #4961d2;\n",
       "  color: #f1f1f1;\n",
       "}\n",
       "#T_84788_row5_col6 {\n",
       "  background-color: #4c66d6;\n",
       "  color: #f1f1f1;\n",
       "}\n",
       "#T_84788_row5_col7 {\n",
       "  background-color: #dadce0;\n",
       "  color: #000000;\n",
       "}\n",
       "#T_84788_row6_col4 {\n",
       "  background-color: #506bda;\n",
       "  color: #f1f1f1;\n",
       "}\n",
       "#T_84788_row7_col0, #T_84788_row7_col3 {\n",
       "  background-color: #4257c9;\n",
       "  color: #f1f1f1;\n",
       "}\n",
       "#T_84788_row7_col1 {\n",
       "  background-color: #455cce;\n",
       "  color: #f1f1f1;\n",
       "}\n",
       "#T_84788_row7_col4 {\n",
       "  background-color: #cedaeb;\n",
       "  color: #000000;\n",
       "}\n",
       "#T_84788_row7_col5 {\n",
       "  background-color: #dedcdb;\n",
       "  color: #000000;\n",
       "}\n",
       "#T_84788_row7_col6 {\n",
       "  background-color: #445acc;\n",
       "  color: #f1f1f1;\n",
       "}\n",
       "</style>\n",
       "<table id=\"T_84788\">\n",
       "  <thead>\n",
       "    <tr>\n",
       "      <th class=\"blank level0\" >&nbsp;</th>\n",
       "      <th id=\"T_84788_level0_col0\" class=\"col_heading level0 col0\" >ALPHA</th>\n",
       "      <th id=\"T_84788_level0_col1\" class=\"col_heading level0 col1\" >DELTA</th>\n",
       "      <th id=\"T_84788_level0_col2\" class=\"col_heading level0 col2\" >U</th>\n",
       "      <th id=\"T_84788_level0_col3\" class=\"col_heading level0 col3\" >G</th>\n",
       "      <th id=\"T_84788_level0_col4\" class=\"col_heading level0 col4\" >R</th>\n",
       "      <th id=\"T_84788_level0_col5\" class=\"col_heading level0 col5\" >I</th>\n",
       "      <th id=\"T_84788_level0_col6\" class=\"col_heading level0 col6\" >Z</th>\n",
       "      <th id=\"T_84788_level0_col7\" class=\"col_heading level0 col7\" >REDSHIFT</th>\n",
       "    </tr>\n",
       "  </thead>\n",
       "  <tbody>\n",
       "    <tr>\n",
       "      <th id=\"T_84788_level0_row0\" class=\"row_heading level0 row0\" >ALPHA</th>\n",
       "      <td id=\"T_84788_row0_col0\" class=\"data row0 col0\" >1.000</td>\n",
       "      <td id=\"T_84788_row0_col1\" class=\"data row0 col1\" >0.139</td>\n",
       "      <td id=\"T_84788_row0_col2\" class=\"data row0 col2\" >-0.002</td>\n",
       "      <td id=\"T_84788_row0_col3\" class=\"data row0 col3\" >-0.002</td>\n",
       "      <td id=\"T_84788_row0_col4\" class=\"data row0 col4\" >-0.022</td>\n",
       "      <td id=\"T_84788_row0_col5\" class=\"data row0 col5\" >-0.024</td>\n",
       "      <td id=\"T_84788_row0_col6\" class=\"data row0 col6\" >-0.003</td>\n",
       "      <td id=\"T_84788_row0_col7\" class=\"data row0 col7\" >0.002</td>\n",
       "    </tr>\n",
       "    <tr>\n",
       "      <th id=\"T_84788_level0_row1\" class=\"row_heading level0 row1\" >DELTA</th>\n",
       "      <td id=\"T_84788_row1_col0\" class=\"data row1 col0\" >0.139</td>\n",
       "      <td id=\"T_84788_row1_col1\" class=\"data row1 col1\" >1.000</td>\n",
       "      <td id=\"T_84788_row1_col2\" class=\"data row1 col2\" >0.002</td>\n",
       "      <td id=\"T_84788_row1_col3\" class=\"data row1 col3\" >0.004</td>\n",
       "      <td id=\"T_84788_row1_col4\" class=\"data row1 col4\" >-0.007</td>\n",
       "      <td id=\"T_84788_row1_col5\" class=\"data row1 col5\" >-0.004</td>\n",
       "      <td id=\"T_84788_row1_col6\" class=\"data row1 col6\" >0.004</td>\n",
       "      <td id=\"T_84788_row1_col7\" class=\"data row1 col7\" >0.032</td>\n",
       "    </tr>\n",
       "    <tr>\n",
       "      <th id=\"T_84788_level0_row2\" class=\"row_heading level0 row2\" >U</th>\n",
       "      <td id=\"T_84788_row2_col0\" class=\"data row2 col0\" >-0.002</td>\n",
       "      <td id=\"T_84788_row2_col1\" class=\"data row2 col1\" >0.002</td>\n",
       "      <td id=\"T_84788_row2_col2\" class=\"data row2 col2\" >1.000</td>\n",
       "      <td id=\"T_84788_row2_col3\" class=\"data row2 col3\" >0.999</td>\n",
       "      <td id=\"T_84788_row2_col4\" class=\"data row2 col4\" >0.054</td>\n",
       "      <td id=\"T_84788_row2_col5\" class=\"data row2 col5\" >0.046</td>\n",
       "      <td id=\"T_84788_row2_col6\" class=\"data row2 col6\" >0.998</td>\n",
       "      <td id=\"T_84788_row2_col7\" class=\"data row2 col7\" >0.014</td>\n",
       "    </tr>\n",
       "    <tr>\n",
       "      <th id=\"T_84788_level0_row3\" class=\"row_heading level0 row3\" >G</th>\n",
       "      <td id=\"T_84788_row3_col0\" class=\"data row3 col0\" >-0.002</td>\n",
       "      <td id=\"T_84788_row3_col1\" class=\"data row3 col1\" >0.004</td>\n",
       "      <td id=\"T_84788_row3_col2\" class=\"data row3 col2\" >0.999</td>\n",
       "      <td id=\"T_84788_row3_col3\" class=\"data row3 col3\" >1.000</td>\n",
       "      <td id=\"T_84788_row3_col4\" class=\"data row3 col4\" >0.062</td>\n",
       "      <td id=\"T_84788_row3_col5\" class=\"data row3 col5\" >0.056</td>\n",
       "      <td id=\"T_84788_row3_col6\" class=\"data row3 col6\" >0.999</td>\n",
       "      <td id=\"T_84788_row3_col7\" class=\"data row3 col7\" >0.023</td>\n",
       "    </tr>\n",
       "    <tr>\n",
       "      <th id=\"T_84788_level0_row4\" class=\"row_heading level0 row4\" >R</th>\n",
       "      <td id=\"T_84788_row4_col0\" class=\"data row4 col0\" >-0.022</td>\n",
       "      <td id=\"T_84788_row4_col1\" class=\"data row4 col1\" >-0.007</td>\n",
       "      <td id=\"T_84788_row4_col2\" class=\"data row4 col2\" >0.054</td>\n",
       "      <td id=\"T_84788_row4_col3\" class=\"data row4 col3\" >0.062</td>\n",
       "      <td id=\"T_84788_row4_col4\" class=\"data row4 col4\" >1.000</td>\n",
       "      <td id=\"T_84788_row4_col5\" class=\"data row4 col5\" >0.963</td>\n",
       "      <td id=\"T_84788_row4_col6\" class=\"data row4 col6\" >0.054</td>\n",
       "      <td id=\"T_84788_row4_col7\" class=\"data row4 col7\" >0.433</td>\n",
       "    </tr>\n",
       "    <tr>\n",
       "      <th id=\"T_84788_level0_row5\" class=\"row_heading level0 row5\" >I</th>\n",
       "      <td id=\"T_84788_row5_col0\" class=\"data row5 col0\" >-0.024</td>\n",
       "      <td id=\"T_84788_row5_col1\" class=\"data row5 col1\" >-0.004</td>\n",
       "      <td id=\"T_84788_row5_col2\" class=\"data row5 col2\" >0.046</td>\n",
       "      <td id=\"T_84788_row5_col3\" class=\"data row5 col3\" >0.056</td>\n",
       "      <td id=\"T_84788_row5_col4\" class=\"data row5 col4\" >0.963</td>\n",
       "      <td id=\"T_84788_row5_col5\" class=\"data row5 col5\" >1.000</td>\n",
       "      <td id=\"T_84788_row5_col6\" class=\"data row5 col6\" >0.056</td>\n",
       "      <td id=\"T_84788_row5_col7\" class=\"data row5 col7\" >0.492</td>\n",
       "    </tr>\n",
       "    <tr>\n",
       "      <th id=\"T_84788_level0_row6\" class=\"row_heading level0 row6\" >Z</th>\n",
       "      <td id=\"T_84788_row6_col0\" class=\"data row6 col0\" >-0.003</td>\n",
       "      <td id=\"T_84788_row6_col1\" class=\"data row6 col1\" >0.004</td>\n",
       "      <td id=\"T_84788_row6_col2\" class=\"data row6 col2\" >0.998</td>\n",
       "      <td id=\"T_84788_row6_col3\" class=\"data row6 col3\" >0.999</td>\n",
       "      <td id=\"T_84788_row6_col4\" class=\"data row6 col4\" >0.054</td>\n",
       "      <td id=\"T_84788_row6_col5\" class=\"data row6 col5\" >0.056</td>\n",
       "      <td id=\"T_84788_row6_col6\" class=\"data row6 col6\" >1.000</td>\n",
       "      <td id=\"T_84788_row6_col7\" class=\"data row6 col7\" >0.030</td>\n",
       "    </tr>\n",
       "    <tr>\n",
       "      <th id=\"T_84788_level0_row7\" class=\"row_heading level0 row7\" >REDSHIFT</th>\n",
       "      <td id=\"T_84788_row7_col0\" class=\"data row7 col0\" >0.002</td>\n",
       "      <td id=\"T_84788_row7_col1\" class=\"data row7 col1\" >0.032</td>\n",
       "      <td id=\"T_84788_row7_col2\" class=\"data row7 col2\" >0.014</td>\n",
       "      <td id=\"T_84788_row7_col3\" class=\"data row7 col3\" >0.023</td>\n",
       "      <td id=\"T_84788_row7_col4\" class=\"data row7 col4\" >0.433</td>\n",
       "      <td id=\"T_84788_row7_col5\" class=\"data row7 col5\" >0.492</td>\n",
       "      <td id=\"T_84788_row7_col6\" class=\"data row7 col6\" >0.030</td>\n",
       "      <td id=\"T_84788_row7_col7\" class=\"data row7 col7\" >1.000</td>\n",
       "    </tr>\n",
       "  </tbody>\n",
       "</table>\n"
      ],
      "text/plain": [
       "<pandas.io.formats.style.Styler at 0x2371f32aae0>"
      ]
     },
     "execution_count": 42,
     "metadata": {},
     "output_type": "execute_result"
    }
   ],
   "source": [
    "corr_matrix = numvar_df.corr()\n",
    "\n",
    "corr_matrix.style\\\n",
    "    .format(precision = 3)\\\n",
    "    .format_index(str.upper, axis = 0)\\\n",
    "    .format_index(str.upper, axis = 1)\\\n",
    "    .background_gradient(cmap='coolwarm')\n",
    "\n",
    "\n"
   ]
  },
  {
   "cell_type": "markdown",
   "metadata": {},
   "source": [
    "other than a screen shot I haven't figured out how to export the above heatmap"
   ]
  },
  {
   "cell_type": "code",
   "execution_count": null,
   "metadata": {},
   "outputs": [
    {
     "data": {
      "image/png": "[encoded data removed]",
      "text/plain": [
       "<Figure size 640x480 with 2 Axes>"
      ]
     },
     "metadata": {},
     "output_type": "display_data"
    },
    {
     "data": {
      "text/plain": [
       "<Figure size 640x480 with 0 Axes>"
      ]
     },
     "metadata": {},
     "output_type": "display_data"
    }
   ],
   "source": [
    "sn.heatmap(corr_matrix, annot=True, cmap='coolwarm', linewidths=0.5)\n",
    "plt.title('Correlation Matrix')\n",
    "plt.show()\n",
    "\n",
    "# saves visual to IMGs folder and returns to current directory\n",
    "current = os.getcwd()\n",
    "os.chdir('C:/Users/entro/Desktop/Spring25_Semester/DataMining/SemesterProject/Bennett_CookePolitikos_CS368_StellarClassification/IMGs/Tables')        \n",
    "plt.savefig(\"correlation.svg\", format=\"svg\")\n",
    "os.chdir(current)"
   ]
  },
  {
   "cell_type": "markdown",
   "metadata": {},
   "source": [
    "<font style: color = \"red\">\n",
    "The above looks like ass.\n",
    "\n",
    "Needs:\n",
    "* consistent sigfigs\n",
    "* better label orientation (rotate)\n",
    "* better labels for single letters (for communication purposes)\n",
    "\n",
    "</font>"
   ]
  },
  {
   "cell_type": "markdown",
   "metadata": {},
   "source": [
    "#### Analysis:\n",
    "* low correlation allows for much of the data to effectively inform on the model which is great\n",
    "* high correlation:\n",
    "    * u and g\n",
    "    * i and r\n",
    "    * z and both u & g (because they are highly correlated with each other, makes sense that if z is strongly correlated with one it must be with the other)"
   ]
  },
  {
   "cell_type": "code",
   "execution_count": 56,
   "metadata": {},
   "outputs": [
    {
     "data": {
      "image/png": "[encoded data removed]",
      "text/plain": [
       "<Figure size 640x480 with 1 Axes>"
      ]
     },
     "metadata": {},
     "output_type": "display_data"
    }
   ],
   "source": [
    "x = numvar_df['z']\n",
    "y = numvar_df['u']\n",
    "z = numvar_df['g']\n",
    "plt.scatter(x = x, y = y, c = z)\n",
    "plt.show()"
   ]
  },
  {
   "cell_type": "markdown",
   "metadata": {},
   "source": [
    "Above scatter plot is meant to show how the distributions of g and u vary respective to z but it looks like there is some outliers that are extending the range of the data which is confirmed in the boxplot below."
   ]
  },
  {
   "cell_type": "code",
   "execution_count": null,
   "metadata": {},
   "outputs": [
    {
     "name": "stderr",
     "output_type": "stream",
     "text": [
      "C:\\Users\\entro\\AppData\\Local\\Temp\\ipykernel_16808\\2871417091.py:1: MatplotlibDeprecationWarning: The 'labels' parameter of boxplot() has been renamed 'tick_labels' since Matplotlib 3.9; support for the old name will be dropped in 3.11.\n",
      "  plt.boxplot([numvar_df['z'], numvar_df['u'], numvar_df['g']], labels= ['z','u','g'])\n"
     ]
    },
    {
     "data": {
      "image/png": "[encoded data removed]",
      "text/plain": [
       "<Figure size 640x480 with 1 Axes>"
      ]
     },
     "metadata": {},
     "output_type": "display_data"
    }
   ],
   "source": [
    "plt.boxplot([numvar_df['z'], numvar_df['u'], numvar_df['g']], labels= ['z','u','g'])\n",
    "plt.show()\n",
    "\n"
   ]
  },
  {
   "cell_type": "markdown",
   "metadata": {},
   "source": [
    "The box plot below removes all values below zero (the outlier seems to be a single object with a nonsensical value for z,u,and g though they could be different objects in theory)"
   ]
  },
  {
   "cell_type": "code",
   "execution_count": 68,
   "metadata": {},
   "outputs": [
    {
     "data": {
      "application/vnd.microsoft.datawrangler.viewer.v0+json": {
       "columns": [
        {
         "name": "index",
         "rawType": "int64",
         "type": "integer"
        },
        {
         "name": "alpha",
         "rawType": "float64",
         "type": "float"
        },
        {
         "name": "delta",
         "rawType": "float64",
         "type": "float"
        },
        {
         "name": "u",
         "rawType": "float64",
         "type": "float"
        },
        {
         "name": "g",
         "rawType": "float64",
         "type": "float"
        },
        {
         "name": "r",
         "rawType": "float64",
         "type": "float"
        },
        {
         "name": "i",
         "rawType": "float64",
         "type": "float"
        },
        {
         "name": "z",
         "rawType": "float64",
         "type": "float"
        },
        {
         "name": "redshift",
         "rawType": "float64",
         "type": "float"
        }
       ],
       "conversionMethod": "pd.DataFrame",
       "ref": "aad8fdc0-f849-4b4d-96ba-b193fbbe5bfc",
       "rows": [
        [
         "0",
         "135.6891066036",
         "32.4946318397087",
         "23.87882",
         "22.2753",
         "20.39501",
         "19.16573",
         "18.79371",
         "0.6347936"
        ],
        [
         "1",
         "144.826100550256",
         "31.2741848944939",
         "24.77759",
         "22.83188",
         "22.58444",
         "21.16812",
         "21.61427",
         "0.779136"
        ],
        [
         "2",
         "142.188789562506",
         "35.5824441819976",
         "25.26307",
         "22.66389",
         "20.60976",
         "19.34857",
         "18.94827",
         "0.6441945"
        ],
        [
         "3",
         "338.741037753146",
         "-0.402827574587482",
         "22.13682",
         "23.77656",
         "21.61162",
         "20.50454",
         "19.2501",
         "0.9323456"
        ],
        [
         "4",
         "345.282593210935",
         "21.1838656010284",
         "19.43718",
         "17.58028",
         "16.49747",
         "15.97711",
         "15.54461",
         "0.1161227"
        ],
        [
         "5",
         "340.995120509191",
         "20.5894762801019",
         "23.48827",
         "23.33776",
         "21.32195",
         "20.25615",
         "19.54544",
         "1.424659"
        ],
        [
         "6",
         "23.2349264301638",
         "11.4181876197835",
         "21.46973",
         "21.17624",
         "20.92829",
         "20.60826",
         "20.42573",
         "0.5864546"
        ],
        [
         "7",
         "5.43317603738404",
         "12.0651859913473",
         "22.24979",
         "22.02172",
         "20.34126",
         "19.48794",
         "18.84999",
         "0.477009"
        ],
        [
         "8",
         "200.290475389797",
         "47.199402322911",
         "24.40286",
         "22.35669",
         "20.61032",
         "19.4649",
         "18.95852",
         "0.660012"
        ],
        [
         "9",
         "39.1496905996484",
         "28.1028416109607",
         "21.74669",
         "20.03493",
         "19.17553",
         "18.81823",
         "18.65422",
         "-7.895373e-06"
        ],
        [
         "10",
         "328.092076173419",
         "18.2203104791579",
         "25.77163",
         "22.52042",
         "20.63884",
         "19.78071",
         "19.05765",
         "0.4595958"
        ],
        [
         "11",
         "243.986637469699",
         "25.7382804319961",
         "23.76761",
         "23.79969",
         "20.98318",
         "19.80745",
         "19.45579",
         "0.5914091"
        ],
        [
         "12",
         "345.801874402853",
         "32.6728678500872",
         "23.17274",
         "20.14496",
         "19.41948",
         "19.22034",
         "18.89359",
         "7.182029e-05"
        ],
        [
         "13",
         "331.502029984917",
         "10.0358020468494",
         "20.8294",
         "18.75091",
         "17.51118",
         "17.01631",
         "16.62772",
         "0.1521936"
        ],
        [
         "14",
         "344.984770271278",
         "-0.352615781151814",
         "23.20911",
         "22.79291",
         "22.08589",
         "21.86282",
         "21.8512",
         "0.8181597"
        ],
        [
         "15",
         "244.824523050208",
         "25.1545639915034",
         "24.8868",
         "22.13311",
         "20.44728",
         "19.49171",
         "18.9747",
         "0.4849288"
        ],
        [
         "16",
         "353.201522444633",
         "3.08079593630972",
         "24.5489",
         "21.44267",
         "20.95315",
         "20.7936",
         "20.48442",
         "-0.000428576"
        ],
        [
         "17",
         "1.494388639357",
         "3.29174632998873",
         "20.38562",
         "20.40514",
         "20.29996",
         "20.05918",
         "19.89044",
         "2.031528"
        ],
        [
         "18",
         "14.3831352206597",
         "3.21432619593864",
         "21.82154",
         "20.5573",
         "19.94918",
         "19.76057",
         "19.55514",
         "-0.0004402762"
        ],
        [
         "19",
         "167.131668785257",
         "67.3399356293198",
         "20.48292",
         "18.67807",
         "17.6168",
         "17.11936",
         "16.73351",
         "0.1115879"
        ],
        [
         "20",
         "171.975424574048",
         "67.747450140585",
         "22.13367",
         "20.84772",
         "18.96537",
         "18.31696",
         "17.98124",
         "0.3747563"
        ],
        [
         "21",
         "144.785292662052",
         "46.8264956757313",
         "24.54793",
         "22.33601",
         "20.92259",
         "19.87177",
         "19.16934",
         "-0.0001203588"
        ],
        [
         "22",
         "145.273037350992",
         "46.9601338072329",
         "25.44243",
         "20.77028",
         "19.6617",
         "19.08481",
         "18.83176",
         "0.6623096"
        ],
        [
         "23",
         "145.883005500431",
         "47.300483575273",
         "21.73992",
         "21.53095",
         "21.26763",
         "21.36257",
         "21.15861",
         "2.07568"
        ],
        [
         "24",
         "241.426267237893",
         "27.2246949401119",
         "18.88323",
         "17.54229",
         "17.01789",
         "16.75376",
         "16.72259",
         "0.03208113"
        ],
        [
         "25",
         "132.922468009168",
         "4.52186469749673",
         "21.2611",
         "20.50495",
         "18.36379",
         "23.17828",
         "17.96264",
         "0.2509563"
        ],
        [
         "26",
         "143.288017625325",
         "5.55205221134132",
         "25.98497",
         "21.31456",
         "19.61107",
         "18.83178",
         "18.27728",
         "0.4612782"
        ],
        [
         "27",
         "140.600038144857",
         "5.26575770443853",
         "25.46577",
         "22.4065",
         "21.43408",
         "20.26256",
         "19.98775",
         "0.6110625"
        ],
        [
         "28",
         "333.311510605612",
         "-0.376122967149355",
         "20.53324",
         "18.84066",
         "18.05369",
         "17.60397",
         "17.2903",
         "0.09108476"
        ],
        [
         "29",
         "337.093435465929",
         "-0.311773269814488",
         "20.15491",
         "18.37295",
         "17.31276",
         "16.82294",
         "16.44342",
         "0.1482283"
        ],
        [
         "30",
         "252.75854857538",
         "19.4935268704245",
         "24.36048",
         "20.3777",
         "18.53392",
         "17.84004",
         "17.44505",
         "0.3846326"
        ],
        [
         "31",
         "240.213908860967",
         "27.9642908504061",
         "23.08039",
         "22.02426",
         "20.80525",
         "19.90149",
         "19.37544",
         "0.546072"
        ],
        [
         "32",
         "255.574893510297",
         "45.4787029190988",
         "23.73066",
         "22.82349",
         "21.32414",
         "19.81448",
         "19.28439",
         "0.7491816"
        ],
        [
         "33",
         "20.0525557261385",
         "11.4978807678312",
         "21.89214",
         "21.35124",
         "21.18755",
         "20.843",
         "20.7658",
         "1.528308"
        ],
        [
         "34",
         "144.721737004651",
         "5.84684728531905",
         "22.88916",
         "21.63309",
         "20.06106",
         "19.13263",
         "18.9481",
         "0.5091722"
        ],
        [
         "35",
         "44.9233602672725",
         "3.17554875120939",
         "23.8628",
         "22.7784",
         "20.98458",
         "19.70143",
         "19.24533",
         "0.5981273"
        ],
        [
         "36",
         "136.263071151474",
         "3.94400308209486",
         "24.06677",
         "23.00891",
         "21.0967",
         "20.12869",
         "19.68312",
         "0.5215806"
        ],
        [
         "37",
         "140.512982663685",
         "45.4036126655435",
         "20.71552",
         "18.85877",
         "17.72017",
         "17.24668",
         "16.87722",
         "0.1769632"
        ],
        [
         "38",
         "136.418378205442",
         "36.1526785230781",
         "20.66654",
         "22.21825",
         "24.8026",
         "21.43702",
         "22.82647",
         "0.0003084856"
        ],
        [
         "39",
         "121.610009731402",
         "41.9287206884987",
         "22.42006",
         "21.26692",
         "19.40369",
         "18.74999",
         "18.26678",
         "0.349364"
        ],
        [
         "40",
         "181.645330520821",
         "42.2739952211876",
         "21.20149",
         "19.77107",
         "19.27176",
         "19.04226",
         "18.9441",
         "4.827565e-05"
        ],
        [
         "41",
         "146.925784211642",
         "14.8800374884817",
         "25.52618",
         "22.45513",
         "21.82048",
         "20.83807",
         "20.28395",
         "0.8072085"
        ],
        [
         "42",
         "179.698615035168",
         "33.6731976195615",
         "23.27982",
         "20.35433",
         "18.79782",
         "18.13757",
         "17.74069",
         "0.2701222"
        ],
        [
         "43",
         "332.087156120468",
         "17.4159202476795",
         "27.0971",
         "22.56329",
         "20.61106",
         "19.698",
         "19.07937",
         "0.5719764"
        ],
        [
         "44",
         "188.068001246379",
         "7.56120147588139",
         "22.26849",
         "21.88272",
         "19.86473",
         "18.81373",
         "18.06582",
         "0.5932347"
        ],
        [
         "45",
         "344.769888418609",
         "26.928548636923",
         "22.33744",
         "20.02736",
         "19.2826",
         "19.04074",
         "18.90521",
         "-9.960094e-05"
        ],
        [
         "46",
         "40.7957426727124",
         "3.56436811387184",
         "22.79262",
         "22.29579",
         "22.23841",
         "21.55672",
         "21.01273",
         "1.065883"
        ],
        [
         "47",
         "228.447728334265",
         "12.745031931428",
         "22.36261",
         "21.7106",
         "21.5963",
         "21.60179",
         "21.12727",
         "2.689002"
        ],
        [
         "48",
         "345.221147036846",
         "2.59346175430761",
         "21.90143",
         "21.79169",
         "21.44344",
         "21.25545",
         "21.07686",
         "1.289637"
        ],
        [
         "49",
         "129.628095454774",
         "29.0590565517086",
         "24.91692",
         "21.27143",
         "19.59078",
         "18.90489",
         "18.49419",
         "0.3208058"
        ]
       ],
       "shape": {
        "columns": 8,
        "rows": 99999
       }
      },
      "text/html": [
       "<div>\n",
       "<style scoped>\n",
       "    .dataframe tbody tr th:only-of-type {\n",
       "        vertical-align: middle;\n",
       "    }\n",
       "\n",
       "    .dataframe tbody tr th {\n",
       "        vertical-align: top;\n",
       "    }\n",
       "\n",
       "    .dataframe thead th {\n",
       "        text-align: right;\n",
       "    }\n",
       "</style>\n",
       "<table border=\"1\" class=\"dataframe\">\n",
       "  <thead>\n",
       "    <tr style=\"text-align: right;\">\n",
       "      <th></th>\n",
       "      <th>alpha</th>\n",
       "      <th>delta</th>\n",
       "      <th>u</th>\n",
       "      <th>g</th>\n",
       "      <th>r</th>\n",
       "      <th>i</th>\n",
       "      <th>z</th>\n",
       "      <th>redshift</th>\n",
       "    </tr>\n",
       "  </thead>\n",
       "  <tbody>\n",
       "    <tr>\n",
       "      <th>0</th>\n",
       "      <td>135.689107</td>\n",
       "      <td>32.494632</td>\n",
       "      <td>23.87882</td>\n",
       "      <td>22.27530</td>\n",
       "      <td>20.39501</td>\n",
       "      <td>19.16573</td>\n",
       "      <td>18.79371</td>\n",
       "      <td>0.634794</td>\n",
       "    </tr>\n",
       "    <tr>\n",
       "      <th>1</th>\n",
       "      <td>144.826101</td>\n",
       "      <td>31.274185</td>\n",
       "      <td>24.77759</td>\n",
       "      <td>22.83188</td>\n",
       "      <td>22.58444</td>\n",
       "      <td>21.16812</td>\n",
       "      <td>21.61427</td>\n",
       "      <td>0.779136</td>\n",
       "    </tr>\n",
       "    <tr>\n",
       "      <th>2</th>\n",
       "      <td>142.188790</td>\n",
       "      <td>35.582444</td>\n",
       "      <td>25.26307</td>\n",
       "      <td>22.66389</td>\n",
       "      <td>20.60976</td>\n",
       "      <td>19.34857</td>\n",
       "      <td>18.94827</td>\n",
       "      <td>0.644195</td>\n",
       "    </tr>\n",
       "    <tr>\n",
       "      <th>3</th>\n",
       "      <td>338.741038</td>\n",
       "      <td>-0.402828</td>\n",
       "      <td>22.13682</td>\n",
       "      <td>23.77656</td>\n",
       "      <td>21.61162</td>\n",
       "      <td>20.50454</td>\n",
       "      <td>19.25010</td>\n",
       "      <td>0.932346</td>\n",
       "    </tr>\n",
       "    <tr>\n",
       "      <th>4</th>\n",
       "      <td>345.282593</td>\n",
       "      <td>21.183866</td>\n",
       "      <td>19.43718</td>\n",
       "      <td>17.58028</td>\n",
       "      <td>16.49747</td>\n",
       "      <td>15.97711</td>\n",
       "      <td>15.54461</td>\n",
       "      <td>0.116123</td>\n",
       "    </tr>\n",
       "    <tr>\n",
       "      <th>...</th>\n",
       "      <td>...</td>\n",
       "      <td>...</td>\n",
       "      <td>...</td>\n",
       "      <td>...</td>\n",
       "      <td>...</td>\n",
       "      <td>...</td>\n",
       "      <td>...</td>\n",
       "      <td>...</td>\n",
       "    </tr>\n",
       "    <tr>\n",
       "      <th>99995</th>\n",
       "      <td>39.620709</td>\n",
       "      <td>-2.594074</td>\n",
       "      <td>22.16759</td>\n",
       "      <td>22.97586</td>\n",
       "      <td>21.90404</td>\n",
       "      <td>21.30548</td>\n",
       "      <td>20.73569</td>\n",
       "      <td>0.000000</td>\n",
       "    </tr>\n",
       "    <tr>\n",
       "      <th>99996</th>\n",
       "      <td>29.493819</td>\n",
       "      <td>19.798874</td>\n",
       "      <td>22.69118</td>\n",
       "      <td>22.38628</td>\n",
       "      <td>20.45003</td>\n",
       "      <td>19.75759</td>\n",
       "      <td>19.41526</td>\n",
       "      <td>0.404895</td>\n",
       "    </tr>\n",
       "    <tr>\n",
       "      <th>99997</th>\n",
       "      <td>224.587407</td>\n",
       "      <td>15.700707</td>\n",
       "      <td>21.16916</td>\n",
       "      <td>19.26997</td>\n",
       "      <td>18.20428</td>\n",
       "      <td>17.69034</td>\n",
       "      <td>17.35221</td>\n",
       "      <td>0.143366</td>\n",
       "    </tr>\n",
       "    <tr>\n",
       "      <th>99998</th>\n",
       "      <td>212.268621</td>\n",
       "      <td>46.660365</td>\n",
       "      <td>25.35039</td>\n",
       "      <td>21.63757</td>\n",
       "      <td>19.91386</td>\n",
       "      <td>19.07254</td>\n",
       "      <td>18.62482</td>\n",
       "      <td>0.455040</td>\n",
       "    </tr>\n",
       "    <tr>\n",
       "      <th>99999</th>\n",
       "      <td>196.896053</td>\n",
       "      <td>49.464643</td>\n",
       "      <td>22.62171</td>\n",
       "      <td>21.79745</td>\n",
       "      <td>20.60115</td>\n",
       "      <td>20.00959</td>\n",
       "      <td>19.28075</td>\n",
       "      <td>0.542944</td>\n",
       "    </tr>\n",
       "  </tbody>\n",
       "</table>\n",
       "<p>99999 rows × 8 columns</p>\n",
       "</div>"
      ],
      "text/plain": [
       "            alpha      delta         u         g         r         i  \\\n",
       "0      135.689107  32.494632  23.87882  22.27530  20.39501  19.16573   \n",
       "1      144.826101  31.274185  24.77759  22.83188  22.58444  21.16812   \n",
       "2      142.188790  35.582444  25.26307  22.66389  20.60976  19.34857   \n",
       "3      338.741038  -0.402828  22.13682  23.77656  21.61162  20.50454   \n",
       "4      345.282593  21.183866  19.43718  17.58028  16.49747  15.97711   \n",
       "...           ...        ...       ...       ...       ...       ...   \n",
       "99995   39.620709  -2.594074  22.16759  22.97586  21.90404  21.30548   \n",
       "99996   29.493819  19.798874  22.69118  22.38628  20.45003  19.75759   \n",
       "99997  224.587407  15.700707  21.16916  19.26997  18.20428  17.69034   \n",
       "99998  212.268621  46.660365  25.35039  21.63757  19.91386  19.07254   \n",
       "99999  196.896053  49.464643  22.62171  21.79745  20.60115  20.00959   \n",
       "\n",
       "              z  redshift  \n",
       "0      18.79371  0.634794  \n",
       "1      21.61427  0.779136  \n",
       "2      18.94827  0.644195  \n",
       "3      19.25010  0.932346  \n",
       "4      15.54461  0.116123  \n",
       "...         ...       ...  \n",
       "99995  20.73569  0.000000  \n",
       "99996  19.41526  0.404895  \n",
       "99997  17.35221  0.143366  \n",
       "99998  18.62482  0.455040  \n",
       "99999  19.28075  0.542944  \n",
       "\n",
       "[99999 rows x 8 columns]"
      ]
     },
     "execution_count": 68,
     "metadata": {},
     "output_type": "execute_result"
    }
   ],
   "source": [
    "numvar_df[numvar_df['z']>= 0]"
   ]
  },
  {
   "cell_type": "code",
   "execution_count": 70,
   "metadata": {},
   "outputs": [
    {
     "name": "stderr",
     "output_type": "stream",
     "text": [
      "C:\\Users\\entro\\AppData\\Local\\Temp\\ipykernel_16808\\3115795730.py:1: MatplotlibDeprecationWarning: The 'labels' parameter of boxplot() has been renamed 'tick_labels' since Matplotlib 3.9; support for the old name will be dropped in 3.11.\n",
      "  plt.boxplot([numvar_df['z'][numvar_df['z']>= 0], numvar_df['u'][numvar_df['u']>= 0], numvar_df['g'][numvar_df['g']>= 0]], labels= ['z','u','g'])\n"
     ]
    },
    {
     "data": {
      "image/png": "[encoded data removed]",
      "text/plain": [
       "<Figure size 640x480 with 1 Axes>"
      ]
     },
     "metadata": {},
     "output_type": "display_data"
    }
   ],
   "source": [
    "plt.boxplot([numvar_df['z'][numvar_df['z']>= 0], numvar_df['u'][numvar_df['u']>= 0], numvar_df['g'][numvar_df['g']>= 0]], labels= ['z','u','g'])\n",
    "plt.show()\n"
   ]
  },
  {
   "cell_type": "markdown",
   "metadata": {},
   "source": [
    "The above correction shows distributions within the same range of values. This means that with the nonsensical value removed, the distributions should not need to be normalized to visualize effectively (though normalization might be valuable in a larger context). The plot below is the same scatter plot with the nonsense value removed."
   ]
  },
  {
   "cell_type": "code",
   "execution_count": 74,
   "metadata": {},
   "outputs": [
    {
     "data": {
      "image/png": "[encoded data removed]",
      "text/plain": [
       "<Figure size 640x480 with 1 Axes>"
      ]
     },
     "metadata": {},
     "output_type": "display_data"
    },
    {
     "data": {
      "image/png": "[encoded data removed]",
      "text/plain": [
       "<Figure size 640x480 with 1 Axes>"
      ]
     },
     "metadata": {},
     "output_type": "display_data"
    },
    {
     "data": {
      "image/png": "[encoded data removed]",
      "text/plain": [
       "<Figure size 640x480 with 1 Axes>"
      ]
     },
     "metadata": {},
     "output_type": "display_data"
    },
    {
     "name": "stdout",
     "output_type": "stream",
     "text": [
      "z length: 99999, u length: 99999, g length 99999\n"
     ]
    }
   ],
   "source": [
    "z = numvar_df['z'][numvar_df['z']>= 0]\n",
    "u = numvar_df['u'][numvar_df['u']>= 0]\n",
    "g = numvar_df['g'][numvar_df['g']>= 0]\n",
    "\n",
    "lengths = f\"z length: {len(z)}, u length: {len(u)}, g length {len(g)}\"\n",
    "\n",
    "plt.scatter(x = z, y = u, c = g)\n",
    "plt.show()\n",
    "\n",
    "plt.scatter(x = z, y = u)\n",
    "plt.show()\n",
    "\n",
    "plt.scatter(x = z, y = g)\n",
    "plt.show()\n",
    "\n",
    "print(lengths)"
   ]
  },
  {
   "cell_type": "markdown",
   "metadata": {},
   "source": [
    "#### determines the location of the nonsensical values"
   ]
  },
  {
   "cell_type": "code",
   "execution_count": 77,
   "metadata": {},
   "outputs": [
    {
     "name": "stdout",
     "output_type": "stream",
     "text": [
      "the location of the object is at row 79543\n"
     ]
    }
   ],
   "source": [
    "u_loc = df['u'].idxmin()\n",
    "g_loc = df['g'].idxmin()\n",
    "z_loc = df['z'].idxmin()\n",
    "\n",
    "if z_loc == u_loc & z_loc == g_loc:\n",
    "    print(f'the location of the object is at row {u_loc}')\n"
   ]
  },
  {
   "cell_type": "markdown",
   "metadata": {},
   "source": [
    "#### Review:\n",
    "This notebook provided information about what objects correlate with each other. This is valuable in determining what attribute will make redundant contributions to our eventual models. It also performed some initial outlier analysis but did not create a threshold for making the determination of what values will be considered outliers and only identified one outlier. Relative to the second boxplot, there may be other outlier candidates. But it might be good to consider this across all of the attributes of the data objects."
   ]
  }
 ],
 "metadata": {
  "kernelspec": {
   "display_name": "base",
   "language": "python",
   "name": "python3"
  },
  "language_info": {
   "codemirror_mode": {
    "name": "ipython",
    "version": 3
   },
   "file_extension": ".py",
   "mimetype": "text/x-python",
   "name": "python",
   "nbconvert_exporter": "python",
   "pygments_lexer": "ipython3",
   "version": "3.12.3"
  }
 },
 "nbformat": 4,
 "nbformat_minor": 2
}
